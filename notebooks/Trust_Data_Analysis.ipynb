{
  "nbformat": 4,
  "nbformat_minor": 0,
  "metadata": {
    "colab": {
      "provenance": []
    },
    "kernelspec": {
      "name": "python3",
      "display_name": "Python 3"
    },
    "language_info": {
      "name": "python"
    }
  },
  "cells": [
    {
      "cell_type": "markdown",
      "source": [
        "# Language in Social Context: Bridging NLP and Sociolinguistics (ESSLLI 2024)\n",
        "## Day 1: Trust Data Analysis\n",
        "\n",
        "This exercise's goal is to get familiar with Google Colab and Pandas dataframes. We will use data from Hovy's et al. 2020 \"*You Sound Just Like Your Father Commercial Machine Translation Systems Include Stylistic Biases*\" (https://github.com/MilaNLProc/translation_bias).\n",
        "\n",
        "We will look into:\n",
        "\n",
        "1. Data count\n",
        "2. Droping duplicates and NaN from data\n",
        "3. Visualizing label distribution\n",
        "  - 3.1 Gender label distribution\n",
        "  - 3.2 Age label distribution\n",
        "4. Sentence length\n",
        "  - 4.1 Getting the sentence length for the data\n",
        "  - 4.2 Min and Max sentence length\n",
        "  - 4.3 Top 20 sentence length\n",
        "  - 4.4 Bottom 20 sentence length\n",
        "5. Word count\n",
        "  - 5.1 Get Each Row Word Count\n",
        "  - 5.2 Min and Max word length\n",
        "  - 5.3 Top 20 word length\n",
        "6. Sentiment analysis\n",
        "  - 6.1 Female sentiment distribution\n",
        "  - 6.2 Male sentiment distribution\n",
        "\n",
        "**Your task is to fill in the missing pieces of code.**\n",
        "\n",
        "---\n",
        "\n"
      ],
      "metadata": {
        "id": "8ABW_Q0hE6FJ"
      }
    },
    {
      "cell_type": "markdown",
      "source": [
        "# Install Required Packages\n",
        "*Use \"pip install\" to install the package*"
      ],
      "metadata": {
        "id": "8Nm4Kwps4b9B"
      }
    },
    {
      "cell_type": "code",
      "source": [
        "! pip install datasets"
      ],
      "metadata": {
        "colab": {
          "base_uri": "https://localhost:8080/"
        },
        "collapsed": true,
        "id": "2ly-wAVs4ZRF",
        "outputId": "759efb40-a5b7-4cef-c399-611e86b3703d"
      },
      "execution_count": 49,
      "outputs": [
        {
          "output_type": "stream",
          "name": "stdout",
          "text": [
            "Requirement already satisfied: datasets in /usr/local/lib/python3.10/dist-packages (2.20.0)\n",
            "Requirement already satisfied: filelock in /usr/local/lib/python3.10/dist-packages (from datasets) (3.15.4)\n",
            "Requirement already satisfied: numpy>=1.17 in /usr/local/lib/python3.10/dist-packages (from datasets) (1.26.4)\n",
            "Requirement already satisfied: pyarrow>=15.0.0 in /usr/local/lib/python3.10/dist-packages (from datasets) (17.0.0)\n",
            "Requirement already satisfied: pyarrow-hotfix in /usr/local/lib/python3.10/dist-packages (from datasets) (0.6)\n",
            "Requirement already satisfied: dill<0.3.9,>=0.3.0 in /usr/local/lib/python3.10/dist-packages (from datasets) (0.3.8)\n",
            "Requirement already satisfied: pandas in /usr/local/lib/python3.10/dist-packages (from datasets) (2.1.4)\n",
            "Requirement already satisfied: requests>=2.32.2 in /usr/local/lib/python3.10/dist-packages (from datasets) (2.32.3)\n",
            "Requirement already satisfied: tqdm>=4.66.3 in /usr/local/lib/python3.10/dist-packages (from datasets) (4.66.4)\n",
            "Requirement already satisfied: xxhash in /usr/local/lib/python3.10/dist-packages (from datasets) (3.4.1)\n",
            "Requirement already satisfied: multiprocess in /usr/local/lib/python3.10/dist-packages (from datasets) (0.70.16)\n",
            "Requirement already satisfied: fsspec<=2024.5.0,>=2023.1.0 in /usr/local/lib/python3.10/dist-packages (from fsspec[http]<=2024.5.0,>=2023.1.0->datasets) (2024.5.0)\n",
            "Requirement already satisfied: aiohttp in /usr/local/lib/python3.10/dist-packages (from datasets) (3.9.5)\n",
            "Requirement already satisfied: huggingface-hub>=0.21.2 in /usr/local/lib/python3.10/dist-packages (from datasets) (0.23.5)\n",
            "Requirement already satisfied: packaging in /usr/local/lib/python3.10/dist-packages (from datasets) (24.1)\n",
            "Requirement already satisfied: pyyaml>=5.1 in /usr/local/lib/python3.10/dist-packages (from datasets) (6.0.1)\n",
            "Requirement already satisfied: aiosignal>=1.1.2 in /usr/local/lib/python3.10/dist-packages (from aiohttp->datasets) (1.3.1)\n",
            "Requirement already satisfied: attrs>=17.3.0 in /usr/local/lib/python3.10/dist-packages (from aiohttp->datasets) (23.2.0)\n",
            "Requirement already satisfied: frozenlist>=1.1.1 in /usr/local/lib/python3.10/dist-packages (from aiohttp->datasets) (1.4.1)\n",
            "Requirement already satisfied: multidict<7.0,>=4.5 in /usr/local/lib/python3.10/dist-packages (from aiohttp->datasets) (6.0.5)\n",
            "Requirement already satisfied: yarl<2.0,>=1.0 in /usr/local/lib/python3.10/dist-packages (from aiohttp->datasets) (1.9.4)\n",
            "Requirement already satisfied: async-timeout<5.0,>=4.0 in /usr/local/lib/python3.10/dist-packages (from aiohttp->datasets) (4.0.3)\n",
            "Requirement already satisfied: typing-extensions>=3.7.4.3 in /usr/local/lib/python3.10/dist-packages (from huggingface-hub>=0.21.2->datasets) (4.12.2)\n",
            "Requirement already satisfied: charset-normalizer<4,>=2 in /usr/local/lib/python3.10/dist-packages (from requests>=2.32.2->datasets) (3.3.2)\n",
            "Requirement already satisfied: idna<4,>=2.5 in /usr/local/lib/python3.10/dist-packages (from requests>=2.32.2->datasets) (3.7)\n",
            "Requirement already satisfied: urllib3<3,>=1.21.1 in /usr/local/lib/python3.10/dist-packages (from requests>=2.32.2->datasets) (2.0.7)\n",
            "Requirement already satisfied: certifi>=2017.4.17 in /usr/local/lib/python3.10/dist-packages (from requests>=2.32.2->datasets) (2024.7.4)\n",
            "Requirement already satisfied: python-dateutil>=2.8.2 in /usr/local/lib/python3.10/dist-packages (from pandas->datasets) (2.8.2)\n",
            "Requirement already satisfied: pytz>=2020.1 in /usr/local/lib/python3.10/dist-packages (from pandas->datasets) (2024.1)\n",
            "Requirement already satisfied: tzdata>=2022.1 in /usr/local/lib/python3.10/dist-packages (from pandas->datasets) (2024.1)\n",
            "Requirement already satisfied: six>=1.5 in /usr/local/lib/python3.10/dist-packages (from python-dateutil>=2.8.2->pandas->datasets) (1.16.0)\n"
          ]
        }
      ]
    },
    {
      "cell_type": "markdown",
      "source": [
        "# Load Python Libraries\n"
      ],
      "metadata": {
        "id": "mf6EQtlJ4Z_0"
      }
    },
    {
      "cell_type": "code",
      "execution_count": 50,
      "metadata": {
        "id": "--Z89TIUOFz5"
      },
      "outputs": [],
      "source": [
        "import numpy as np\n",
        "import random\n",
        "import os\n",
        "import datetime\n",
        "import datasets\n",
        "import matplotlib.pyplot as plt\n",
        "import pandas as pd\n",
        "import time\n",
        "import spacy\n"
      ]
    },
    {
      "cell_type": "markdown",
      "source": [
        "# Load Spacy model\n",
        "spaCy is an open-source software library for advanced natural language processing"
      ],
      "metadata": {
        "id": "v0grOhsLAzai"
      }
    },
    {
      "cell_type": "code",
      "source": [
        "nlp = spacy.load(\"en_core_web_sm\")\n"
      ],
      "metadata": {
        "id": "5wN5q-ebA1_w"
      },
      "execution_count": 51,
      "outputs": []
    },
    {
      "cell_type": "markdown",
      "source": [
        "# Load the data"
      ],
      "metadata": {
        "id": "4CrjAM8z4X05"
      }
    },
    {
      "cell_type": "code",
      "source": [
        "# download the Trust data from https://github.com/MilaNLProc/translation_bias.git\n",
        "! git clone https://github.com/MilaNLProc/translation_bias.git"
      ],
      "metadata": {
        "id": "eyynQkCkLwE0",
        "colab": {
          "base_uri": "https://localhost:8080/"
        },
        "outputId": "2d087c5c-0611-41cb-8ee3-1cb5031ced19"
      },
      "execution_count": 52,
      "outputs": [
        {
          "output_type": "stream",
          "name": "stdout",
          "text": [
            "fatal: destination path 'translation_bias' already exists and is not an empty directory.\n"
          ]
        }
      ]
    },
    {
      "cell_type": "code",
      "source": [
        "# TODO: change data directories if you run the code locally\n", 
        "df_train = pd.read_excel(\"/content/translation_bias/data/en_us/en_us_TRAIN.xlsx\")\n",
        "df_test = pd.read_excel(\"/content/translation_bias/data/en_us/en_us_TEST.xlsx\")\n"
      ],
      "metadata": {
        "id": "D9zKnSSnOSrW"
      },
      "execution_count": 53,
      "outputs": []
    },
    {
      "cell_type": "markdown",
      "source": [
        "# View train data"
      ],
      "metadata": {
        "id": "ZSESDTTl4p5P"
      }
    },
    {
      "cell_type": "code",
      "source": [
        "df_train.head() # view top 5 rows\n"
      ],
      "metadata": {
        "colab": {
          "base_uri": "https://localhost:8080/",
          "height": 206
        },
        "id": "9Ql1BOFW4nzS",
        "outputId": "0a762095-3291-4468-c35c-e0d9b0681df5"
      },
      "execution_count": 54,
      "outputs": [
        {
          "output_type": "execute_result",
          "data": {
            "text/plain": [
              "   Unnamed: 0                                               text  age age_cat  \\\n",
              "0         238                      Not the best overall service.   42   25-54   \n",
              "1         239  Since it is the #1 social network however with...   42   25-54   \n",
              "2         240  Not only that you can find anything, but its r...   42   25-54   \n",
              "3         241  I'm always satisfied with their level of servi...   42   25-54   \n",
              "4         242  On time, nice chap and worked like a pro - Ver...   32   25-54   \n",
              "\n",
              "  gender  label  \n",
              "0      M  train  \n",
              "1      M  train  \n",
              "2      M  train  \n",
              "3      M  train  \n",
              "4      M  train  "
            ],
            "text/html": [
              "\n",
              "  <div id=\"df-aca78fd1-8f51-452b-aa3a-24756b1a0da4\" class=\"colab-df-container\">\n",
              "    <div>\n",
              "<style scoped>\n",
              "    .dataframe tbody tr th:only-of-type {\n",
              "        vertical-align: middle;\n",
              "    }\n",
              "\n",
              "    .dataframe tbody tr th {\n",
              "        vertical-align: top;\n",
              "    }\n",
              "\n",
              "    .dataframe thead th {\n",
              "        text-align: right;\n",
              "    }\n",
              "</style>\n",
              "<table border=\"1\" class=\"dataframe\">\n",
              "  <thead>\n",
              "    <tr style=\"text-align: right;\">\n",
              "      <th></th>\n",
              "      <th>Unnamed: 0</th>\n",
              "      <th>text</th>\n",
              "      <th>age</th>\n",
              "      <th>age_cat</th>\n",
              "      <th>gender</th>\n",
              "      <th>label</th>\n",
              "    </tr>\n",
              "  </thead>\n",
              "  <tbody>\n",
              "    <tr>\n",
              "      <th>0</th>\n",
              "      <td>238</td>\n",
              "      <td>Not the best overall service.</td>\n",
              "      <td>42</td>\n",
              "      <td>25-54</td>\n",
              "      <td>M</td>\n",
              "      <td>train</td>\n",
              "    </tr>\n",
              "    <tr>\n",
              "      <th>1</th>\n",
              "      <td>239</td>\n",
              "      <td>Since it is the #1 social network however with...</td>\n",
              "      <td>42</td>\n",
              "      <td>25-54</td>\n",
              "      <td>M</td>\n",
              "      <td>train</td>\n",
              "    </tr>\n",
              "    <tr>\n",
              "      <th>2</th>\n",
              "      <td>240</td>\n",
              "      <td>Not only that you can find anything, but its r...</td>\n",
              "      <td>42</td>\n",
              "      <td>25-54</td>\n",
              "      <td>M</td>\n",
              "      <td>train</td>\n",
              "    </tr>\n",
              "    <tr>\n",
              "      <th>3</th>\n",
              "      <td>241</td>\n",
              "      <td>I'm always satisfied with their level of servi...</td>\n",
              "      <td>42</td>\n",
              "      <td>25-54</td>\n",
              "      <td>M</td>\n",
              "      <td>train</td>\n",
              "    </tr>\n",
              "    <tr>\n",
              "      <th>4</th>\n",
              "      <td>242</td>\n",
              "      <td>On time, nice chap and worked like a pro - Ver...</td>\n",
              "      <td>32</td>\n",
              "      <td>25-54</td>\n",
              "      <td>M</td>\n",
              "      <td>train</td>\n",
              "    </tr>\n",
              "  </tbody>\n",
              "</table>\n",
              "</div>\n",
              "    <div class=\"colab-df-buttons\">\n",
              "\n",
              "  <div class=\"colab-df-container\">\n",
              "    <button class=\"colab-df-convert\" onclick=\"convertToInteractive('df-aca78fd1-8f51-452b-aa3a-24756b1a0da4')\"\n",
              "            title=\"Convert this dataframe to an interactive table.\"\n",
              "            style=\"display:none;\">\n",
              "\n",
              "  <svg xmlns=\"http://www.w3.org/2000/svg\" height=\"24px\" viewBox=\"0 -960 960 960\">\n",
              "    <path d=\"M120-120v-720h720v720H120Zm60-500h600v-160H180v160Zm220 220h160v-160H400v160Zm0 220h160v-160H400v160ZM180-400h160v-160H180v160Zm440 0h160v-160H620v160ZM180-180h160v-160H180v160Zm440 0h160v-160H620v160Z\"/>\n",
              "  </svg>\n",
              "    </button>\n",
              "\n",
              "  <style>\n",
              "    .colab-df-container {\n",
              "      display:flex;\n",
              "      gap: 12px;\n",
              "    }\n",
              "\n",
              "    .colab-df-convert {\n",
              "      background-color: #E8F0FE;\n",
              "      border: none;\n",
              "      border-radius: 50%;\n",
              "      cursor: pointer;\n",
              "      display: none;\n",
              "      fill: #1967D2;\n",
              "      height: 32px;\n",
              "      padding: 0 0 0 0;\n",
              "      width: 32px;\n",
              "    }\n",
              "\n",
              "    .colab-df-convert:hover {\n",
              "      background-color: #E2EBFA;\n",
              "      box-shadow: 0px 1px 2px rgba(60, 64, 67, 0.3), 0px 1px 3px 1px rgba(60, 64, 67, 0.15);\n",
              "      fill: #174EA6;\n",
              "    }\n",
              "\n",
              "    .colab-df-buttons div {\n",
              "      margin-bottom: 4px;\n",
              "    }\n",
              "\n",
              "    [theme=dark] .colab-df-convert {\n",
              "      background-color: #3B4455;\n",
              "      fill: #D2E3FC;\n",
              "    }\n",
              "\n",
              "    [theme=dark] .colab-df-convert:hover {\n",
              "      background-color: #434B5C;\n",
              "      box-shadow: 0px 1px 3px 1px rgba(0, 0, 0, 0.15);\n",
              "      filter: drop-shadow(0px 1px 2px rgba(0, 0, 0, 0.3));\n",
              "      fill: #FFFFFF;\n",
              "    }\n",
              "  </style>\n",
              "\n",
              "    <script>\n",
              "      const buttonEl =\n",
              "        document.querySelector('#df-aca78fd1-8f51-452b-aa3a-24756b1a0da4 button.colab-df-convert');\n",
              "      buttonEl.style.display =\n",
              "        google.colab.kernel.accessAllowed ? 'block' : 'none';\n",
              "\n",
              "      async function convertToInteractive(key) {\n",
              "        const element = document.querySelector('#df-aca78fd1-8f51-452b-aa3a-24756b1a0da4');\n",
              "        const dataTable =\n",
              "          await google.colab.kernel.invokeFunction('convertToInteractive',\n",
              "                                                    [key], {});\n",
              "        if (!dataTable) return;\n",
              "\n",
              "        const docLinkHtml = 'Like what you see? Visit the ' +\n",
              "          '<a target=\"_blank\" href=https://colab.research.google.com/notebooks/data_table.ipynb>data table notebook</a>'\n",
              "          + ' to learn more about interactive tables.';\n",
              "        element.innerHTML = '';\n",
              "        dataTable['output_type'] = 'display_data';\n",
              "        await google.colab.output.renderOutput(dataTable, element);\n",
              "        const docLink = document.createElement('div');\n",
              "        docLink.innerHTML = docLinkHtml;\n",
              "        element.appendChild(docLink);\n",
              "      }\n",
              "    </script>\n",
              "  </div>\n",
              "\n",
              "\n",
              "<div id=\"df-8839a6fd-b7d9-4e63-85fa-5a57463af9af\">\n",
              "  <button class=\"colab-df-quickchart\" onclick=\"quickchart('df-8839a6fd-b7d9-4e63-85fa-5a57463af9af')\"\n",
              "            title=\"Suggest charts\"\n",
              "            style=\"display:none;\">\n",
              "\n",
              "<svg xmlns=\"http://www.w3.org/2000/svg\" height=\"24px\"viewBox=\"0 0 24 24\"\n",
              "     width=\"24px\">\n",
              "    <g>\n",
              "        <path d=\"M19 3H5c-1.1 0-2 .9-2 2v14c0 1.1.9 2 2 2h14c1.1 0 2-.9 2-2V5c0-1.1-.9-2-2-2zM9 17H7v-7h2v7zm4 0h-2V7h2v10zm4 0h-2v-4h2v4z\"/>\n",
              "    </g>\n",
              "</svg>\n",
              "  </button>\n",
              "\n",
              "<style>\n",
              "  .colab-df-quickchart {\n",
              "      --bg-color: #E8F0FE;\n",
              "      --fill-color: #1967D2;\n",
              "      --hover-bg-color: #E2EBFA;\n",
              "      --hover-fill-color: #174EA6;\n",
              "      --disabled-fill-color: #AAA;\n",
              "      --disabled-bg-color: #DDD;\n",
              "  }\n",
              "\n",
              "  [theme=dark] .colab-df-quickchart {\n",
              "      --bg-color: #3B4455;\n",
              "      --fill-color: #D2E3FC;\n",
              "      --hover-bg-color: #434B5C;\n",
              "      --hover-fill-color: #FFFFFF;\n",
              "      --disabled-bg-color: #3B4455;\n",
              "      --disabled-fill-color: #666;\n",
              "  }\n",
              "\n",
              "  .colab-df-quickchart {\n",
              "    background-color: var(--bg-color);\n",
              "    border: none;\n",
              "    border-radius: 50%;\n",
              "    cursor: pointer;\n",
              "    display: none;\n",
              "    fill: var(--fill-color);\n",
              "    height: 32px;\n",
              "    padding: 0;\n",
              "    width: 32px;\n",
              "  }\n",
              "\n",
              "  .colab-df-quickchart:hover {\n",
              "    background-color: var(--hover-bg-color);\n",
              "    box-shadow: 0 1px 2px rgba(60, 64, 67, 0.3), 0 1px 3px 1px rgba(60, 64, 67, 0.15);\n",
              "    fill: var(--button-hover-fill-color);\n",
              "  }\n",
              "\n",
              "  .colab-df-quickchart-complete:disabled,\n",
              "  .colab-df-quickchart-complete:disabled:hover {\n",
              "    background-color: var(--disabled-bg-color);\n",
              "    fill: var(--disabled-fill-color);\n",
              "    box-shadow: none;\n",
              "  }\n",
              "\n",
              "  .colab-df-spinner {\n",
              "    border: 2px solid var(--fill-color);\n",
              "    border-color: transparent;\n",
              "    border-bottom-color: var(--fill-color);\n",
              "    animation:\n",
              "      spin 1s steps(1) infinite;\n",
              "  }\n",
              "\n",
              "  @keyframes spin {\n",
              "    0% {\n",
              "      border-color: transparent;\n",
              "      border-bottom-color: var(--fill-color);\n",
              "      border-left-color: var(--fill-color);\n",
              "    }\n",
              "    20% {\n",
              "      border-color: transparent;\n",
              "      border-left-color: var(--fill-color);\n",
              "      border-top-color: var(--fill-color);\n",
              "    }\n",
              "    30% {\n",
              "      border-color: transparent;\n",
              "      border-left-color: var(--fill-color);\n",
              "      border-top-color: var(--fill-color);\n",
              "      border-right-color: var(--fill-color);\n",
              "    }\n",
              "    40% {\n",
              "      border-color: transparent;\n",
              "      border-right-color: var(--fill-color);\n",
              "      border-top-color: var(--fill-color);\n",
              "    }\n",
              "    60% {\n",
              "      border-color: transparent;\n",
              "      border-right-color: var(--fill-color);\n",
              "    }\n",
              "    80% {\n",
              "      border-color: transparent;\n",
              "      border-right-color: var(--fill-color);\n",
              "      border-bottom-color: var(--fill-color);\n",
              "    }\n",
              "    90% {\n",
              "      border-color: transparent;\n",
              "      border-bottom-color: var(--fill-color);\n",
              "    }\n",
              "  }\n",
              "</style>\n",
              "\n",
              "  <script>\n",
              "    async function quickchart(key) {\n",
              "      const quickchartButtonEl =\n",
              "        document.querySelector('#' + key + ' button');\n",
              "      quickchartButtonEl.disabled = true;  // To prevent multiple clicks.\n",
              "      quickchartButtonEl.classList.add('colab-df-spinner');\n",
              "      try {\n",
              "        const charts = await google.colab.kernel.invokeFunction(\n",
              "            'suggestCharts', [key], {});\n",
              "      } catch (error) {\n",
              "        console.error('Error during call to suggestCharts:', error);\n",
              "      }\n",
              "      quickchartButtonEl.classList.remove('colab-df-spinner');\n",
              "      quickchartButtonEl.classList.add('colab-df-quickchart-complete');\n",
              "    }\n",
              "    (() => {\n",
              "      let quickchartButtonEl =\n",
              "        document.querySelector('#df-8839a6fd-b7d9-4e63-85fa-5a57463af9af button');\n",
              "      quickchartButtonEl.style.display =\n",
              "        google.colab.kernel.accessAllowed ? 'block' : 'none';\n",
              "    })();\n",
              "  </script>\n",
              "</div>\n",
              "\n",
              "    </div>\n",
              "  </div>\n"
            ],
            "application/vnd.google.colaboratory.intrinsic+json": {
              "type": "dataframe",
              "variable_name": "df_train",
              "summary": "{\n  \"name\": \"df_train\",\n  \"rows\": 5004,\n  \"fields\": [\n    {\n      \"column\": \"Unnamed: 0\",\n      \"properties\": {\n        \"dtype\": \"number\",\n        \"std\": 1459,\n        \"min\": 238,\n        \"max\": 5406,\n        \"num_unique_values\": 5004,\n        \"samples\": [\n          783,\n          4127,\n          1018\n        ],\n        \"semantic_type\": \"\",\n        \"description\": \"\"\n      }\n    },\n    {\n      \"column\": \"text\",\n      \"properties\": {\n        \"dtype\": \"string\",\n        \"num_unique_values\": 4989,\n        \"samples\": [\n          \"Bought some Emerica Jeans which were reduced from \\u00a345 to \\u00a312.50, they're amazing value! Delivery was hassle free too,  even at Royal Mail 2nd Class.  Overall, very happy with UrbanSurfer and will definitely shop again from their wide selection of shoes!\",\n          \"Have always been pleased with sales and service. Wish there were more reviews... 9.5 times out of 10 I always buy from here!\",\n          \"I was glad to have come accross this company on the web. They have some great unique items that you don't see in every other store or site. I also called there Customer Service to ask a few questions. They were very helpful and knew what they were talking about. The items I bought were shipped quickly and I received the stuff as decribed. No issues no problems. I am going to buy several of this years Christmas presents here. This is a good company and I would do buisness with them again and recommend them to my friends and family.\"\n        ],\n        \"semantic_type\": \"\",\n        \"description\": \"\"\n      }\n    },\n    {\n      \"column\": \"age\",\n      \"properties\": {\n        \"dtype\": \"number\",\n        \"std\": 18,\n        \"min\": 15,\n        \"max\": 113,\n        \"num_unique_values\": 94,\n        \"samples\": [\n          16,\n          18,\n          71\n        ],\n        \"semantic_type\": \"\",\n        \"description\": \"\"\n      }\n    },\n    {\n      \"column\": \"age_cat\",\n      \"properties\": {\n        \"dtype\": \"category\",\n        \"num_unique_values\": 4,\n        \"samples\": [\n          \"15-24\",\n          \"65+\",\n          \"25-54\"\n        ],\n        \"semantic_type\": \"\",\n        \"description\": \"\"\n      }\n    },\n    {\n      \"column\": \"gender\",\n      \"properties\": {\n        \"dtype\": \"category\",\n        \"num_unique_values\": 2,\n        \"samples\": [\n          \"F\",\n          \"M\"\n        ],\n        \"semantic_type\": \"\",\n        \"description\": \"\"\n      }\n    },\n    {\n      \"column\": \"label\",\n      \"properties\": {\n        \"dtype\": \"category\",\n        \"num_unique_values\": 1,\n        \"samples\": [\n          \"train\"\n        ],\n        \"semantic_type\": \"\",\n        \"description\": \"\"\n      }\n    }\n  ]\n}"
            }
          },
          "metadata": {},
          "execution_count": 54
        }
      ]
    },
    {
      "cell_type": "code",
      "source": [
        "# [TODO] Show the 5 bottom rows of df_train"
      ],
      "metadata": {
        "id": "Z8SfnS9R--CQ"
      },
      "execution_count": 55,
      "outputs": []
    },
    {
      "cell_type": "code",
      "source": [
        "# renaming columns\n",
        "df_train.rename(columns={'label': 'data_for', 'gender': 'label','age_cat':'ageRange'}, inplace=True)\n",
        "df_test.rename(columns={'label': 'data_for', 'gender': 'label','age_cat':'ageRange'}, inplace=True)"
      ],
      "metadata": {
        "id": "w-Qdf2AUXqsn"
      },
      "execution_count": 56,
      "outputs": []
    },
    {
      "cell_type": "code",
      "source": [
        "df_train.head()"
      ],
      "metadata": {
        "id": "3DQQWtepwX80",
        "colab": {
          "base_uri": "https://localhost:8080/",
          "height": 206
        },
        "outputId": "7599f097-b6fa-4504-f571-f7fcded62e04"
      },
      "execution_count": 57,
      "outputs": [
        {
          "output_type": "execute_result",
          "data": {
            "text/plain": [
              "   Unnamed: 0                                               text  age  \\\n",
              "0         238                      Not the best overall service.   42   \n",
              "1         239  Since it is the #1 social network however with...   42   \n",
              "2         240  Not only that you can find anything, but its r...   42   \n",
              "3         241  I'm always satisfied with their level of servi...   42   \n",
              "4         242  On time, nice chap and worked like a pro - Ver...   32   \n",
              "\n",
              "  ageRange label data_for  \n",
              "0    25-54     M    train  \n",
              "1    25-54     M    train  \n",
              "2    25-54     M    train  \n",
              "3    25-54     M    train  \n",
              "4    25-54     M    train  "
            ],
            "text/html": [
              "\n",
              "  <div id=\"df-dc44bbce-45e9-44ed-95e1-f86c97bc70ac\" class=\"colab-df-container\">\n",
              "    <div>\n",
              "<style scoped>\n",
              "    .dataframe tbody tr th:only-of-type {\n",
              "        vertical-align: middle;\n",
              "    }\n",
              "\n",
              "    .dataframe tbody tr th {\n",
              "        vertical-align: top;\n",
              "    }\n",
              "\n",
              "    .dataframe thead th {\n",
              "        text-align: right;\n",
              "    }\n",
              "</style>\n",
              "<table border=\"1\" class=\"dataframe\">\n",
              "  <thead>\n",
              "    <tr style=\"text-align: right;\">\n",
              "      <th></th>\n",
              "      <th>Unnamed: 0</th>\n",
              "      <th>text</th>\n",
              "      <th>age</th>\n",
              "      <th>ageRange</th>\n",
              "      <th>label</th>\n",
              "      <th>data_for</th>\n",
              "    </tr>\n",
              "  </thead>\n",
              "  <tbody>\n",
              "    <tr>\n",
              "      <th>0</th>\n",
              "      <td>238</td>\n",
              "      <td>Not the best overall service.</td>\n",
              "      <td>42</td>\n",
              "      <td>25-54</td>\n",
              "      <td>M</td>\n",
              "      <td>train</td>\n",
              "    </tr>\n",
              "    <tr>\n",
              "      <th>1</th>\n",
              "      <td>239</td>\n",
              "      <td>Since it is the #1 social network however with...</td>\n",
              "      <td>42</td>\n",
              "      <td>25-54</td>\n",
              "      <td>M</td>\n",
              "      <td>train</td>\n",
              "    </tr>\n",
              "    <tr>\n",
              "      <th>2</th>\n",
              "      <td>240</td>\n",
              "      <td>Not only that you can find anything, but its r...</td>\n",
              "      <td>42</td>\n",
              "      <td>25-54</td>\n",
              "      <td>M</td>\n",
              "      <td>train</td>\n",
              "    </tr>\n",
              "    <tr>\n",
              "      <th>3</th>\n",
              "      <td>241</td>\n",
              "      <td>I'm always satisfied with their level of servi...</td>\n",
              "      <td>42</td>\n",
              "      <td>25-54</td>\n",
              "      <td>M</td>\n",
              "      <td>train</td>\n",
              "    </tr>\n",
              "    <tr>\n",
              "      <th>4</th>\n",
              "      <td>242</td>\n",
              "      <td>On time, nice chap and worked like a pro - Ver...</td>\n",
              "      <td>32</td>\n",
              "      <td>25-54</td>\n",
              "      <td>M</td>\n",
              "      <td>train</td>\n",
              "    </tr>\n",
              "  </tbody>\n",
              "</table>\n",
              "</div>\n",
              "    <div class=\"colab-df-buttons\">\n",
              "\n",
              "  <div class=\"colab-df-container\">\n",
              "    <button class=\"colab-df-convert\" onclick=\"convertToInteractive('df-dc44bbce-45e9-44ed-95e1-f86c97bc70ac')\"\n",
              "            title=\"Convert this dataframe to an interactive table.\"\n",
              "            style=\"display:none;\">\n",
              "\n",
              "  <svg xmlns=\"http://www.w3.org/2000/svg\" height=\"24px\" viewBox=\"0 -960 960 960\">\n",
              "    <path d=\"M120-120v-720h720v720H120Zm60-500h600v-160H180v160Zm220 220h160v-160H400v160Zm0 220h160v-160H400v160ZM180-400h160v-160H180v160Zm440 0h160v-160H620v160ZM180-180h160v-160H180v160Zm440 0h160v-160H620v160Z\"/>\n",
              "  </svg>\n",
              "    </button>\n",
              "\n",
              "  <style>\n",
              "    .colab-df-container {\n",
              "      display:flex;\n",
              "      gap: 12px;\n",
              "    }\n",
              "\n",
              "    .colab-df-convert {\n",
              "      background-color: #E8F0FE;\n",
              "      border: none;\n",
              "      border-radius: 50%;\n",
              "      cursor: pointer;\n",
              "      display: none;\n",
              "      fill: #1967D2;\n",
              "      height: 32px;\n",
              "      padding: 0 0 0 0;\n",
              "      width: 32px;\n",
              "    }\n",
              "\n",
              "    .colab-df-convert:hover {\n",
              "      background-color: #E2EBFA;\n",
              "      box-shadow: 0px 1px 2px rgba(60, 64, 67, 0.3), 0px 1px 3px 1px rgba(60, 64, 67, 0.15);\n",
              "      fill: #174EA6;\n",
              "    }\n",
              "\n",
              "    .colab-df-buttons div {\n",
              "      margin-bottom: 4px;\n",
              "    }\n",
              "\n",
              "    [theme=dark] .colab-df-convert {\n",
              "      background-color: #3B4455;\n",
              "      fill: #D2E3FC;\n",
              "    }\n",
              "\n",
              "    [theme=dark] .colab-df-convert:hover {\n",
              "      background-color: #434B5C;\n",
              "      box-shadow: 0px 1px 3px 1px rgba(0, 0, 0, 0.15);\n",
              "      filter: drop-shadow(0px 1px 2px rgba(0, 0, 0, 0.3));\n",
              "      fill: #FFFFFF;\n",
              "    }\n",
              "  </style>\n",
              "\n",
              "    <script>\n",
              "      const buttonEl =\n",
              "        document.querySelector('#df-dc44bbce-45e9-44ed-95e1-f86c97bc70ac button.colab-df-convert');\n",
              "      buttonEl.style.display =\n",
              "        google.colab.kernel.accessAllowed ? 'block' : 'none';\n",
              "\n",
              "      async function convertToInteractive(key) {\n",
              "        const element = document.querySelector('#df-dc44bbce-45e9-44ed-95e1-f86c97bc70ac');\n",
              "        const dataTable =\n",
              "          await google.colab.kernel.invokeFunction('convertToInteractive',\n",
              "                                                    [key], {});\n",
              "        if (!dataTable) return;\n",
              "\n",
              "        const docLinkHtml = 'Like what you see? Visit the ' +\n",
              "          '<a target=\"_blank\" href=https://colab.research.google.com/notebooks/data_table.ipynb>data table notebook</a>'\n",
              "          + ' to learn more about interactive tables.';\n",
              "        element.innerHTML = '';\n",
              "        dataTable['output_type'] = 'display_data';\n",
              "        await google.colab.output.renderOutput(dataTable, element);\n",
              "        const docLink = document.createElement('div');\n",
              "        docLink.innerHTML = docLinkHtml;\n",
              "        element.appendChild(docLink);\n",
              "      }\n",
              "    </script>\n",
              "  </div>\n",
              "\n",
              "\n",
              "<div id=\"df-c7661a57-4c8a-4dcb-956d-5894da7ced37\">\n",
              "  <button class=\"colab-df-quickchart\" onclick=\"quickchart('df-c7661a57-4c8a-4dcb-956d-5894da7ced37')\"\n",
              "            title=\"Suggest charts\"\n",
              "            style=\"display:none;\">\n",
              "\n",
              "<svg xmlns=\"http://www.w3.org/2000/svg\" height=\"24px\"viewBox=\"0 0 24 24\"\n",
              "     width=\"24px\">\n",
              "    <g>\n",
              "        <path d=\"M19 3H5c-1.1 0-2 .9-2 2v14c0 1.1.9 2 2 2h14c1.1 0 2-.9 2-2V5c0-1.1-.9-2-2-2zM9 17H7v-7h2v7zm4 0h-2V7h2v10zm4 0h-2v-4h2v4z\"/>\n",
              "    </g>\n",
              "</svg>\n",
              "  </button>\n",
              "\n",
              "<style>\n",
              "  .colab-df-quickchart {\n",
              "      --bg-color: #E8F0FE;\n",
              "      --fill-color: #1967D2;\n",
              "      --hover-bg-color: #E2EBFA;\n",
              "      --hover-fill-color: #174EA6;\n",
              "      --disabled-fill-color: #AAA;\n",
              "      --disabled-bg-color: #DDD;\n",
              "  }\n",
              "\n",
              "  [theme=dark] .colab-df-quickchart {\n",
              "      --bg-color: #3B4455;\n",
              "      --fill-color: #D2E3FC;\n",
              "      --hover-bg-color: #434B5C;\n",
              "      --hover-fill-color: #FFFFFF;\n",
              "      --disabled-bg-color: #3B4455;\n",
              "      --disabled-fill-color: #666;\n",
              "  }\n",
              "\n",
              "  .colab-df-quickchart {\n",
              "    background-color: var(--bg-color);\n",
              "    border: none;\n",
              "    border-radius: 50%;\n",
              "    cursor: pointer;\n",
              "    display: none;\n",
              "    fill: var(--fill-color);\n",
              "    height: 32px;\n",
              "    padding: 0;\n",
              "    width: 32px;\n",
              "  }\n",
              "\n",
              "  .colab-df-quickchart:hover {\n",
              "    background-color: var(--hover-bg-color);\n",
              "    box-shadow: 0 1px 2px rgba(60, 64, 67, 0.3), 0 1px 3px 1px rgba(60, 64, 67, 0.15);\n",
              "    fill: var(--button-hover-fill-color);\n",
              "  }\n",
              "\n",
              "  .colab-df-quickchart-complete:disabled,\n",
              "  .colab-df-quickchart-complete:disabled:hover {\n",
              "    background-color: var(--disabled-bg-color);\n",
              "    fill: var(--disabled-fill-color);\n",
              "    box-shadow: none;\n",
              "  }\n",
              "\n",
              "  .colab-df-spinner {\n",
              "    border: 2px solid var(--fill-color);\n",
              "    border-color: transparent;\n",
              "    border-bottom-color: var(--fill-color);\n",
              "    animation:\n",
              "      spin 1s steps(1) infinite;\n",
              "  }\n",
              "\n",
              "  @keyframes spin {\n",
              "    0% {\n",
              "      border-color: transparent;\n",
              "      border-bottom-color: var(--fill-color);\n",
              "      border-left-color: var(--fill-color);\n",
              "    }\n",
              "    20% {\n",
              "      border-color: transparent;\n",
              "      border-left-color: var(--fill-color);\n",
              "      border-top-color: var(--fill-color);\n",
              "    }\n",
              "    30% {\n",
              "      border-color: transparent;\n",
              "      border-left-color: var(--fill-color);\n",
              "      border-top-color: var(--fill-color);\n",
              "      border-right-color: var(--fill-color);\n",
              "    }\n",
              "    40% {\n",
              "      border-color: transparent;\n",
              "      border-right-color: var(--fill-color);\n",
              "      border-top-color: var(--fill-color);\n",
              "    }\n",
              "    60% {\n",
              "      border-color: transparent;\n",
              "      border-right-color: var(--fill-color);\n",
              "    }\n",
              "    80% {\n",
              "      border-color: transparent;\n",
              "      border-right-color: var(--fill-color);\n",
              "      border-bottom-color: var(--fill-color);\n",
              "    }\n",
              "    90% {\n",
              "      border-color: transparent;\n",
              "      border-bottom-color: var(--fill-color);\n",
              "    }\n",
              "  }\n",
              "</style>\n",
              "\n",
              "  <script>\n",
              "    async function quickchart(key) {\n",
              "      const quickchartButtonEl =\n",
              "        document.querySelector('#' + key + ' button');\n",
              "      quickchartButtonEl.disabled = true;  // To prevent multiple clicks.\n",
              "      quickchartButtonEl.classList.add('colab-df-spinner');\n",
              "      try {\n",
              "        const charts = await google.colab.kernel.invokeFunction(\n",
              "            'suggestCharts', [key], {});\n",
              "      } catch (error) {\n",
              "        console.error('Error during call to suggestCharts:', error);\n",
              "      }\n",
              "      quickchartButtonEl.classList.remove('colab-df-spinner');\n",
              "      quickchartButtonEl.classList.add('colab-df-quickchart-complete');\n",
              "    }\n",
              "    (() => {\n",
              "      let quickchartButtonEl =\n",
              "        document.querySelector('#df-c7661a57-4c8a-4dcb-956d-5894da7ced37 button');\n",
              "      quickchartButtonEl.style.display =\n",
              "        google.colab.kernel.accessAllowed ? 'block' : 'none';\n",
              "    })();\n",
              "  </script>\n",
              "</div>\n",
              "\n",
              "    </div>\n",
              "  </div>\n"
            ],
            "application/vnd.google.colaboratory.intrinsic+json": {
              "type": "dataframe",
              "variable_name": "df_train",
              "summary": "{\n  \"name\": \"df_train\",\n  \"rows\": 5004,\n  \"fields\": [\n    {\n      \"column\": \"Unnamed: 0\",\n      \"properties\": {\n        \"dtype\": \"number\",\n        \"std\": 1459,\n        \"min\": 238,\n        \"max\": 5406,\n        \"num_unique_values\": 5004,\n        \"samples\": [\n          783,\n          4127,\n          1018\n        ],\n        \"semantic_type\": \"\",\n        \"description\": \"\"\n      }\n    },\n    {\n      \"column\": \"text\",\n      \"properties\": {\n        \"dtype\": \"string\",\n        \"num_unique_values\": 4989,\n        \"samples\": [\n          \"Bought some Emerica Jeans which were reduced from \\u00a345 to \\u00a312.50, they're amazing value! Delivery was hassle free too,  even at Royal Mail 2nd Class.  Overall, very happy with UrbanSurfer and will definitely shop again from their wide selection of shoes!\",\n          \"Have always been pleased with sales and service. Wish there were more reviews... 9.5 times out of 10 I always buy from here!\",\n          \"I was glad to have come accross this company on the web. They have some great unique items that you don't see in every other store or site. I also called there Customer Service to ask a few questions. They were very helpful and knew what they were talking about. The items I bought were shipped quickly and I received the stuff as decribed. No issues no problems. I am going to buy several of this years Christmas presents here. This is a good company and I would do buisness with them again and recommend them to my friends and family.\"\n        ],\n        \"semantic_type\": \"\",\n        \"description\": \"\"\n      }\n    },\n    {\n      \"column\": \"age\",\n      \"properties\": {\n        \"dtype\": \"number\",\n        \"std\": 18,\n        \"min\": 15,\n        \"max\": 113,\n        \"num_unique_values\": 94,\n        \"samples\": [\n          16,\n          18,\n          71\n        ],\n        \"semantic_type\": \"\",\n        \"description\": \"\"\n      }\n    },\n    {\n      \"column\": \"ageRange\",\n      \"properties\": {\n        \"dtype\": \"category\",\n        \"num_unique_values\": 4,\n        \"samples\": [\n          \"15-24\",\n          \"65+\",\n          \"25-54\"\n        ],\n        \"semantic_type\": \"\",\n        \"description\": \"\"\n      }\n    },\n    {\n      \"column\": \"label\",\n      \"properties\": {\n        \"dtype\": \"category\",\n        \"num_unique_values\": 2,\n        \"samples\": [\n          \"F\",\n          \"M\"\n        ],\n        \"semantic_type\": \"\",\n        \"description\": \"\"\n      }\n    },\n    {\n      \"column\": \"data_for\",\n      \"properties\": {\n        \"dtype\": \"category\",\n        \"num_unique_values\": 1,\n        \"samples\": [\n          \"train\"\n        ],\n        \"semantic_type\": \"\",\n        \"description\": \"\"\n      }\n    }\n  ]\n}"
            }
          },
          "metadata": {},
          "execution_count": 57
        }
      ]
    },
    {
      "cell_type": "markdown",
      "source": [
        "# 1. Data Count"
      ],
      "metadata": {
        "id": "LbtHq8y3SRk-"
      }
    },
    {
      "cell_type": "code",
      "source": [
        "print(\"Train Data count:\", len(df_train))\n",
        "print(\"Test Data count:\", len(df_test))"
      ],
      "metadata": {
        "colab": {
          "base_uri": "https://localhost:8080/"
        },
        "id": "rYWrARAwSRwB",
        "outputId": "357ead40-7d43-4b42-f78e-bafe92bc1074"
      },
      "execution_count": 58,
      "outputs": [
        {
          "output_type": "stream",
          "name": "stdout",
          "text": [
            "Train Data count: 5004\n",
            "Test Data count: 403\n"
          ]
        }
      ]
    },
    {
      "cell_type": "markdown",
      "source": [
        "# 2. Drop duplicates and NaN from Train data\n",
        "Since we will be using the train data to train the model, it's best to drop the duplicates."
      ],
      "metadata": {
        "id": "0ZMutYtX4zka"
      }
    },
    {
      "cell_type": "code",
      "source": [
        "print(\"Before dropping:\")\n",
        "print(len(df_train))\n",
        "df_train.isnull().values.any()\n",
        "df_train = df_train.drop_duplicates()\n",
        "df_train = df_train[df_train['text'].notna()]\n",
        "\n",
        "\n",
        "print(\"After dropping:\")\n",
        "print(len(df_train))\n"
      ],
      "metadata": {
        "colab": {
          "base_uri": "https://localhost:8080/"
        },
        "id": "mYPWaMq441Yu",
        "outputId": "dc31ccf4-8b22-4070-bf66-33174756ac86"
      },
      "execution_count": 59,
      "outputs": [
        {
          "output_type": "stream",
          "name": "stdout",
          "text": [
            "Before dropping:\n",
            "5004\n",
            "After dropping:\n",
            "4996\n"
          ]
        }
      ]
    },
    {
      "cell_type": "markdown",
      "source": [
        "\n",
        "> **Note after running the above cell:** It drops the duplicates row from the data. (If table includes duplicates) Here we notice that the data doesn't have any duplicates."
      ],
      "metadata": {
        "id": "v5lW4uVH6Flk"
      }
    },
    {
      "cell_type": "markdown",
      "source": [
        "# 3. Label distribution"
      ],
      "metadata": {
        "id": "OMA72N_g4sFv"
      }
    },
    {
      "cell_type": "markdown",
      "source": [
        "### 3.1 Gender Label Distribution"
      ],
      "metadata": {
        "id": "eQQsFVhhIK7T"
      }
    },
    {
      "cell_type": "code",
      "source": [
        "df_train[\"label\"].value_counts()"
      ],
      "metadata": {
        "colab": {
          "base_uri": "https://localhost:8080/",
          "height": 178
        },
        "id": "zuGXdtW54sbR",
        "outputId": "12cd55f5-4af6-4450-ab0b-66df80124e67"
      },
      "execution_count": 60,
      "outputs": [
        {
          "output_type": "execute_result",
          "data": {
            "text/plain": [
              "label\n",
              "F    2501\n",
              "M    2495\n",
              "Name: count, dtype: int64"
            ],
            "text/html": [
              "<table border=\"1\" class=\"dataframe\">\n",
              "  <thead>\n",
              "    <tr style=\"text-align: right;\">\n",
              "      <th></th>\n",
              "      <th>count</th>\n",
              "    </tr>\n",
              "    <tr>\n",
              "      <th>label</th>\n",
              "      <th></th>\n",
              "    </tr>\n",
              "  </thead>\n",
              "  <tbody>\n",
              "    <tr>\n",
              "      <th>F</th>\n",
              "      <td>2501</td>\n",
              "    </tr>\n",
              "    <tr>\n",
              "      <th>M</th>\n",
              "      <td>2495</td>\n",
              "    </tr>\n",
              "  </tbody>\n",
              "</table><br><label><b>dtype:</b> int64</label>"
            ]
          },
          "metadata": {},
          "execution_count": 60
        }
      ]
    },
    {
      "cell_type": "markdown",
      "source": [
        "\n",
        "\n",
        "> Visualizing the above values\n",
        "\n"
      ],
      "metadata": {
        "id": "FLrhzi7fB7hl"
      }
    },
    {
      "cell_type": "code",
      "source": [
        "df_train.label.value_counts().sort_index(ascending=True).plot(kind='bar')\n",
        "plt.xlabel(\"Label\")\n",
        "plt.ylabel(\"Data Count\")\n",
        "plt.title('Gender Label Distribution')\n",
        "plt.show()"
      ],
      "metadata": {
        "colab": {
          "base_uri": "https://localhost:8080/",
          "height": 470
        },
        "id": "JXZkv4za44FB",
        "outputId": "248c715a-c9fb-4c1c-984a-2812c675ea72"
      },
      "execution_count": 61,
      "outputs": [
        {
          "output_type": "display_data",
          "data": {
            "text/plain": [
              "<Figure size 640x480 with 1 Axes>"
            ],
            "image/png": "[encoded data removed]"
          },
          "metadata": {}
        }
      ]
    },
    {
      "cell_type": "markdown",
      "source": [
        "\n",
        "> <b> Note:</b> As seen in the figure, data is balanced. <br> And there are two labels F and M which is \"Female\" and \"Male\""
      ],
      "metadata": {
        "id": "diQvnasw6khq"
      }
    },
    {
      "cell_type": "markdown",
      "source": [
        "### 3.2 Age Label Distribution"
      ],
      "metadata": {
        "id": "r6I8aAYlIQmq"
      }
    },
    {
      "cell_type": "code",
      "source": [
        "df_train[\"ageRange\"].value_counts()"
      ],
      "metadata": {
        "colab": {
          "base_uri": "https://localhost:8080/",
          "height": 241
        },
        "outputId": "82b6d084-117e-4796-ef58-d9cc829d3182",
        "id": "1V5BFWXLIQmr"
      },
      "execution_count": 62,
      "outputs": [
        {
          "output_type": "execute_result",
          "data": {
            "text/plain": [
              "ageRange\n",
              "25-54    2413\n",
              "65+       981\n",
              "15-24     807\n",
              "55-64     795\n",
              "Name: count, dtype: int64"
            ],
            "text/html": [
              "<table border=\"1\" class=\"dataframe\">\n",
              "  <thead>\n",
              "    <tr style=\"text-align: right;\">\n",
              "      <th></th>\n",
              "      <th>count</th>\n",
              "    </tr>\n",
              "    <tr>\n",
              "      <th>ageRange</th>\n",
              "      <th></th>\n",
              "    </tr>\n",
              "  </thead>\n",
              "  <tbody>\n",
              "    <tr>\n",
              "      <th>25-54</th>\n",
              "      <td>2413</td>\n",
              "    </tr>\n",
              "    <tr>\n",
              "      <th>65+</th>\n",
              "      <td>981</td>\n",
              "    </tr>\n",
              "    <tr>\n",
              "      <th>15-24</th>\n",
              "      <td>807</td>\n",
              "    </tr>\n",
              "    <tr>\n",
              "      <th>55-64</th>\n",
              "      <td>795</td>\n",
              "    </tr>\n",
              "  </tbody>\n",
              "</table><br><label><b>dtype:</b> int64</label>"
            ]
          },
          "metadata": {},
          "execution_count": 62
        }
      ]
    },
    {
      "cell_type": "markdown",
      "source": [
        "\n",
        "\n",
        "> Visualizing the above values\n",
        "\n"
      ],
      "metadata": {
        "id": "KmjfaqqWIQmr"
      }
    },
    {
      "cell_type": "code",
      "source": [
        "# TODO: Based on the code for gender, visualize the age distribution in the data"
      ],
      "metadata": {
        "id": "NW97GSMUIQmr"
      },
      "execution_count": 63,
      "outputs": []
    },
    {
      "cell_type": "markdown",
      "source": [
        "\n",
        "> <b> Note:</b> You should see in the figure that there are four labels: 15-24, 25-54, 55-64, 65+. Moreover, the data is imbalanced, e.g, number of data points for 25-54 is way higher compared to other labels.<br>\n",
        "\n",
        "> Add blockquote\n",
        "\n"
      ],
      "metadata": {
        "id": "ov7ymN7BIQms"
      }
    },
    {
      "cell_type": "markdown",
      "source": [
        "# 4. Sentence Length\n",
        "Note on library: <br>\n",
        "<b>NLTK library</b> is faster but has issues in tokenizing sentences. <br> Example: \"Use a pen to write (only black pen.).\" and nltk sentence tokenizer returns a list of 2 sentences ['Use a pen to write (only black pen.', ').']\n",
        "<br>\n",
        "<br>\n",
        "<b>Spacy</b> is slow but handles such text as it returned 1 sentence ['Use a pen to write (only black pen.).']\n",
        "\n"
      ],
      "metadata": {
        "id": "JzcNAT-q8pxw"
      }
    },
    {
      "cell_type": "code",
      "source": [
        "def sent_len(text):\n",
        "  doc = nlp(text)\n",
        "  sents_list = [sent.text for sent in doc.sents]\n",
        "  return len(sents_list)\n"
      ],
      "metadata": {
        "id": "POylnh-J55-h"
      },
      "execution_count": 64,
      "outputs": []
    },
    {
      "cell_type": "markdown",
      "source": [
        "### 4.1. Getting the sentence length for the data\n",
        "**NOTE:** it takes approx 2 minutes to run this cell"
      ],
      "metadata": {
        "id": "Ps3EXs6Kwm1A"
      }
    },
    {
      "cell_type": "code",
      "source": [
        "import time\n",
        "st = time.time()\n",
        "df_train[\"text_sent_count\"] = df_train[\"text\"].apply(sent_len)\n",
        "en = time.time()\n",
        "print(en-st)\n",
        "df_train.head(2)"
      ],
      "metadata": {
        "colab": {
          "base_uri": "https://localhost:8080/",
          "height": 130
        },
        "id": "3BVgDISQ9bDv",
        "outputId": "145936bf-f527-49a7-926f-df4f2efeebb1"
      },
      "execution_count": 65,
      "outputs": [
        {
          "output_type": "stream",
          "name": "stdout",
          "text": [
            "98.59032917022705\n"
          ]
        },
        {
          "output_type": "execute_result",
          "data": {
            "text/plain": [
              "   Unnamed: 0                                               text  age  \\\n",
              "0         238                      Not the best overall service.   42   \n",
              "1         239  Since it is the #1 social network however with...   42   \n",
              "\n",
              "  ageRange label data_for  text_sent_count  \n",
              "0    25-54     M    train                1  \n",
              "1    25-54     M    train                1  "
            ],
            "text/html": [
              "\n",
              "  <div id=\"df-787b0af3-535a-4bd2-bb57-90ce913fa3c1\" class=\"colab-df-container\">\n",
              "    <div>\n",
              "<style scoped>\n",
              "    .dataframe tbody tr th:only-of-type {\n",
              "        vertical-align: middle;\n",
              "    }\n",
              "\n",
              "    .dataframe tbody tr th {\n",
              "        vertical-align: top;\n",
              "    }\n",
              "\n",
              "    .dataframe thead th {\n",
              "        text-align: right;\n",
              "    }\n",
              "</style>\n",
              "<table border=\"1\" class=\"dataframe\">\n",
              "  <thead>\n",
              "    <tr style=\"text-align: right;\">\n",
              "      <th></th>\n",
              "      <th>Unnamed: 0</th>\n",
              "      <th>text</th>\n",
              "      <th>age</th>\n",
              "      <th>ageRange</th>\n",
              "      <th>label</th>\n",
              "      <th>data_for</th>\n",
              "      <th>text_sent_count</th>\n",
              "    </tr>\n",
              "  </thead>\n",
              "  <tbody>\n",
              "    <tr>\n",
              "      <th>0</th>\n",
              "      <td>238</td>\n",
              "      <td>Not the best overall service.</td>\n",
              "      <td>42</td>\n",
              "      <td>25-54</td>\n",
              "      <td>M</td>\n",
              "      <td>train</td>\n",
              "      <td>1</td>\n",
              "    </tr>\n",
              "    <tr>\n",
              "      <th>1</th>\n",
              "      <td>239</td>\n",
              "      <td>Since it is the #1 social network however with...</td>\n",
              "      <td>42</td>\n",
              "      <td>25-54</td>\n",
              "      <td>M</td>\n",
              "      <td>train</td>\n",
              "      <td>1</td>\n",
              "    </tr>\n",
              "  </tbody>\n",
              "</table>\n",
              "</div>\n",
              "    <div class=\"colab-df-buttons\">\n",
              "\n",
              "  <div class=\"colab-df-container\">\n",
              "    <button class=\"colab-df-convert\" onclick=\"convertToInteractive('df-787b0af3-535a-4bd2-bb57-90ce913fa3c1')\"\n",
              "            title=\"Convert this dataframe to an interactive table.\"\n",
              "            style=\"display:none;\">\n",
              "\n",
              "  <svg xmlns=\"http://www.w3.org/2000/svg\" height=\"24px\" viewBox=\"0 -960 960 960\">\n",
              "    <path d=\"M120-120v-720h720v720H120Zm60-500h600v-160H180v160Zm220 220h160v-160H400v160Zm0 220h160v-160H400v160ZM180-400h160v-160H180v160Zm440 0h160v-160H620v160ZM180-180h160v-160H180v160Zm440 0h160v-160H620v160Z\"/>\n",
              "  </svg>\n",
              "    </button>\n",
              "\n",
              "  <style>\n",
              "    .colab-df-container {\n",
              "      display:flex;\n",
              "      gap: 12px;\n",
              "    }\n",
              "\n",
              "    .colab-df-convert {\n",
              "      background-color: #E8F0FE;\n",
              "      border: none;\n",
              "      border-radius: 50%;\n",
              "      cursor: pointer;\n",
              "      display: none;\n",
              "      fill: #1967D2;\n",
              "      height: 32px;\n",
              "      padding: 0 0 0 0;\n",
              "      width: 32px;\n",
              "    }\n",
              "\n",
              "    .colab-df-convert:hover {\n",
              "      background-color: #E2EBFA;\n",
              "      box-shadow: 0px 1px 2px rgba(60, 64, 67, 0.3), 0px 1px 3px 1px rgba(60, 64, 67, 0.15);\n",
              "      fill: #174EA6;\n",
              "    }\n",
              "\n",
              "    .colab-df-buttons div {\n",
              "      margin-bottom: 4px;\n",
              "    }\n",
              "\n",
              "    [theme=dark] .colab-df-convert {\n",
              "      background-color: #3B4455;\n",
              "      fill: #D2E3FC;\n",
              "    }\n",
              "\n",
              "    [theme=dark] .colab-df-convert:hover {\n",
              "      background-color: #434B5C;\n",
              "      box-shadow: 0px 1px 3px 1px rgba(0, 0, 0, 0.15);\n",
              "      filter: drop-shadow(0px 1px 2px rgba(0, 0, 0, 0.3));\n",
              "      fill: #FFFFFF;\n",
              "    }\n",
              "  </style>\n",
              "\n",
              "    <script>\n",
              "      const buttonEl =\n",
              "        document.querySelector('#df-787b0af3-535a-4bd2-bb57-90ce913fa3c1 button.colab-df-convert');\n",
              "      buttonEl.style.display =\n",
              "        google.colab.kernel.accessAllowed ? 'block' : 'none';\n",
              "\n",
              "      async function convertToInteractive(key) {\n",
              "        const element = document.querySelector('#df-787b0af3-535a-4bd2-bb57-90ce913fa3c1');\n",
              "        const dataTable =\n",
              "          await google.colab.kernel.invokeFunction('convertToInteractive',\n",
              "                                                    [key], {});\n",
              "        if (!dataTable) return;\n",
              "\n",
              "        const docLinkHtml = 'Like what you see? Visit the ' +\n",
              "          '<a target=\"_blank\" href=https://colab.research.google.com/notebooks/data_table.ipynb>data table notebook</a>'\n",
              "          + ' to learn more about interactive tables.';\n",
              "        element.innerHTML = '';\n",
              "        dataTable['output_type'] = 'display_data';\n",
              "        await google.colab.output.renderOutput(dataTable, element);\n",
              "        const docLink = document.createElement('div');\n",
              "        docLink.innerHTML = docLinkHtml;\n",
              "        element.appendChild(docLink);\n",
              "      }\n",
              "    </script>\n",
              "  </div>\n",
              "\n",
              "\n",
              "<div id=\"df-ab407646-41b5-414b-96da-1c3a97d46a5d\">\n",
              "  <button class=\"colab-df-quickchart\" onclick=\"quickchart('df-ab407646-41b5-414b-96da-1c3a97d46a5d')\"\n",
              "            title=\"Suggest charts\"\n",
              "            style=\"display:none;\">\n",
              "\n",
              "<svg xmlns=\"http://www.w3.org/2000/svg\" height=\"24px\"viewBox=\"0 0 24 24\"\n",
              "     width=\"24px\">\n",
              "    <g>\n",
              "        <path d=\"M19 3H5c-1.1 0-2 .9-2 2v14c0 1.1.9 2 2 2h14c1.1 0 2-.9 2-2V5c0-1.1-.9-2-2-2zM9 17H7v-7h2v7zm4 0h-2V7h2v10zm4 0h-2v-4h2v4z\"/>\n",
              "    </g>\n",
              "</svg>\n",
              "  </button>\n",
              "\n",
              "<style>\n",
              "  .colab-df-quickchart {\n",
              "      --bg-color: #E8F0FE;\n",
              "      --fill-color: #1967D2;\n",
              "      --hover-bg-color: #E2EBFA;\n",
              "      --hover-fill-color: #174EA6;\n",
              "      --disabled-fill-color: #AAA;\n",
              "      --disabled-bg-color: #DDD;\n",
              "  }\n",
              "\n",
              "  [theme=dark] .colab-df-quickchart {\n",
              "      --bg-color: #3B4455;\n",
              "      --fill-color: #D2E3FC;\n",
              "      --hover-bg-color: #434B5C;\n",
              "      --hover-fill-color: #FFFFFF;\n",
              "      --disabled-bg-color: #3B4455;\n",
              "      --disabled-fill-color: #666;\n",
              "  }\n",
              "\n",
              "  .colab-df-quickchart {\n",
              "    background-color: var(--bg-color);\n",
              "    border: none;\n",
              "    border-radius: 50%;\n",
              "    cursor: pointer;\n",
              "    display: none;\n",
              "    fill: var(--fill-color);\n",
              "    height: 32px;\n",
              "    padding: 0;\n",
              "    width: 32px;\n",
              "  }\n",
              "\n",
              "  .colab-df-quickchart:hover {\n",
              "    background-color: var(--hover-bg-color);\n",
              "    box-shadow: 0 1px 2px rgba(60, 64, 67, 0.3), 0 1px 3px 1px rgba(60, 64, 67, 0.15);\n",
              "    fill: var(--button-hover-fill-color);\n",
              "  }\n",
              "\n",
              "  .colab-df-quickchart-complete:disabled,\n",
              "  .colab-df-quickchart-complete:disabled:hover {\n",
              "    background-color: var(--disabled-bg-color);\n",
              "    fill: var(--disabled-fill-color);\n",
              "    box-shadow: none;\n",
              "  }\n",
              "\n",
              "  .colab-df-spinner {\n",
              "    border: 2px solid var(--fill-color);\n",
              "    border-color: transparent;\n",
              "    border-bottom-color: var(--fill-color);\n",
              "    animation:\n",
              "      spin 1s steps(1) infinite;\n",
              "  }\n",
              "\n",
              "  @keyframes spin {\n",
              "    0% {\n",
              "      border-color: transparent;\n",
              "      border-bottom-color: var(--fill-color);\n",
              "      border-left-color: var(--fill-color);\n",
              "    }\n",
              "    20% {\n",
              "      border-color: transparent;\n",
              "      border-left-color: var(--fill-color);\n",
              "      border-top-color: var(--fill-color);\n",
              "    }\n",
              "    30% {\n",
              "      border-color: transparent;\n",
              "      border-left-color: var(--fill-color);\n",
              "      border-top-color: var(--fill-color);\n",
              "      border-right-color: var(--fill-color);\n",
              "    }\n",
              "    40% {\n",
              "      border-color: transparent;\n",
              "      border-right-color: var(--fill-color);\n",
              "      border-top-color: var(--fill-color);\n",
              "    }\n",
              "    60% {\n",
              "      border-color: transparent;\n",
              "      border-right-color: var(--fill-color);\n",
              "    }\n",
              "    80% {\n",
              "      border-color: transparent;\n",
              "      border-right-color: var(--fill-color);\n",
              "      border-bottom-color: var(--fill-color);\n",
              "    }\n",
              "    90% {\n",
              "      border-color: transparent;\n",
              "      border-bottom-color: var(--fill-color);\n",
              "    }\n",
              "  }\n",
              "</style>\n",
              "\n",
              "  <script>\n",
              "    async function quickchart(key) {\n",
              "      const quickchartButtonEl =\n",
              "        document.querySelector('#' + key + ' button');\n",
              "      quickchartButtonEl.disabled = true;  // To prevent multiple clicks.\n",
              "      quickchartButtonEl.classList.add('colab-df-spinner');\n",
              "      try {\n",
              "        const charts = await google.colab.kernel.invokeFunction(\n",
              "            'suggestCharts', [key], {});\n",
              "      } catch (error) {\n",
              "        console.error('Error during call to suggestCharts:', error);\n",
              "      }\n",
              "      quickchartButtonEl.classList.remove('colab-df-spinner');\n",
              "      quickchartButtonEl.classList.add('colab-df-quickchart-complete');\n",
              "    }\n",
              "    (() => {\n",
              "      let quickchartButtonEl =\n",
              "        document.querySelector('#df-ab407646-41b5-414b-96da-1c3a97d46a5d button');\n",
              "      quickchartButtonEl.style.display =\n",
              "        google.colab.kernel.accessAllowed ? 'block' : 'none';\n",
              "    })();\n",
              "  </script>\n",
              "</div>\n",
              "\n",
              "    </div>\n",
              "  </div>\n"
            ],
            "application/vnd.google.colaboratory.intrinsic+json": {
              "type": "dataframe",
              "variable_name": "df_train",
              "summary": "{\n  \"name\": \"df_train\",\n  \"rows\": 4996,\n  \"fields\": [\n    {\n      \"column\": \"Unnamed: 0\",\n      \"properties\": {\n        \"dtype\": \"number\",\n        \"std\": 1459,\n        \"min\": 238,\n        \"max\": 5406,\n        \"num_unique_values\": 4996,\n        \"samples\": [\n          397,\n          4784,\n          1892\n        ],\n        \"semantic_type\": \"\",\n        \"description\": \"\"\n      }\n    },\n    {\n      \"column\": \"text\",\n      \"properties\": {\n        \"dtype\": \"string\",\n        \"num_unique_values\": 4989,\n        \"samples\": [\n          \"Bought some Emerica Jeans which were reduced from \\u00a345 to \\u00a312.50, they're amazing value! Delivery was hassle free too,  even at Royal Mail 2nd Class.  Overall, very happy with UrbanSurfer and will definitely shop again from their wide selection of shoes!\",\n          \"Have always been pleased with sales and service. Wish there were more reviews... 9.5 times out of 10 I always buy from here!\",\n          \"I was glad to have come accross this company on the web. They have some great unique items that you don't see in every other store or site. I also called there Customer Service to ask a few questions. They were very helpful and knew what they were talking about. The items I bought were shipped quickly and I received the stuff as decribed. No issues no problems. I am going to buy several of this years Christmas presents here. This is a good company and I would do buisness with them again and recommend them to my friends and family.\"\n        ],\n        \"semantic_type\": \"\",\n        \"description\": \"\"\n      }\n    },\n    {\n      \"column\": \"age\",\n      \"properties\": {\n        \"dtype\": \"number\",\n        \"std\": 18,\n        \"min\": 15,\n        \"max\": 113,\n        \"num_unique_values\": 94,\n        \"samples\": [\n          16,\n          18,\n          71\n        ],\n        \"semantic_type\": \"\",\n        \"description\": \"\"\n      }\n    },\n    {\n      \"column\": \"ageRange\",\n      \"properties\": {\n        \"dtype\": \"category\",\n        \"num_unique_values\": 4,\n        \"samples\": [\n          \"15-24\",\n          \"65+\",\n          \"25-54\"\n        ],\n        \"semantic_type\": \"\",\n        \"description\": \"\"\n      }\n    },\n    {\n      \"column\": \"label\",\n      \"properties\": {\n        \"dtype\": \"category\",\n        \"num_unique_values\": 2,\n        \"samples\": [\n          \"F\",\n          \"M\"\n        ],\n        \"semantic_type\": \"\",\n        \"description\": \"\"\n      }\n    },\n    {\n      \"column\": \"data_for\",\n      \"properties\": {\n        \"dtype\": \"category\",\n        \"num_unique_values\": 1,\n        \"samples\": [\n          \"train\"\n        ],\n        \"semantic_type\": \"\",\n        \"description\": \"\"\n      }\n    },\n    {\n      \"column\": \"text_sent_count\",\n      \"properties\": {\n        \"dtype\": \"number\",\n        \"std\": 3,\n        \"min\": 1,\n        \"max\": 104,\n        \"num_unique_values\": 33,\n        \"samples\": [\n          25\n        ],\n        \"semantic_type\": \"\",\n        \"description\": \"\"\n      }\n    }\n  ]\n}"
            }
          },
          "metadata": {},
          "execution_count": 65
        }
      ]
    },
    {
      "cell_type": "markdown",
      "source": [
        "### 4.2 Min and Max sentence length"
      ],
      "metadata": {
        "id": "RoCJj45J88Mg"
      }
    },
    {
      "cell_type": "code",
      "source": [
        "df_train['text_sent_count'].agg(['min', 'max'])"
      ],
      "metadata": {
        "id": "RUNW4Jzc9uoT",
        "colab": {
          "base_uri": "https://localhost:8080/",
          "height": 147
        },
        "outputId": "7cfc864f-fd78-4e3e-c395-be5fe7695779"
      },
      "execution_count": 66,
      "outputs": [
        {
          "output_type": "execute_result",
          "data": {
            "text/plain": [
              "min      1\n",
              "max    104\n",
              "Name: text_sent_count, dtype: int64"
            ],
            "text/html": [
              "<table border=\"1\" class=\"dataframe\">\n",
              "  <thead>\n",
              "    <tr style=\"text-align: right;\">\n",
              "      <th></th>\n",
              "      <th>text_sent_count</th>\n",
              "    </tr>\n",
              "  </thead>\n",
              "  <tbody>\n",
              "    <tr>\n",
              "      <th>min</th>\n",
              "      <td>1</td>\n",
              "    </tr>\n",
              "    <tr>\n",
              "      <th>max</th>\n",
              "      <td>104</td>\n",
              "    </tr>\n",
              "  </tbody>\n",
              "</table><br><label><b>dtype:</b> int64</label>"
            ]
          },
          "metadata": {},
          "execution_count": 66
        }
      ]
    },
    {
      "cell_type": "code",
      "source": [
        "# TODO: Based on the code above, visualize the disctibution of sentence lenghts."
      ],
      "metadata": {
        "id": "RvjBgh_09Igo"
      },
      "execution_count": 67,
      "outputs": []
    },
    {
      "cell_type": "markdown",
      "source": [
        "<b>Note</b>: from the figure, you should see that the users tend to write shorter reviews."
      ],
      "metadata": {
        "id": "1FsAW22NyA4u"
      }
    },
    {
      "cell_type": "markdown",
      "source": [
        "# 4.3 Top 20 sentence length"
      ],
      "metadata": {
        "id": "6WPYVs6jEF_z"
      }
    },
    {
      "cell_type": "code",
      "source": [
        "\n",
        "x = df_train.text_sent_count.value_counts().sort_index(ascending=True)\n",
        "\n",
        "# sort the values\n",
        "x = x.sort_values(ascending=False)\n",
        "\n",
        "# take top 20\n",
        "x= x[:20]\n",
        "\n",
        "# plot\n",
        "x.plot(kind='bar')\n",
        "plt.xlabel(\"Sentence length\")\n",
        "plt.ylabel(\"Frequency\")\n",
        "plt.title('Top used sentence lengths')\n",
        "\n",
        "plt.show()"
      ],
      "metadata": {
        "colab": {
          "base_uri": "https://localhost:8080/",
          "height": 475
        },
        "outputId": "9ff87f53-9af3-449f-c2fa-0306be2ed0d2",
        "id": "TPkTF1y2EF_0"
      },
      "execution_count": 68,
      "outputs": [
        {
          "output_type": "display_data",
          "data": {
            "text/plain": [
              "<Figure size 640x480 with 1 Axes>"
            ],
            "image/png": "[encoded data removed]"
          },
          "metadata": {}
        }
      ]
    },
    {
      "cell_type": "markdown",
      "source": [
        "# 4.4 Bottom 20 sentence length\n"
      ],
      "metadata": {
        "id": "Sn2GqJRPEW2y"
      }
    },
    {
      "cell_type": "code",
      "source": [
        "# TODO: Based on the code above, visualize the bottom 20 sentence lengths."
      ],
      "metadata": {
        "id": "WeHSVAV_EW2z"
      },
      "execution_count": 69,
      "outputs": []
    },
    {
      "cell_type": "markdown",
      "source": [
        "### 4.5 Let's check rows that have the longest sentence length i.e 104"
      ],
      "metadata": {
        "id": "R95uZJljDSHH"
      }
    },
    {
      "cell_type": "code",
      "source": [
        "df_train[df_train['text_sent_count']==104]"
      ],
      "metadata": {
        "colab": {
          "base_uri": "https://localhost:8080/",
          "height": 81
        },
        "id": "6AHoPhD2DYBp",
        "outputId": "b514f3d6-cf02-45d6-edcb-7c810d10130b"
      },
      "execution_count": 70,
      "outputs": [
        {
          "output_type": "execute_result",
          "data": {
            "text/plain": [
              "      Unnamed: 0                                               text  age  \\\n",
              "4058        4461  BUYER BEWARE !!! How Nissan Of Chesapeake GOT ...   59   \n",
              "\n",
              "     ageRange label data_for  text_sent_count  \n",
              "4058    55-64     M    train              104  "
            ],
            "text/html": [
              "\n",
              "  <div id=\"df-6d38dbd5-0cf7-4356-843a-2d9475481472\" class=\"colab-df-container\">\n",
              "    <div>\n",
              "<style scoped>\n",
              "    .dataframe tbody tr th:only-of-type {\n",
              "        vertical-align: middle;\n",
              "    }\n",
              "\n",
              "    .dataframe tbody tr th {\n",
              "        vertical-align: top;\n",
              "    }\n",
              "\n",
              "    .dataframe thead th {\n",
              "        text-align: right;\n",
              "    }\n",
              "</style>\n",
              "<table border=\"1\" class=\"dataframe\">\n",
              "  <thead>\n",
              "    <tr style=\"text-align: right;\">\n",
              "      <th></th>\n",
              "      <th>Unnamed: 0</th>\n",
              "      <th>text</th>\n",
              "      <th>age</th>\n",
              "      <th>ageRange</th>\n",
              "      <th>label</th>\n",
              "      <th>data_for</th>\n",
              "      <th>text_sent_count</th>\n",
              "    </tr>\n",
              "  </thead>\n",
              "  <tbody>\n",
              "    <tr>\n",
              "      <th>4058</th>\n",
              "      <td>4461</td>\n",
              "      <td>BUYER BEWARE !!! How Nissan Of Chesapeake GOT ...</td>\n",
              "      <td>59</td>\n",
              "      <td>55-64</td>\n",
              "      <td>M</td>\n",
              "      <td>train</td>\n",
              "      <td>104</td>\n",
              "    </tr>\n",
              "  </tbody>\n",
              "</table>\n",
              "</div>\n",
              "    <div class=\"colab-df-buttons\">\n",
              "\n",
              "  <div class=\"colab-df-container\">\n",
              "    <button class=\"colab-df-convert\" onclick=\"convertToInteractive('df-6d38dbd5-0cf7-4356-843a-2d9475481472')\"\n",
              "            title=\"Convert this dataframe to an interactive table.\"\n",
              "            style=\"display:none;\">\n",
              "\n",
              "  <svg xmlns=\"http://www.w3.org/2000/svg\" height=\"24px\" viewBox=\"0 -960 960 960\">\n",
              "    <path d=\"M120-120v-720h720v720H120Zm60-500h600v-160H180v160Zm220 220h160v-160H400v160Zm0 220h160v-160H400v160ZM180-400h160v-160H180v160Zm440 0h160v-160H620v160ZM180-180h160v-160H180v160Zm440 0h160v-160H620v160Z\"/>\n",
              "  </svg>\n",
              "    </button>\n",
              "\n",
              "  <style>\n",
              "    .colab-df-container {\n",
              "      display:flex;\n",
              "      gap: 12px;\n",
              "    }\n",
              "\n",
              "    .colab-df-convert {\n",
              "      background-color: #E8F0FE;\n",
              "      border: none;\n",
              "      border-radius: 50%;\n",
              "      cursor: pointer;\n",
              "      display: none;\n",
              "      fill: #1967D2;\n",
              "      height: 32px;\n",
              "      padding: 0 0 0 0;\n",
              "      width: 32px;\n",
              "    }\n",
              "\n",
              "    .colab-df-convert:hover {\n",
              "      background-color: #E2EBFA;\n",
              "      box-shadow: 0px 1px 2px rgba(60, 64, 67, 0.3), 0px 1px 3px 1px rgba(60, 64, 67, 0.15);\n",
              "      fill: #174EA6;\n",
              "    }\n",
              "\n",
              "    .colab-df-buttons div {\n",
              "      margin-bottom: 4px;\n",
              "    }\n",
              "\n",
              "    [theme=dark] .colab-df-convert {\n",
              "      background-color: #3B4455;\n",
              "      fill: #D2E3FC;\n",
              "    }\n",
              "\n",
              "    [theme=dark] .colab-df-convert:hover {\n",
              "      background-color: #434B5C;\n",
              "      box-shadow: 0px 1px 3px 1px rgba(0, 0, 0, 0.15);\n",
              "      filter: drop-shadow(0px 1px 2px rgba(0, 0, 0, 0.3));\n",
              "      fill: #FFFFFF;\n",
              "    }\n",
              "  </style>\n",
              "\n",
              "    <script>\n",
              "      const buttonEl =\n",
              "        document.querySelector('#df-6d38dbd5-0cf7-4356-843a-2d9475481472 button.colab-df-convert');\n",
              "      buttonEl.style.display =\n",
              "        google.colab.kernel.accessAllowed ? 'block' : 'none';\n",
              "\n",
              "      async function convertToInteractive(key) {\n",
              "        const element = document.querySelector('#df-6d38dbd5-0cf7-4356-843a-2d9475481472');\n",
              "        const dataTable =\n",
              "          await google.colab.kernel.invokeFunction('convertToInteractive',\n",
              "                                                    [key], {});\n",
              "        if (!dataTable) return;\n",
              "\n",
              "        const docLinkHtml = 'Like what you see? Visit the ' +\n",
              "          '<a target=\"_blank\" href=https://colab.research.google.com/notebooks/data_table.ipynb>data table notebook</a>'\n",
              "          + ' to learn more about interactive tables.';\n",
              "        element.innerHTML = '';\n",
              "        dataTable['output_type'] = 'display_data';\n",
              "        await google.colab.output.renderOutput(dataTable, element);\n",
              "        const docLink = document.createElement('div');\n",
              "        docLink.innerHTML = docLinkHtml;\n",
              "        element.appendChild(docLink);\n",
              "      }\n",
              "    </script>\n",
              "  </div>\n",
              "\n",
              "\n",
              "    </div>\n",
              "  </div>\n"
            ],
            "application/vnd.google.colaboratory.intrinsic+json": {
              "type": "dataframe",
              "summary": "{\n  \"name\": \"df_train[df_train['text_sent_count']==104]\",\n  \"rows\": 1,\n  \"fields\": [\n    {\n      \"column\": \"Unnamed: 0\",\n      \"properties\": {\n        \"dtype\": \"number\",\n        \"std\": null,\n        \"min\": 4461,\n        \"max\": 4461,\n        \"num_unique_values\": 1,\n        \"samples\": [\n          4461\n        ],\n        \"semantic_type\": \"\",\n        \"description\": \"\"\n      }\n    },\n    {\n      \"column\": \"text\",\n      \"properties\": {\n        \"dtype\": \"string\",\n        \"num_unique_values\": 1,\n        \"samples\": [\n          \"BUYER BEWARE !!! How Nissan Of Chesapeake GOT AWAY With Charging Me $5K($5,000.00) Above The Sticker Price Of A 2014 Nissan Altima S !!! I Received A Card In The Mail From NOC Telling Me I Owned A 2009 Chrysler 300LX & That My Monthly Payments Were Just $270.00 A Month. They Said They Would Offer 2 Refinance Existing Loan 4 Cheaper Interest Rate Or Trade In My Car Offering Me 10% More Then It Was Worth, Pay Off The Loan, & Give Me A Deal I Could Not Resist On Purchasing A Brand New Car From Them !!! I Called Them & Made An Appointment 4 May 30, 2014 !!! The Sales Team Act As Though They Are Trying Their Best 2 Help U Or Become Your Friends When In Fact What They Are Really Doing Is 2 Get U 2 Drop Your Guard Down So They Can Become Your Worst Enemy & Get As Much Money Out Of U As Possible !!! Here Is How They Conned Me In2 Signing A Binding Contract Paying $200.00 More Each Month 4 The Next 72 Months 4 A Car I Did Not Want !!! Initially I Was Not Even Looking 4 A Brand New Car 2 Purchase But A Used Truck With A 4 Cylinder Engine Since The Car I Owned Had A V-6 Which Used 2 Much Gas !!! It Did Not Take Long 2 Discover Nissan Does Not Even Make A Truck With A 4 Cylinder Engine !!! Then I Was Told I Could Only Receive SPECIAL FINANCING INTEREST RATES & VEHICLE INCENTIVE DISCOUNTS If I Purchased A Brand New Vehicle Such As The Altima !!! I Was Shown What Part Of Their Lot 2 Look Then I Discovered All The Colors Were Mostly White & Black But There Was 1 That Stood Out & It Was Fully Loaded With All The Bells & Whistles So That's The 1 I Chose 2 TEST DRIVE !!! I Was Shocked 2 Discover How This Smaller Vehicle Them My Full Size Chrysler 300 Was Easier 2 Handle & Had A More Comfortable Ride Plus All The Extras 2 Many 2 Mention Here !!! The Sticker Price Was $31K So I Was Quickly Told There Was No way I Would Ever Be Able 2 Afford Monthly Payments !!! Since They Knew I Was Now Hooked On The Exspensive Nissan Altima All I Had 2 Do Was Find A Cheaper Model That I Could Afford Monthly Payments !!! We Had 2 Leave The Dealership & Drive 2 Another Crammed Lot Full Of Vehicles In Order 2 Find An Altima With The Color I Liked !!! I Found A Red Altima That Only Had Hub Caps No Custom Rims & The List Price Was $23K !!! I Dealth With A Salesman & His Manager Who Both Kept Insuring Me How They Would Be Getting Me The Deal Of A Lifetime !!! The Manager Said He Got Me 5.5% Financing Which Was Far Better Then What I Had On The Chrysler 300 When I Purchased That For 8.9 % !!! He Then Said The Payments Would Be   $460.00 A Month Never Mentioning 4 How Long !!! I Told Him That Was 2 High So He Said He Could'nt Get Them Lowered Unless I Put Some Money Down !!! I Told Them I Needed Monthly Payments Below $400.00 Each Month So He Tried Hitting Me Up For $1 Grand Down Which I Said I Could'nt Afford !!! He Then Asked How Much I Could Afford & They Would Simply Hold My Check Until The Funds Were There !!! These Guys Are Masters @ Manipulation, Coersion, & Wearing U Down Until U Give In !!! I Told Them Earlier I Was Diabetic & Had Not Had Anything 2 Eat 4 A Few Hours So My Blood Sugar Was Low So I Guess They Knew They Could Take Advantage Of Me !!! My Initial Appointment Was @ 1:30PM & This Was Now Several Hours Later Around 5-6PM !!! I Told Them I Could Afford $500.00 Check But It Would Not Be Good 4 @ Least 2 More Weeks !!! The Payments Were'nt Reduced Under $400.00 But Remained @ $416.00 A Month !!! No Figures Were Ever Discussed Or Seen During The Entire Negotiation !!! I Told Them I Had Just Been Offered $11k(11,000.00) Alread 4 A Trade In On My 2009 Chrysler 300 From the Exact Same Dealarship I Bought It From Less Then A Year & Half Ago !!! The Car Did Not Have 1 Scratch Or Dent On It & Was In Better Shape Now Then It Was When I Bought It & I Had Not Even Put 10K(10,000) Miles On It !!! The Pay Off Amount Was $12K So I Knew I Would Only Have 2 Make Up For $1k Difference Which Would Be Then Added 2 The Price Of The Altima !!! The Card I Received In The Mail From NOC Also Had A Check For $3k($3,000.00) That Could Be Used 2Wards The Purchase Of A New Car Or Used 2 Lower The Sticker Price So I Thought I Was Set !!! By The Time i Finally Got 2 The Finance Office My Blood Sugar Was So Low I Just Signed Every Paper Thrown In Front Of Me & Said Yes 2 Everything Just 2 Try 2 Get The Hell Out Of There As Soon As I Could So I Could Get Something 2 Eat !!! I Never Left The Dealarship Until Almost DARK Outside Which Was @ Least 7-8 Hours After I 1st Arrived There !!! Nissan Only Offers A 3 Year Warranty On Their New Vehicles So I  Hurriedly Agreed 2 An additional 3 Yrs.Extended Warranty Which Raised The Monthly Car Payments Back Up To $460.00 For The Next 72 Months !!! Gap Insurance Was also Thrown In There Somewhere !!! Again No Figures Or Prices Were Ever Disclosed B4 Or @ The Signing Of The Contract Other Then ONLY The Monthly Payment AMOUNT !!! I Can Not Tell U Just How Sick I was 3 Days Later After I Left Nissan Of Chesapeake & Discovered Just How Much & BAD They Had Screwed Me !!! They Only Allowed Me $8K($8,000.00) Trade In Value On The Chrysler 300 Which Is The Rock Bottom Price Allowed 4 A ROUGH Trade In Not A Prestige Trade In Like I Gave Them !!! This Automatically Put Me Owing The Payoff Amount Of My Chrysler 300 $4k($4,000.00) Instead Of Just $1000.00 If Tghey Had Given Me THe Amount That My Car Was Worth !!! So Now NOC Can Add The Difference 2 The Price Of The Nissan !!! THey Also Charged Me $2k($2,000.00) 4 The Extended Warranty Which Is Added 2 The Sticker price Of The New Car !!! I Was Never Given Any So Called Incentives Or Discounts As Told Earlier & No $3,000.00 Credit Or Discount Was Ever Allowed Or Taken Away From The Sticker Price Either !!! I Guess That $3K Check Written Out 2 Me That Was Included In The Card They Mailed 2 My Home BOUNCED !!! THe Only Thing NOS Did Do Was Allow Me 5.5% Interest Rate On Financing Only Because They Wanted 2 Charge Me $5,000.00 More Then The Sticker Price Of The Vehicle !!! They Have Absolutely Nothing 2 Lose & Everything 2 Gain By CHEATING U By Getting U 2 Sign A Binding Contract That If U Default On The Financer Just Simply Repossess Your Vehicle & U Still Owe The Balance Of The LOAN !!! I Just Want The Public 2 Be Aware Of Nissan Of Chesapeake & How They Will Screw U If U Only Give Them The Chance Or OPPORTUNITY 2 !!!\"\n        ],\n        \"semantic_type\": \"\",\n        \"description\": \"\"\n      }\n    },\n    {\n      \"column\": \"age\",\n      \"properties\": {\n        \"dtype\": \"number\",\n        \"std\": null,\n        \"min\": 59,\n        \"max\": 59,\n        \"num_unique_values\": 1,\n        \"samples\": [\n          59\n        ],\n        \"semantic_type\": \"\",\n        \"description\": \"\"\n      }\n    },\n    {\n      \"column\": \"ageRange\",\n      \"properties\": {\n        \"dtype\": \"string\",\n        \"num_unique_values\": 1,\n        \"samples\": [\n          \"55-64\"\n        ],\n        \"semantic_type\": \"\",\n        \"description\": \"\"\n      }\n    },\n    {\n      \"column\": \"label\",\n      \"properties\": {\n        \"dtype\": \"string\",\n        \"num_unique_values\": 1,\n        \"samples\": [\n          \"M\"\n        ],\n        \"semantic_type\": \"\",\n        \"description\": \"\"\n      }\n    },\n    {\n      \"column\": \"data_for\",\n      \"properties\": {\n        \"dtype\": \"string\",\n        \"num_unique_values\": 1,\n        \"samples\": [\n          \"train\"\n        ],\n        \"semantic_type\": \"\",\n        \"description\": \"\"\n      }\n    },\n    {\n      \"column\": \"text_sent_count\",\n      \"properties\": {\n        \"dtype\": \"number\",\n        \"std\": null,\n        \"min\": 104,\n        \"max\": 104,\n        \"num_unique_values\": 1,\n        \"samples\": [\n          104\n        ],\n        \"semantic_type\": \"\",\n        \"description\": \"\"\n      }\n    }\n  ]\n}"
            }
          },
          "metadata": {},
          "execution_count": 70
        }
      ]
    },
    {
      "cell_type": "code",
      "source": [
        "# View only text\n",
        "list(df_train[df_train['text_sent_count']==104][\"text\"])"
      ],
      "metadata": {
        "colab": {
          "base_uri": "https://localhost:8080/"
        },
        "id": "FOKRXWB6DmgX",
        "outputId": "6584f687-83e2-4541-9479-d01f1367bd42",
        "collapsed": true
      },
      "execution_count": 71,
      "outputs": [
        {
          "output_type": "execute_result",
          "data": {
            "text/plain": [
              "[\"BUYER BEWARE !!! How Nissan Of Chesapeake GOT AWAY With Charging Me $5K($5,000.00) Above The Sticker Price Of A 2014 Nissan Altima S !!! I Received A Card In The Mail From NOC Telling Me I Owned A 2009 Chrysler 300LX & That My Monthly Payments Were Just $270.00 A Month. They Said They Would Offer 2 Refinance Existing Loan 4 Cheaper Interest Rate Or Trade In My Car Offering Me 10% More Then It Was Worth, Pay Off The Loan, & Give Me A Deal I Could Not Resist On Purchasing A Brand New Car From Them !!! I Called Them & Made An Appointment 4 May 30, 2014 !!! The Sales Team Act As Though They Are Trying Their Best 2 Help U Or Become Your Friends When In Fact What They Are Really Doing Is 2 Get U 2 Drop Your Guard Down So They Can Become Your Worst Enemy & Get As Much Money Out Of U As Possible !!! Here Is How They Conned Me In2 Signing A Binding Contract Paying $200.00 More Each Month 4 The Next 72 Months 4 A Car I Did Not Want !!! Initially I Was Not Even Looking 4 A Brand New Car 2 Purchase But A Used Truck With A 4 Cylinder Engine Since The Car I Owned Had A V-6 Which Used 2 Much Gas !!! It Did Not Take Long 2 Discover Nissan Does Not Even Make A Truck With A 4 Cylinder Engine !!! Then I Was Told I Could Only Receive SPECIAL FINANCING INTEREST RATES & VEHICLE INCENTIVE DISCOUNTS If I Purchased A Brand New Vehicle Such As The Altima !!! I Was Shown What Part Of Their Lot 2 Look Then I Discovered All The Colors Were Mostly White & Black But There Was 1 That Stood Out & It Was Fully Loaded With All The Bells & Whistles So That's The 1 I Chose 2 TEST DRIVE !!! I Was Shocked 2 Discover How This Smaller Vehicle Them My Full Size Chrysler 300 Was Easier 2 Handle & Had A More Comfortable Ride Plus All The Extras 2 Many 2 Mention Here !!! The Sticker Price Was $31K So I Was Quickly Told There Was No way I Would Ever Be Able 2 Afford Monthly Payments !!! Since They Knew I Was Now Hooked On The Exspensive Nissan Altima All I Had 2 Do Was Find A Cheaper Model That I Could Afford Monthly Payments !!! We Had 2 Leave The Dealership & Drive 2 Another Crammed Lot Full Of Vehicles In Order 2 Find An Altima With The Color I Liked !!! I Found A Red Altima That Only Had Hub Caps No Custom Rims & The List Price Was $23K !!! I Dealth With A Salesman & His Manager Who Both Kept Insuring Me How They Would Be Getting Me The Deal Of A Lifetime !!! The Manager Said He Got Me 5.5% Financing Which Was Far Better Then What I Had On The Chrysler 300 When I Purchased That For 8.9 % !!! He Then Said The Payments Would Be   $460.00 A Month Never Mentioning 4 How Long !!! I Told Him That Was 2 High So He Said He Could'nt Get Them Lowered Unless I Put Some Money Down !!! I Told Them I Needed Monthly Payments Below $400.00 Each Month So He Tried Hitting Me Up For $1 Grand Down Which I Said I Could'nt Afford !!! He Then Asked How Much I Could Afford & They Would Simply Hold My Check Until The Funds Were There !!! These Guys Are Masters @ Manipulation, Coersion, & Wearing U Down Until U Give In !!! I Told Them Earlier I Was Diabetic & Had Not Had Anything 2 Eat 4 A Few Hours So My Blood Sugar Was Low So I Guess They Knew They Could Take Advantage Of Me !!! My Initial Appointment Was @ 1:30PM & This Was Now Several Hours Later Around 5-6PM !!! I Told Them I Could Afford $500.00 Check But It Would Not Be Good 4 @ Least 2 More Weeks !!! The Payments Were'nt Reduced Under $400.00 But Remained @ $416.00 A Month !!! No Figures Were Ever Discussed Or Seen During The Entire Negotiation !!! I Told Them I Had Just Been Offered $11k(11,000.00) Alread 4 A Trade In On My 2009 Chrysler 300 From the Exact Same Dealarship I Bought It From Less Then A Year & Half Ago !!! The Car Did Not Have 1 Scratch Or Dent On It & Was In Better Shape Now Then It Was When I Bought It & I Had Not Even Put 10K(10,000) Miles On It !!! The Pay Off Amount Was $12K So I Knew I Would Only Have 2 Make Up For $1k Difference Which Would Be Then Added 2 The Price Of The Altima !!! The Card I Received In The Mail From NOC Also Had A Check For $3k($3,000.00) That Could Be Used 2Wards The Purchase Of A New Car Or Used 2 Lower The Sticker Price So I Thought I Was Set !!! By The Time i Finally Got 2 The Finance Office My Blood Sugar Was So Low I Just Signed Every Paper Thrown In Front Of Me & Said Yes 2 Everything Just 2 Try 2 Get The Hell Out Of There As Soon As I Could So I Could Get Something 2 Eat !!! I Never Left The Dealarship Until Almost DARK Outside Which Was @ Least 7-8 Hours After I 1st Arrived There !!! Nissan Only Offers A 3 Year Warranty On Their New Vehicles So I  Hurriedly Agreed 2 An additional 3 Yrs.Extended Warranty Which Raised The Monthly Car Payments Back Up To $460.00 For The Next 72 Months !!! Gap Insurance Was also Thrown In There Somewhere !!! Again No Figures Or Prices Were Ever Disclosed B4 Or @ The Signing Of The Contract Other Then ONLY The Monthly Payment AMOUNT !!! I Can Not Tell U Just How Sick I was 3 Days Later After I Left Nissan Of Chesapeake & Discovered Just How Much & BAD They Had Screwed Me !!! They Only Allowed Me $8K($8,000.00) Trade In Value On The Chrysler 300 Which Is The Rock Bottom Price Allowed 4 A ROUGH Trade In Not A Prestige Trade In Like I Gave Them !!! This Automatically Put Me Owing The Payoff Amount Of My Chrysler 300 $4k($4,000.00) Instead Of Just $1000.00 If Tghey Had Given Me THe Amount That My Car Was Worth !!! So Now NOC Can Add The Difference 2 The Price Of The Nissan !!! THey Also Charged Me $2k($2,000.00) 4 The Extended Warranty Which Is Added 2 The Sticker price Of The New Car !!! I Was Never Given Any So Called Incentives Or Discounts As Told Earlier & No $3,000.00 Credit Or Discount Was Ever Allowed Or Taken Away From The Sticker Price Either !!! I Guess That $3K Check Written Out 2 Me That Was Included In The Card They Mailed 2 My Home BOUNCED !!! THe Only Thing NOS Did Do Was Allow Me 5.5% Interest Rate On Financing Only Because They Wanted 2 Charge Me $5,000.00 More Then The Sticker Price Of The Vehicle !!! They Have Absolutely Nothing 2 Lose & Everything 2 Gain By CHEATING U By Getting U 2 Sign A Binding Contract That If U Default On The Financer Just Simply Repossess Your Vehicle & U Still Owe The Balance Of The LOAN !!! I Just Want The Public 2 Be Aware Of Nissan Of Chesapeake & How They Will Screw U If U Only Give Them The Chance Or OPPORTUNITY 2 !!!\"]"
            ]
          },
          "metadata": {},
          "execution_count": 71
        }
      ]
    },
    {
      "cell_type": "markdown",
      "source": [
        "# 5. Word Count"
      ],
      "metadata": {
        "id": "LKnCSkjQDmi_"
      }
    },
    {
      "cell_type": "markdown",
      "source": [
        "### 5.1 Get Each Row Word Count\n",
        "**This cell takes approx 2 minutes to run**"
      ],
      "metadata": {
        "id": "aYrPt0wgwzoR"
      }
    },
    {
      "cell_type": "code",
      "source": [
        "import time\n",
        "\n",
        "def word_len(text):\n",
        "  doc = nlp(text)\n",
        "  words_list = [token.text for token in doc]\n",
        "  return len(words_list)\n",
        "\n",
        "st = time.time()\n",
        "df_train[\"text_word_count\"] = df_train[\"text\"].apply(word_len)\n",
        "df_train.head(2)"
      ],
      "metadata": {
        "colab": {
          "base_uri": "https://localhost:8080/",
          "height": 112
        },
        "id": "I8Ia3CRxERTx",
        "outputId": "3c40c28e-8a84-4f3e-f658-86457a6d9fbe"
      },
      "execution_count": 72,
      "outputs": [
        {
          "output_type": "execute_result",
          "data": {
            "text/plain": [
              "   Unnamed: 0                                               text  age  \\\n",
              "0         238                      Not the best overall service.   42   \n",
              "1         239  Since it is the #1 social network however with...   42   \n",
              "\n",
              "  ageRange label data_for  text_sent_count  text_word_count  \n",
              "0    25-54     M    train                1                6  \n",
              "1    25-54     M    train                1               53  "
            ],
            "text/html": [
              "\n",
              "  <div id=\"df-f8f9b9a9-8714-45ba-8d86-c2122f1c05fd\" class=\"colab-df-container\">\n",
              "    <div>\n",
              "<style scoped>\n",
              "    .dataframe tbody tr th:only-of-type {\n",
              "        vertical-align: middle;\n",
              "    }\n",
              "\n",
              "    .dataframe tbody tr th {\n",
              "        vertical-align: top;\n",
              "    }\n",
              "\n",
              "    .dataframe thead th {\n",
              "        text-align: right;\n",
              "    }\n",
              "</style>\n",
              "<table border=\"1\" class=\"dataframe\">\n",
              "  <thead>\n",
              "    <tr style=\"text-align: right;\">\n",
              "      <th></th>\n",
              "      <th>Unnamed: 0</th>\n",
              "      <th>text</th>\n",
              "      <th>age</th>\n",
              "      <th>ageRange</th>\n",
              "      <th>label</th>\n",
              "      <th>data_for</th>\n",
              "      <th>text_sent_count</th>\n",
              "      <th>text_word_count</th>\n",
              "    </tr>\n",
              "  </thead>\n",
              "  <tbody>\n",
              "    <tr>\n",
              "      <th>0</th>\n",
              "      <td>238</td>\n",
              "      <td>Not the best overall service.</td>\n",
              "      <td>42</td>\n",
              "      <td>25-54</td>\n",
              "      <td>M</td>\n",
              "      <td>train</td>\n",
              "      <td>1</td>\n",
              "      <td>6</td>\n",
              "    </tr>\n",
              "    <tr>\n",
              "      <th>1</th>\n",
              "      <td>239</td>\n",
              "      <td>Since it is the #1 social network however with...</td>\n",
              "      <td>42</td>\n",
              "      <td>25-54</td>\n",
              "      <td>M</td>\n",
              "      <td>train</td>\n",
              "      <td>1</td>\n",
              "      <td>53</td>\n",
              "    </tr>\n",
              "  </tbody>\n",
              "</table>\n",
              "</div>\n",
              "    <div class=\"colab-df-buttons\">\n",
              "\n",
              "  <div class=\"colab-df-container\">\n",
              "    <button class=\"colab-df-convert\" onclick=\"convertToInteractive('df-f8f9b9a9-8714-45ba-8d86-c2122f1c05fd')\"\n",
              "            title=\"Convert this dataframe to an interactive table.\"\n",
              "            style=\"display:none;\">\n",
              "\n",
              "  <svg xmlns=\"http://www.w3.org/2000/svg\" height=\"24px\" viewBox=\"0 -960 960 960\">\n",
              "    <path d=\"M120-120v-720h720v720H120Zm60-500h600v-160H180v160Zm220 220h160v-160H400v160Zm0 220h160v-160H400v160ZM180-400h160v-160H180v160Zm440 0h160v-160H620v160ZM180-180h160v-160H180v160Zm440 0h160v-160H620v160Z\"/>\n",
              "  </svg>\n",
              "    </button>\n",
              "\n",
              "  <style>\n",
              "    .colab-df-container {\n",
              "      display:flex;\n",
              "      gap: 12px;\n",
              "    }\n",
              "\n",
              "    .colab-df-convert {\n",
              "      background-color: #E8F0FE;\n",
              "      border: none;\n",
              "      border-radius: 50%;\n",
              "      cursor: pointer;\n",
              "      display: none;\n",
              "      fill: #1967D2;\n",
              "      height: 32px;\n",
              "      padding: 0 0 0 0;\n",
              "      width: 32px;\n",
              "    }\n",
              "\n",
              "    .colab-df-convert:hover {\n",
              "      background-color: #E2EBFA;\n",
              "      box-shadow: 0px 1px 2px rgba(60, 64, 67, 0.3), 0px 1px 3px 1px rgba(60, 64, 67, 0.15);\n",
              "      fill: #174EA6;\n",
              "    }\n",
              "\n",
              "    .colab-df-buttons div {\n",
              "      margin-bottom: 4px;\n",
              "    }\n",
              "\n",
              "    [theme=dark] .colab-df-convert {\n",
              "      background-color: #3B4455;\n",
              "      fill: #D2E3FC;\n",
              "    }\n",
              "\n",
              "    [theme=dark] .colab-df-convert:hover {\n",
              "      background-color: #434B5C;\n",
              "      box-shadow: 0px 1px 3px 1px rgba(0, 0, 0, 0.15);\n",
              "      filter: drop-shadow(0px 1px 2px rgba(0, 0, 0, 0.3));\n",
              "      fill: #FFFFFF;\n",
              "    }\n",
              "  </style>\n",
              "\n",
              "    <script>\n",
              "      const buttonEl =\n",
              "        document.querySelector('#df-f8f9b9a9-8714-45ba-8d86-c2122f1c05fd button.colab-df-convert');\n",
              "      buttonEl.style.display =\n",
              "        google.colab.kernel.accessAllowed ? 'block' : 'none';\n",
              "\n",
              "      async function convertToInteractive(key) {\n",
              "        const element = document.querySelector('#df-f8f9b9a9-8714-45ba-8d86-c2122f1c05fd');\n",
              "        const dataTable =\n",
              "          await google.colab.kernel.invokeFunction('convertToInteractive',\n",
              "                                                    [key], {});\n",
              "        if (!dataTable) return;\n",
              "\n",
              "        const docLinkHtml = 'Like what you see? Visit the ' +\n",
              "          '<a target=\"_blank\" href=https://colab.research.google.com/notebooks/data_table.ipynb>data table notebook</a>'\n",
              "          + ' to learn more about interactive tables.';\n",
              "        element.innerHTML = '';\n",
              "        dataTable['output_type'] = 'display_data';\n",
              "        await google.colab.output.renderOutput(dataTable, element);\n",
              "        const docLink = document.createElement('div');\n",
              "        docLink.innerHTML = docLinkHtml;\n",
              "        element.appendChild(docLink);\n",
              "      }\n",
              "    </script>\n",
              "  </div>\n",
              "\n",
              "\n",
              "<div id=\"df-3042de92-2994-41a0-8b80-dc9f85a9f4df\">\n",
              "  <button class=\"colab-df-quickchart\" onclick=\"quickchart('df-3042de92-2994-41a0-8b80-dc9f85a9f4df')\"\n",
              "            title=\"Suggest charts\"\n",
              "            style=\"display:none;\">\n",
              "\n",
              "<svg xmlns=\"http://www.w3.org/2000/svg\" height=\"24px\"viewBox=\"0 0 24 24\"\n",
              "     width=\"24px\">\n",
              "    <g>\n",
              "        <path d=\"M19 3H5c-1.1 0-2 .9-2 2v14c0 1.1.9 2 2 2h14c1.1 0 2-.9 2-2V5c0-1.1-.9-2-2-2zM9 17H7v-7h2v7zm4 0h-2V7h2v10zm4 0h-2v-4h2v4z\"/>\n",
              "    </g>\n",
              "</svg>\n",
              "  </button>\n",
              "\n",
              "<style>\n",
              "  .colab-df-quickchart {\n",
              "      --bg-color: #E8F0FE;\n",
              "      --fill-color: #1967D2;\n",
              "      --hover-bg-color: #E2EBFA;\n",
              "      --hover-fill-color: #174EA6;\n",
              "      --disabled-fill-color: #AAA;\n",
              "      --disabled-bg-color: #DDD;\n",
              "  }\n",
              "\n",
              "  [theme=dark] .colab-df-quickchart {\n",
              "      --bg-color: #3B4455;\n",
              "      --fill-color: #D2E3FC;\n",
              "      --hover-bg-color: #434B5C;\n",
              "      --hover-fill-color: #FFFFFF;\n",
              "      --disabled-bg-color: #3B4455;\n",
              "      --disabled-fill-color: #666;\n",
              "  }\n",
              "\n",
              "  .colab-df-quickchart {\n",
              "    background-color: var(--bg-color);\n",
              "    border: none;\n",
              "    border-radius: 50%;\n",
              "    cursor: pointer;\n",
              "    display: none;\n",
              "    fill: var(--fill-color);\n",
              "    height: 32px;\n",
              "    padding: 0;\n",
              "    width: 32px;\n",
              "  }\n",
              "\n",
              "  .colab-df-quickchart:hover {\n",
              "    background-color: var(--hover-bg-color);\n",
              "    box-shadow: 0 1px 2px rgba(60, 64, 67, 0.3), 0 1px 3px 1px rgba(60, 64, 67, 0.15);\n",
              "    fill: var(--button-hover-fill-color);\n",
              "  }\n",
              "\n",
              "  .colab-df-quickchart-complete:disabled,\n",
              "  .colab-df-quickchart-complete:disabled:hover {\n",
              "    background-color: var(--disabled-bg-color);\n",
              "    fill: var(--disabled-fill-color);\n",
              "    box-shadow: none;\n",
              "  }\n",
              "\n",
              "  .colab-df-spinner {\n",
              "    border: 2px solid var(--fill-color);\n",
              "    border-color: transparent;\n",
              "    border-bottom-color: var(--fill-color);\n",
              "    animation:\n",
              "      spin 1s steps(1) infinite;\n",
              "  }\n",
              "\n",
              "  @keyframes spin {\n",
              "    0% {\n",
              "      border-color: transparent;\n",
              "      border-bottom-color: var(--fill-color);\n",
              "      border-left-color: var(--fill-color);\n",
              "    }\n",
              "    20% {\n",
              "      border-color: transparent;\n",
              "      border-left-color: var(--fill-color);\n",
              "      border-top-color: var(--fill-color);\n",
              "    }\n",
              "    30% {\n",
              "      border-color: transparent;\n",
              "      border-left-color: var(--fill-color);\n",
              "      border-top-color: var(--fill-color);\n",
              "      border-right-color: var(--fill-color);\n",
              "    }\n",
              "    40% {\n",
              "      border-color: transparent;\n",
              "      border-right-color: var(--fill-color);\n",
              "      border-top-color: var(--fill-color);\n",
              "    }\n",
              "    60% {\n",
              "      border-color: transparent;\n",
              "      border-right-color: var(--fill-color);\n",
              "    }\n",
              "    80% {\n",
              "      border-color: transparent;\n",
              "      border-right-color: var(--fill-color);\n",
              "      border-bottom-color: var(--fill-color);\n",
              "    }\n",
              "    90% {\n",
              "      border-color: transparent;\n",
              "      border-bottom-color: var(--fill-color);\n",
              "    }\n",
              "  }\n",
              "</style>\n",
              "\n",
              "  <script>\n",
              "    async function quickchart(key) {\n",
              "      const quickchartButtonEl =\n",
              "        document.querySelector('#' + key + ' button');\n",
              "      quickchartButtonEl.disabled = true;  // To prevent multiple clicks.\n",
              "      quickchartButtonEl.classList.add('colab-df-spinner');\n",
              "      try {\n",
              "        const charts = await google.colab.kernel.invokeFunction(\n",
              "            'suggestCharts', [key], {});\n",
              "      } catch (error) {\n",
              "        console.error('Error during call to suggestCharts:', error);\n",
              "      }\n",
              "      quickchartButtonEl.classList.remove('colab-df-spinner');\n",
              "      quickchartButtonEl.classList.add('colab-df-quickchart-complete');\n",
              "    }\n",
              "    (() => {\n",
              "      let quickchartButtonEl =\n",
              "        document.querySelector('#df-3042de92-2994-41a0-8b80-dc9f85a9f4df button');\n",
              "      quickchartButtonEl.style.display =\n",
              "        google.colab.kernel.accessAllowed ? 'block' : 'none';\n",
              "    })();\n",
              "  </script>\n",
              "</div>\n",
              "\n",
              "    </div>\n",
              "  </div>\n"
            ],
            "application/vnd.google.colaboratory.intrinsic+json": {
              "type": "dataframe",
              "variable_name": "df_train",
              "summary": "{\n  \"name\": \"df_train\",\n  \"rows\": 4996,\n  \"fields\": [\n    {\n      \"column\": \"Unnamed: 0\",\n      \"properties\": {\n        \"dtype\": \"number\",\n        \"std\": 1459,\n        \"min\": 238,\n        \"max\": 5406,\n        \"num_unique_values\": 4996,\n        \"samples\": [\n          397,\n          4784,\n          1892\n        ],\n        \"semantic_type\": \"\",\n        \"description\": \"\"\n      }\n    },\n    {\n      \"column\": \"text\",\n      \"properties\": {\n        \"dtype\": \"string\",\n        \"num_unique_values\": 4989,\n        \"samples\": [\n          \"Bought some Emerica Jeans which were reduced from \\u00a345 to \\u00a312.50, they're amazing value! Delivery was hassle free too,  even at Royal Mail 2nd Class.  Overall, very happy with UrbanSurfer and will definitely shop again from their wide selection of shoes!\",\n          \"Have always been pleased with sales and service. Wish there were more reviews... 9.5 times out of 10 I always buy from here!\",\n          \"I was glad to have come accross this company on the web. They have some great unique items that you don't see in every other store or site. I also called there Customer Service to ask a few questions. They were very helpful and knew what they were talking about. The items I bought were shipped quickly and I received the stuff as decribed. No issues no problems. I am going to buy several of this years Christmas presents here. This is a good company and I would do buisness with them again and recommend them to my friends and family.\"\n        ],\n        \"semantic_type\": \"\",\n        \"description\": \"\"\n      }\n    },\n    {\n      \"column\": \"age\",\n      \"properties\": {\n        \"dtype\": \"number\",\n        \"std\": 18,\n        \"min\": 15,\n        \"max\": 113,\n        \"num_unique_values\": 94,\n        \"samples\": [\n          16,\n          18,\n          71\n        ],\n        \"semantic_type\": \"\",\n        \"description\": \"\"\n      }\n    },\n    {\n      \"column\": \"ageRange\",\n      \"properties\": {\n        \"dtype\": \"category\",\n        \"num_unique_values\": 4,\n        \"samples\": [\n          \"15-24\",\n          \"65+\",\n          \"25-54\"\n        ],\n        \"semantic_type\": \"\",\n        \"description\": \"\"\n      }\n    },\n    {\n      \"column\": \"label\",\n      \"properties\": {\n        \"dtype\": \"category\",\n        \"num_unique_values\": 2,\n        \"samples\": [\n          \"F\",\n          \"M\"\n        ],\n        \"semantic_type\": \"\",\n        \"description\": \"\"\n      }\n    },\n    {\n      \"column\": \"data_for\",\n      \"properties\": {\n        \"dtype\": \"category\",\n        \"num_unique_values\": 1,\n        \"samples\": [\n          \"train\"\n        ],\n        \"semantic_type\": \"\",\n        \"description\": \"\"\n      }\n    },\n    {\n      \"column\": \"text_sent_count\",\n      \"properties\": {\n        \"dtype\": \"number\",\n        \"std\": 3,\n        \"min\": 1,\n        \"max\": 104,\n        \"num_unique_values\": 33,\n        \"samples\": [\n          25\n        ],\n        \"semantic_type\": \"\",\n        \"description\": \"\"\n      }\n    },\n    {\n      \"column\": \"text_word_count\",\n      \"properties\": {\n        \"dtype\": \"number\",\n        \"std\": 69,\n        \"min\": 1,\n        \"max\": 1432,\n        \"num_unique_values\": 319,\n        \"samples\": [\n          113\n        ],\n        \"semantic_type\": \"\",\n        \"description\": \"\"\n      }\n    }\n  ]\n}"
            }
          },
          "metadata": {},
          "execution_count": 72
        }
      ]
    },
    {
      "cell_type": "markdown",
      "source": [
        "### 5.2 Min and Max word length"
      ],
      "metadata": {
        "id": "-geLdViXFJjG"
      }
    },
    {
      "cell_type": "code",
      "source": [
        "df_train['text_word_count'].agg(['min', 'max'])"
      ],
      "metadata": {
        "colab": {
          "base_uri": "https://localhost:8080/",
          "height": 147
        },
        "id": "o4mwNKc0FHk2",
        "outputId": "11b4acc4-e508-4f72-c5c2-40d1f6919da8"
      },
      "execution_count": 73,
      "outputs": [
        {
          "output_type": "execute_result",
          "data": {
            "text/plain": [
              "min       1\n",
              "max    1432\n",
              "Name: text_word_count, dtype: int64"
            ],
            "text/html": [
              "<table border=\"1\" class=\"dataframe\">\n",
              "  <thead>\n",
              "    <tr style=\"text-align: right;\">\n",
              "      <th></th>\n",
              "      <th>text_word_count</th>\n",
              "    </tr>\n",
              "  </thead>\n",
              "  <tbody>\n",
              "    <tr>\n",
              "      <th>min</th>\n",
              "      <td>1</td>\n",
              "    </tr>\n",
              "    <tr>\n",
              "      <th>max</th>\n",
              "      <td>1432</td>\n",
              "    </tr>\n",
              "  </tbody>\n",
              "</table><br><label><b>dtype:</b> int64</label>"
            ]
          },
          "metadata": {},
          "execution_count": 73
        }
      ]
    },
    {
      "cell_type": "code",
      "source": [
        "x = df_train.text_word_count.value_counts().sort_index(ascending=True).plot(kind='bar')\n",
        "plt.xlabel(\"Word length\")\n",
        "plt.ylabel(\"Frequency\")\n",
        "plt.title('Most used word length')\n",
        "\n",
        "plt.show()"
      ],
      "metadata": {
        "colab": {
          "base_uri": "https://localhost:8080/",
          "height": 493
        },
        "id": "Ysgjn5xKJ3TC",
        "outputId": "f5f0d1f4-67bd-4b28-d8c0-5a0d3a864ba8"
      },
      "execution_count": 74,
      "outputs": [
        {
          "output_type": "display_data",
          "data": {
            "text/plain": [
              "<Figure size 640x480 with 1 Axes>"
            ],
            "image/png": "[encoded data removed]"
          },
          "metadata": {}
        }
      ]
    },
    {
      "cell_type": "markdown",
      "source": [
        "Note: Since the figure is not clear to understand, Let's take top 20 word counts"
      ],
      "metadata": {
        "id": "-_mCqI4E_KyC"
      }
    },
    {
      "cell_type": "markdown",
      "source": [
        "# 5.3 Top 20 word length"
      ],
      "metadata": {
        "id": "jTKlen7z_WGq"
      }
    },
    {
      "cell_type": "code",
      "source": [
        "\n",
        "# Sort values\n",
        "x = df_train.text_word_count.value_counts().sort_index(ascending=True)\n",
        "x = x.sort_values(ascending=False)\n",
        "\n",
        "# Take top 20\n",
        "x= x[:20]\n",
        "\n",
        "# Plot\n",
        "x.plot(kind='bar')\n",
        "plt.xlabel(\"Word length\")\n",
        "plt.ylabel(\"Frequency\")\n",
        "plt.title('Most used Word length')\n",
        "\n",
        "plt.show()"
      ],
      "metadata": {
        "colab": {
          "base_uri": "https://localhost:8080/",
          "height": 475
        },
        "id": "l-hPu5oW_Ei1",
        "outputId": "0cf815e7-1865-4d21-9462-cec364aefbd2"
      },
      "execution_count": 75,
      "outputs": [
        {
          "output_type": "display_data",
          "data": {
            "text/plain": [
              "<Figure size 640x480 with 1 Axes>"
            ],
            "image/png": "[encoded data removed]"
          },
          "metadata": {}
        }
      ]
    },
    {
      "cell_type": "markdown",
      "source": [
        "Note: from the figure we can see that the top word length is below 35\n"
      ],
      "metadata": {
        "id": "OS8fN8UCAf2T"
      }
    },
    {
      "cell_type": "code",
      "source": [
        "# TODO: Instead of taking the first 20 most frequent word lenghts, plot the length of words in bins of 20 (1-20, 20-40, 40-60, 60+)"
      ],
      "metadata": {
        "id": "HRfu_hO6KeKz"
      },
      "execution_count": 76,
      "outputs": []
    },
    {
      "cell_type": "markdown",
      "source": [
        "# 6. Sentiment Analysis"
      ],
      "metadata": {
        "id": "oFbMi_BszmpE"
      }
    },
    {
      "cell_type": "code",
      "source": [
        "import nltk\n",
        "from nltk.sentiment import SentimentIntensityAnalyzer\n",
        "from wordcloud import WordCloud\n",
        "from collections import Counter\n",
        "\n",
        "nltk.download([\n",
        "    \"stopwords\",\n",
        "    \"vader_lexicon\",\n",
        "    \"punkt\",\n",
        " ])"
      ],
      "metadata": {
        "colab": {
          "base_uri": "https://localhost:8080/"
        },
        "id": "riEmm7Eqzn4R",
        "outputId": "94208599-b1c8-4b6f-f998-8fbf16f9e02b"
      },
      "execution_count": 77,
      "outputs": [
        {
          "output_type": "stream",
          "name": "stderr",
          "text": [
            "[nltk_data] Downloading package stopwords to /root/nltk_data...\n",
            "[nltk_data]   Package stopwords is already up-to-date!\n",
            "[nltk_data] Downloading package vader_lexicon to /root/nltk_data...\n",
            "[nltk_data]   Package vader_lexicon is already up-to-date!\n",
            "[nltk_data] Downloading package punkt to /root/nltk_data...\n",
            "[nltk_data]   Package punkt is already up-to-date!\n"
          ]
        },
        {
          "output_type": "execute_result",
          "data": {
            "text/plain": [
              "True"
            ]
          },
          "metadata": {},
          "execution_count": 77
        }
      ]
    },
    {
      "cell_type": "code",
      "source": [
        "sentiment_model = SentimentIntensityAnalyzer()\n",
        "\n",
        "def return_sentiment(text):\n",
        "  if sentiment_model.polarity_scores(text)[\"compound\"] >= 0: #sentiment as positive when compound value is positive and sentiment as negative when the compound value is negative\n",
        "    return \"positive\"\n",
        "  else:\n",
        "    return \"negative\"\n",
        "\n",
        "df_train[\"sentiment\"] = df_train[\"text\"].apply(return_sentiment)\n",
        "df_train.head()"
      ],
      "metadata": {
        "colab": {
          "base_uri": "https://localhost:8080/",
          "height": 206
        },
        "id": "iasBjcjpz3Td",
        "outputId": "a2104f1d-4961-451a-ca7d-6b25671af262"
      },
      "execution_count": 78,
      "outputs": [
        {
          "output_type": "execute_result",
          "data": {
            "text/plain": [
              "   Unnamed: 0                                               text  age  \\\n",
              "0         238                      Not the best overall service.   42   \n",
              "1         239  Since it is the #1 social network however with...   42   \n",
              "2         240  Not only that you can find anything, but its r...   42   \n",
              "3         241  I'm always satisfied with their level of servi...   42   \n",
              "4         242  On time, nice chap and worked like a pro - Ver...   32   \n",
              "\n",
              "  ageRange label data_for  text_sent_count  text_word_count sentiment  \n",
              "0    25-54     M    train                1                6  negative  \n",
              "1    25-54     M    train                1               53  positive  \n",
              "2    25-54     M    train                1               16  positive  \n",
              "3    25-54     M    train                2               42  positive  \n",
              "4    25-54     M    train                1               17  positive  "
            ],
            "text/html": [
              "\n",
              "  <div id=\"df-c8d28978-b5c4-4183-bb62-57e1f84fb9a2\" class=\"colab-df-container\">\n",
              "    <div>\n",
              "<style scoped>\n",
              "    .dataframe tbody tr th:only-of-type {\n",
              "        vertical-align: middle;\n",
              "    }\n",
              "\n",
              "    .dataframe tbody tr th {\n",
              "        vertical-align: top;\n",
              "    }\n",
              "\n",
              "    .dataframe thead th {\n",
              "        text-align: right;\n",
              "    }\n",
              "</style>\n",
              "<table border=\"1\" class=\"dataframe\">\n",
              "  <thead>\n",
              "    <tr style=\"text-align: right;\">\n",
              "      <th></th>\n",
              "      <th>Unnamed: 0</th>\n",
              "      <th>text</th>\n",
              "      <th>age</th>\n",
              "      <th>ageRange</th>\n",
              "      <th>label</th>\n",
              "      <th>data_for</th>\n",
              "      <th>text_sent_count</th>\n",
              "      <th>text_word_count</th>\n",
              "      <th>sentiment</th>\n",
              "    </tr>\n",
              "  </thead>\n",
              "  <tbody>\n",
              "    <tr>\n",
              "      <th>0</th>\n",
              "      <td>238</td>\n",
              "      <td>Not the best overall service.</td>\n",
              "      <td>42</td>\n",
              "      <td>25-54</td>\n",
              "      <td>M</td>\n",
              "      <td>train</td>\n",
              "      <td>1</td>\n",
              "      <td>6</td>\n",
              "      <td>negative</td>\n",
              "    </tr>\n",
              "    <tr>\n",
              "      <th>1</th>\n",
              "      <td>239</td>\n",
              "      <td>Since it is the #1 social network however with...</td>\n",
              "      <td>42</td>\n",
              "      <td>25-54</td>\n",
              "      <td>M</td>\n",
              "      <td>train</td>\n",
              "      <td>1</td>\n",
              "      <td>53</td>\n",
              "      <td>positive</td>\n",
              "    </tr>\n",
              "    <tr>\n",
              "      <th>2</th>\n",
              "      <td>240</td>\n",
              "      <td>Not only that you can find anything, but its r...</td>\n",
              "      <td>42</td>\n",
              "      <td>25-54</td>\n",
              "      <td>M</td>\n",
              "      <td>train</td>\n",
              "      <td>1</td>\n",
              "      <td>16</td>\n",
              "      <td>positive</td>\n",
              "    </tr>\n",
              "    <tr>\n",
              "      <th>3</th>\n",
              "      <td>241</td>\n",
              "      <td>I'm always satisfied with their level of servi...</td>\n",
              "      <td>42</td>\n",
              "      <td>25-54</td>\n",
              "      <td>M</td>\n",
              "      <td>train</td>\n",
              "      <td>2</td>\n",
              "      <td>42</td>\n",
              "      <td>positive</td>\n",
              "    </tr>\n",
              "    <tr>\n",
              "      <th>4</th>\n",
              "      <td>242</td>\n",
              "      <td>On time, nice chap and worked like a pro - Ver...</td>\n",
              "      <td>32</td>\n",
              "      <td>25-54</td>\n",
              "      <td>M</td>\n",
              "      <td>train</td>\n",
              "      <td>1</td>\n",
              "      <td>17</td>\n",
              "      <td>positive</td>\n",
              "    </tr>\n",
              "  </tbody>\n",
              "</table>\n",
              "</div>\n",
              "    <div class=\"colab-df-buttons\">\n",
              "\n",
              "  <div class=\"colab-df-container\">\n",
              "    <button class=\"colab-df-convert\" onclick=\"convertToInteractive('df-c8d28978-b5c4-4183-bb62-57e1f84fb9a2')\"\n",
              "            title=\"Convert this dataframe to an interactive table.\"\n",
              "            style=\"display:none;\">\n",
              "\n",
              "  <svg xmlns=\"http://www.w3.org/2000/svg\" height=\"24px\" viewBox=\"0 -960 960 960\">\n",
              "    <path d=\"M120-120v-720h720v720H120Zm60-500h600v-160H180v160Zm220 220h160v-160H400v160Zm0 220h160v-160H400v160ZM180-400h160v-160H180v160Zm440 0h160v-160H620v160ZM180-180h160v-160H180v160Zm440 0h160v-160H620v160Z\"/>\n",
              "  </svg>\n",
              "    </button>\n",
              "\n",
              "  <style>\n",
              "    .colab-df-container {\n",
              "      display:flex;\n",
              "      gap: 12px;\n",
              "    }\n",
              "\n",
              "    .colab-df-convert {\n",
              "      background-color: #E8F0FE;\n",
              "      border: none;\n",
              "      border-radius: 50%;\n",
              "      cursor: pointer;\n",
              "      display: none;\n",
              "      fill: #1967D2;\n",
              "      height: 32px;\n",
              "      padding: 0 0 0 0;\n",
              "      width: 32px;\n",
              "    }\n",
              "\n",
              "    .colab-df-convert:hover {\n",
              "      background-color: #E2EBFA;\n",
              "      box-shadow: 0px 1px 2px rgba(60, 64, 67, 0.3), 0px 1px 3px 1px rgba(60, 64, 67, 0.15);\n",
              "      fill: #174EA6;\n",
              "    }\n",
              "\n",
              "    .colab-df-buttons div {\n",
              "      margin-bottom: 4px;\n",
              "    }\n",
              "\n",
              "    [theme=dark] .colab-df-convert {\n",
              "      background-color: #3B4455;\n",
              "      fill: #D2E3FC;\n",
              "    }\n",
              "\n",
              "    [theme=dark] .colab-df-convert:hover {\n",
              "      background-color: #434B5C;\n",
              "      box-shadow: 0px 1px 3px 1px rgba(0, 0, 0, 0.15);\n",
              "      filter: drop-shadow(0px 1px 2px rgba(0, 0, 0, 0.3));\n",
              "      fill: #FFFFFF;\n",
              "    }\n",
              "  </style>\n",
              "\n",
              "    <script>\n",
              "      const buttonEl =\n",
              "        document.querySelector('#df-c8d28978-b5c4-4183-bb62-57e1f84fb9a2 button.colab-df-convert');\n",
              "      buttonEl.style.display =\n",
              "        google.colab.kernel.accessAllowed ? 'block' : 'none';\n",
              "\n",
              "      async function convertToInteractive(key) {\n",
              "        const element = document.querySelector('#df-c8d28978-b5c4-4183-bb62-57e1f84fb9a2');\n",
              "        const dataTable =\n",
              "          await google.colab.kernel.invokeFunction('convertToInteractive',\n",
              "                                                    [key], {});\n",
              "        if (!dataTable) return;\n",
              "\n",
              "        const docLinkHtml = 'Like what you see? Visit the ' +\n",
              "          '<a target=\"_blank\" href=https://colab.research.google.com/notebooks/data_table.ipynb>data table notebook</a>'\n",
              "          + ' to learn more about interactive tables.';\n",
              "        element.innerHTML = '';\n",
              "        dataTable['output_type'] = 'display_data';\n",
              "        await google.colab.output.renderOutput(dataTable, element);\n",
              "        const docLink = document.createElement('div');\n",
              "        docLink.innerHTML = docLinkHtml;\n",
              "        element.appendChild(docLink);\n",
              "      }\n",
              "    </script>\n",
              "  </div>\n",
              "\n",
              "\n",
              "<div id=\"df-db455933-7769-4542-b7d6-ad3a8ee93913\">\n",
              "  <button class=\"colab-df-quickchart\" onclick=\"quickchart('df-db455933-7769-4542-b7d6-ad3a8ee93913')\"\n",
              "            title=\"Suggest charts\"\n",
              "            style=\"display:none;\">\n",
              "\n",
              "<svg xmlns=\"http://www.w3.org/2000/svg\" height=\"24px\"viewBox=\"0 0 24 24\"\n",
              "     width=\"24px\">\n",
              "    <g>\n",
              "        <path d=\"M19 3H5c-1.1 0-2 .9-2 2v14c0 1.1.9 2 2 2h14c1.1 0 2-.9 2-2V5c0-1.1-.9-2-2-2zM9 17H7v-7h2v7zm4 0h-2V7h2v10zm4 0h-2v-4h2v4z\"/>\n",
              "    </g>\n",
              "</svg>\n",
              "  </button>\n",
              "\n",
              "<style>\n",
              "  .colab-df-quickchart {\n",
              "      --bg-color: #E8F0FE;\n",
              "      --fill-color: #1967D2;\n",
              "      --hover-bg-color: #E2EBFA;\n",
              "      --hover-fill-color: #174EA6;\n",
              "      --disabled-fill-color: #AAA;\n",
              "      --disabled-bg-color: #DDD;\n",
              "  }\n",
              "\n",
              "  [theme=dark] .colab-df-quickchart {\n",
              "      --bg-color: #3B4455;\n",
              "      --fill-color: #D2E3FC;\n",
              "      --hover-bg-color: #434B5C;\n",
              "      --hover-fill-color: #FFFFFF;\n",
              "      --disabled-bg-color: #3B4455;\n",
              "      --disabled-fill-color: #666;\n",
              "  }\n",
              "\n",
              "  .colab-df-quickchart {\n",
              "    background-color: var(--bg-color);\n",
              "    border: none;\n",
              "    border-radius: 50%;\n",
              "    cursor: pointer;\n",
              "    display: none;\n",
              "    fill: var(--fill-color);\n",
              "    height: 32px;\n",
              "    padding: 0;\n",
              "    width: 32px;\n",
              "  }\n",
              "\n",
              "  .colab-df-quickchart:hover {\n",
              "    background-color: var(--hover-bg-color);\n",
              "    box-shadow: 0 1px 2px rgba(60, 64, 67, 0.3), 0 1px 3px 1px rgba(60, 64, 67, 0.15);\n",
              "    fill: var(--button-hover-fill-color);\n",
              "  }\n",
              "\n",
              "  .colab-df-quickchart-complete:disabled,\n",
              "  .colab-df-quickchart-complete:disabled:hover {\n",
              "    background-color: var(--disabled-bg-color);\n",
              "    fill: var(--disabled-fill-color);\n",
              "    box-shadow: none;\n",
              "  }\n",
              "\n",
              "  .colab-df-spinner {\n",
              "    border: 2px solid var(--fill-color);\n",
              "    border-color: transparent;\n",
              "    border-bottom-color: var(--fill-color);\n",
              "    animation:\n",
              "      spin 1s steps(1) infinite;\n",
              "  }\n",
              "\n",
              "  @keyframes spin {\n",
              "    0% {\n",
              "      border-color: transparent;\n",
              "      border-bottom-color: var(--fill-color);\n",
              "      border-left-color: var(--fill-color);\n",
              "    }\n",
              "    20% {\n",
              "      border-color: transparent;\n",
              "      border-left-color: var(--fill-color);\n",
              "      border-top-color: var(--fill-color);\n",
              "    }\n",
              "    30% {\n",
              "      border-color: transparent;\n",
              "      border-left-color: var(--fill-color);\n",
              "      border-top-color: var(--fill-color);\n",
              "      border-right-color: var(--fill-color);\n",
              "    }\n",
              "    40% {\n",
              "      border-color: transparent;\n",
              "      border-right-color: var(--fill-color);\n",
              "      border-top-color: var(--fill-color);\n",
              "    }\n",
              "    60% {\n",
              "      border-color: transparent;\n",
              "      border-right-color: var(--fill-color);\n",
              "    }\n",
              "    80% {\n",
              "      border-color: transparent;\n",
              "      border-right-color: var(--fill-color);\n",
              "      border-bottom-color: var(--fill-color);\n",
              "    }\n",
              "    90% {\n",
              "      border-color: transparent;\n",
              "      border-bottom-color: var(--fill-color);\n",
              "    }\n",
              "  }\n",
              "</style>\n",
              "\n",
              "  <script>\n",
              "    async function quickchart(key) {\n",
              "      const quickchartButtonEl =\n",
              "        document.querySelector('#' + key + ' button');\n",
              "      quickchartButtonEl.disabled = true;  // To prevent multiple clicks.\n",
              "      quickchartButtonEl.classList.add('colab-df-spinner');\n",
              "      try {\n",
              "        const charts = await google.colab.kernel.invokeFunction(\n",
              "            'suggestCharts', [key], {});\n",
              "      } catch (error) {\n",
              "        console.error('Error during call to suggestCharts:', error);\n",
              "      }\n",
              "      quickchartButtonEl.classList.remove('colab-df-spinner');\n",
              "      quickchartButtonEl.classList.add('colab-df-quickchart-complete');\n",
              "    }\n",
              "    (() => {\n",
              "      let quickchartButtonEl =\n",
              "        document.querySelector('#df-db455933-7769-4542-b7d6-ad3a8ee93913 button');\n",
              "      quickchartButtonEl.style.display =\n",
              "        google.colab.kernel.accessAllowed ? 'block' : 'none';\n",
              "    })();\n",
              "  </script>\n",
              "</div>\n",
              "\n",
              "    </div>\n",
              "  </div>\n"
            ],
            "application/vnd.google.colaboratory.intrinsic+json": {
              "type": "dataframe",
              "variable_name": "df_train",
              "summary": "{\n  \"name\": \"df_train\",\n  \"rows\": 4996,\n  \"fields\": [\n    {\n      \"column\": \"Unnamed: 0\",\n      \"properties\": {\n        \"dtype\": \"number\",\n        \"std\": 1459,\n        \"min\": 238,\n        \"max\": 5406,\n        \"num_unique_values\": 4996,\n        \"samples\": [\n          397,\n          4784,\n          1892\n        ],\n        \"semantic_type\": \"\",\n        \"description\": \"\"\n      }\n    },\n    {\n      \"column\": \"text\",\n      \"properties\": {\n        \"dtype\": \"string\",\n        \"num_unique_values\": 4989,\n        \"samples\": [\n          \"Bought some Emerica Jeans which were reduced from \\u00a345 to \\u00a312.50, they're amazing value! Delivery was hassle free too,  even at Royal Mail 2nd Class.  Overall, very happy with UrbanSurfer and will definitely shop again from their wide selection of shoes!\",\n          \"Have always been pleased with sales and service. Wish there were more reviews... 9.5 times out of 10 I always buy from here!\",\n          \"I was glad to have come accross this company on the web. They have some great unique items that you don't see in every other store or site. I also called there Customer Service to ask a few questions. They were very helpful and knew what they were talking about. The items I bought were shipped quickly and I received the stuff as decribed. No issues no problems. I am going to buy several of this years Christmas presents here. This is a good company and I would do buisness with them again and recommend them to my friends and family.\"\n        ],\n        \"semantic_type\": \"\",\n        \"description\": \"\"\n      }\n    },\n    {\n      \"column\": \"age\",\n      \"properties\": {\n        \"dtype\": \"number\",\n        \"std\": 18,\n        \"min\": 15,\n        \"max\": 113,\n        \"num_unique_values\": 94,\n        \"samples\": [\n          16,\n          18,\n          71\n        ],\n        \"semantic_type\": \"\",\n        \"description\": \"\"\n      }\n    },\n    {\n      \"column\": \"ageRange\",\n      \"properties\": {\n        \"dtype\": \"category\",\n        \"num_unique_values\": 4,\n        \"samples\": [\n          \"15-24\",\n          \"65+\",\n          \"25-54\"\n        ],\n        \"semantic_type\": \"\",\n        \"description\": \"\"\n      }\n    },\n    {\n      \"column\": \"label\",\n      \"properties\": {\n        \"dtype\": \"category\",\n        \"num_unique_values\": 2,\n        \"samples\": [\n          \"F\",\n          \"M\"\n        ],\n        \"semantic_type\": \"\",\n        \"description\": \"\"\n      }\n    },\n    {\n      \"column\": \"data_for\",\n      \"properties\": {\n        \"dtype\": \"category\",\n        \"num_unique_values\": 1,\n        \"samples\": [\n          \"train\"\n        ],\n        \"semantic_type\": \"\",\n        \"description\": \"\"\n      }\n    },\n    {\n      \"column\": \"text_sent_count\",\n      \"properties\": {\n        \"dtype\": \"number\",\n        \"std\": 3,\n        \"min\": 1,\n        \"max\": 104,\n        \"num_unique_values\": 33,\n        \"samples\": [\n          25\n        ],\n        \"semantic_type\": \"\",\n        \"description\": \"\"\n      }\n    },\n    {\n      \"column\": \"text_word_count\",\n      \"properties\": {\n        \"dtype\": \"number\",\n        \"std\": 69,\n        \"min\": 1,\n        \"max\": 1432,\n        \"num_unique_values\": 319,\n        \"samples\": [\n          113\n        ],\n        \"semantic_type\": \"\",\n        \"description\": \"\"\n      }\n    },\n    {\n      \"column\": \"sentiment\",\n      \"properties\": {\n        \"dtype\": \"category\",\n        \"num_unique_values\": 2,\n        \"samples\": [\n          \"positive\"\n        ],\n        \"semantic_type\": \"\",\n        \"description\": \"\"\n      }\n    }\n  ]\n}"
            }
          },
          "metadata": {},
          "execution_count": 78
        }
      ]
    },
    {
      "cell_type": "code",
      "source": [
        "female_sentiment_df = df_train[df_train['label']==\"F\"]\n",
        "male_sentiment_df = df_train[df_train['label']==\"M\"]"
      ],
      "metadata": {
        "id": "7nt2w0ZS008Y"
      },
      "execution_count": 79,
      "outputs": []
    },
    {
      "cell_type": "markdown",
      "source": [
        "# 6.1 Female Sentiment Distribution"
      ],
      "metadata": {
        "id": "I7PY7BRo15nJ"
      }
    },
    {
      "cell_type": "code",
      "source": [
        "data = female_sentiment_df['sentiment'].value_counts()\n",
        "ax = data.plot(kind=\"pie\", autopct='%1.1f%%', shadow=True, legend=True, title='Female Sentiment Distribution', ylabel='', labeldistance=None)\n",
        "ax.legend(bbox_to_anchor=(1, 1.02), loc='upper left')\n",
        "plt.show()"
      ],
      "metadata": {
        "colab": {
          "base_uri": "https://localhost:8080/",
          "height": 428
        },
        "id": "KP_VbLsG0fSb",
        "outputId": "71689f3b-cdf0-4941-843a-b40380304dbe"
      },
      "execution_count": 80,
      "outputs": [
        {
          "output_type": "display_data",
          "data": {
            "text/plain": [
              "<Figure size 640x480 with 1 Axes>"
            ],
            "image/png": "[encoded data removed]"
          },
          "metadata": {}
        }
      ]
    },
    {
      "cell_type": "markdown",
      "source": [
        "# 6.2 Male Sentiment Distribution"
      ],
      "metadata": {
        "id": "RQ3Mqhhz1-yz"
      }
    },
    {
      "cell_type": "code",
      "source": [
        "# TODO: Based on the code above, compare sentiment in male reviews."
      ],
      "metadata": {
        "id": "vPHty26y1Wmo"
      },
      "execution_count": 81,
      "outputs": []
    }
  ]
}
