{
  "nbformat": 4,
  "nbformat_minor": 0,
  "metadata": {
    "colab": {
      "provenance": []
    },
    "kernelspec": {
      "name": "python3",
      "display_name": "Python 3"
    },
    "language_info": {
      "name": "python"
    }
  },
  "cells": [
    {
      "cell_type": "markdown",
      "source": [
        "# Language in Social Context: Bridging NLP and Sociolinguistics (ESSLLI 2024)\n",
        "\n",
        "## Day 3: Analyzing linguistic adaptation\n",
        "\n",
        "This exercise's goal is to get familiar with code for calculating linguistic adaptation. We will use data from Tan et al. 2016 \"Winning\n",
        "arguments: Interaction dynamics and persuasion strategies in good-faith online discussions\" (https://chenhaot.com/data/cmv/cmv.tar.bz2). We have pre-filtered it for you into a list of conversation turns.\n",
        "\n",
        "We will look into:\n",
        "\n",
        "1. Data preparation\n",
        "2. Annotating data with LIWC categories\n",
        "3. Calculating style convergence"
      ],
      "metadata": {
        "id": "RTbfoQuAzJ3j"
      }
    },
    {
      "cell_type": "markdown",
      "source": [
        "# 1. Data preparation"
      ],
      "metadata": {
        "id": "1nnVUNia0Wwc"
      }
    },
    {
      "cell_type": "markdown",
      "source": [
        "## Download the data (or locally run the script prepare-cmv-data.sh)"
      ],
      "metadata": {
        "id": "lbpR5xC7Tfgw"
      }
    },
    {
      "cell_type": "code",
      "execution_count": 1,
      "metadata": {
        "colab": {
          "base_uri": "https://localhost:8080/"
        },
        "id": "h1biIZj9TB6q",
        "outputId": "f3af7f40-661e-4516-9d44-e29592086893"
      },
      "outputs": [
        {
          "output_type": "stream",
          "name": "stdout",
          "text": [
            "Downloading...\n",
            "From (original): https://drive.google.com/uc?id=1lJxnI5r1e13hkOprIgcSfnIEto7kol_K\n",
            "From (redirected): https://drive.google.com/uc?id=1lJxnI5r1e13hkOprIgcSfnIEto7kol_K&confirm=t&uuid=2b54f973-82e9-4e28-a8cd-ac49e43cc84c\n",
            "To: /content/cmv.direct_replies.csv\n",
            "100% 438M/438M [00:09<00:00, 43.9MB/s]\n"
          ]
        }
      ],
      "source": [
        "!gdown --fuzzy https://drive.google.com/file/d/1lJxnI5r1e13hkOprIgcSfnIEto7kol_K/view?usp=sharing"
      ]
    },
    {
      "cell_type": "markdown",
      "source": [
        "## Load the Dataset\n"
      ],
      "metadata": {
        "id": "JW6oywnpTmqG"
      }
    },
    {
      "cell_type": "code",
      "source": [
        "import pandas as pd\n",
        "import ast\n",
        "\n",
        "df = pd.read_csv(\"/content/cmv.direct_replies.csv\", converters={'Replies': ast.literal_eval})"
      ],
      "metadata": {
        "id": "0t_wgyhbTkYl"
      },
      "execution_count": 2,
      "outputs": []
    },
    {
      "cell_type": "code",
      "source": [
        "df.head()\n"
      ],
      "metadata": {
        "colab": {
          "base_uri": "https://localhost:8080/",
          "height": 206
        },
        "id": "snc-9KTvTo8H",
        "outputId": "e0c4db96-01a0-43ab-ae53-932539a5c261"
      },
      "execution_count": 3,
      "outputs": [
        {
          "output_type": "execute_result",
          "data": {
            "text/plain": [
              "            Author                        Topic  \\\n",
              "0  recycled_kevlar  jobs_automation_will_robots   \n",
              "1           EstoAm  jobs_automation_will_robots   \n",
              "2  recycled_kevlar  jobs_automation_will_robots   \n",
              "3           EstoAm  jobs_automation_will_robots   \n",
              "4  recycled_kevlar  jobs_automation_will_robots   \n",
              "\n",
              "                                                Post  \\\n",
              "0  Automation is happening at an astonishing rate...   \n",
              "1  You are also assuming there will ever be a \"po...   \n",
              "2  Two things: A post scarcity economy is not def...   \n",
              "3  No the automation you are talking about has ma...   \n",
              "4  Why? Economic value can not be forced onto a t...   \n",
              "\n",
              "                                             Replies  \n",
              "0  [(EstoAm, You are also assuming there will eve...  \n",
              "1  [(recycled_kevlar, Two things: A post scarcity...  \n",
              "2  [(EstoAm, No the automation you are talking ab...  \n",
              "3  [(recycled_kevlar, Why? Economic value can not...  \n",
              "4  [(EstoAm, Because humans have an innate drive ...  "
            ],
            "text/html": [
              "\n",
              "  <div id=\"df-944c9d3e-4876-48d6-b4ea-b0b2a12aec6b\" class=\"colab-df-container\">\n",
              "    <div>\n",
              "<style scoped>\n",
              "    .dataframe tbody tr th:only-of-type {\n",
              "        vertical-align: middle;\n",
              "    }\n",
              "\n",
              "    .dataframe tbody tr th {\n",
              "        vertical-align: top;\n",
              "    }\n",
              "\n",
              "    .dataframe thead th {\n",
              "        text-align: right;\n",
              "    }\n",
              "</style>\n",
              "<table border=\"1\" class=\"dataframe\">\n",
              "  <thead>\n",
              "    <tr style=\"text-align: right;\">\n",
              "      <th></th>\n",
              "      <th>Author</th>\n",
              "      <th>Topic</th>\n",
              "      <th>Post</th>\n",
              "      <th>Replies</th>\n",
              "    </tr>\n",
              "  </thead>\n",
              "  <tbody>\n",
              "    <tr>\n",
              "      <th>0</th>\n",
              "      <td>recycled_kevlar</td>\n",
              "      <td>jobs_automation_will_robots</td>\n",
              "      <td>Automation is happening at an astonishing rate...</td>\n",
              "      <td>[(EstoAm, You are also assuming there will eve...</td>\n",
              "    </tr>\n",
              "    <tr>\n",
              "      <th>1</th>\n",
              "      <td>EstoAm</td>\n",
              "      <td>jobs_automation_will_robots</td>\n",
              "      <td>You are also assuming there will ever be a \"po...</td>\n",
              "      <td>[(recycled_kevlar, Two things: A post scarcity...</td>\n",
              "    </tr>\n",
              "    <tr>\n",
              "      <th>2</th>\n",
              "      <td>recycled_kevlar</td>\n",
              "      <td>jobs_automation_will_robots</td>\n",
              "      <td>Two things: A post scarcity economy is not def...</td>\n",
              "      <td>[(EstoAm, No the automation you are talking ab...</td>\n",
              "    </tr>\n",
              "    <tr>\n",
              "      <th>3</th>\n",
              "      <td>EstoAm</td>\n",
              "      <td>jobs_automation_will_robots</td>\n",
              "      <td>No the automation you are talking about has ma...</td>\n",
              "      <td>[(recycled_kevlar, Why? Economic value can not...</td>\n",
              "    </tr>\n",
              "    <tr>\n",
              "      <th>4</th>\n",
              "      <td>recycled_kevlar</td>\n",
              "      <td>jobs_automation_will_robots</td>\n",
              "      <td>Why? Economic value can not be forced onto a t...</td>\n",
              "      <td>[(EstoAm, Because humans have an innate drive ...</td>\n",
              "    </tr>\n",
              "  </tbody>\n",
              "</table>\n",
              "</div>\n",
              "    <div class=\"colab-df-buttons\">\n",
              "\n",
              "  <div class=\"colab-df-container\">\n",
              "    <button class=\"colab-df-convert\" onclick=\"convertToInteractive('df-944c9d3e-4876-48d6-b4ea-b0b2a12aec6b')\"\n",
              "            title=\"Convert this dataframe to an interactive table.\"\n",
              "            style=\"display:none;\">\n",
              "\n",
              "  <svg xmlns=\"http://www.w3.org/2000/svg\" height=\"24px\" viewBox=\"0 -960 960 960\">\n",
              "    <path d=\"M120-120v-720h720v720H120Zm60-500h600v-160H180v160Zm220 220h160v-160H400v160Zm0 220h160v-160H400v160ZM180-400h160v-160H180v160Zm440 0h160v-160H620v160ZM180-180h160v-160H180v160Zm440 0h160v-160H620v160Z\"/>\n",
              "  </svg>\n",
              "    </button>\n",
              "\n",
              "  <style>\n",
              "    .colab-df-container {\n",
              "      display:flex;\n",
              "      gap: 12px;\n",
              "    }\n",
              "\n",
              "    .colab-df-convert {\n",
              "      background-color: #E8F0FE;\n",
              "      border: none;\n",
              "      border-radius: 50%;\n",
              "      cursor: pointer;\n",
              "      display: none;\n",
              "      fill: #1967D2;\n",
              "      height: 32px;\n",
              "      padding: 0 0 0 0;\n",
              "      width: 32px;\n",
              "    }\n",
              "\n",
              "    .colab-df-convert:hover {\n",
              "      background-color: #E2EBFA;\n",
              "      box-shadow: 0px 1px 2px rgba(60, 64, 67, 0.3), 0px 1px 3px 1px rgba(60, 64, 67, 0.15);\n",
              "      fill: #174EA6;\n",
              "    }\n",
              "\n",
              "    .colab-df-buttons div {\n",
              "      margin-bottom: 4px;\n",
              "    }\n",
              "\n",
              "    [theme=dark] .colab-df-convert {\n",
              "      background-color: #3B4455;\n",
              "      fill: #D2E3FC;\n",
              "    }\n",
              "\n",
              "    [theme=dark] .colab-df-convert:hover {\n",
              "      background-color: #434B5C;\n",
              "      box-shadow: 0px 1px 3px 1px rgba(0, 0, 0, 0.15);\n",
              "      filter: drop-shadow(0px 1px 2px rgba(0, 0, 0, 0.3));\n",
              "      fill: #FFFFFF;\n",
              "    }\n",
              "  </style>\n",
              "\n",
              "    <script>\n",
              "      const buttonEl =\n",
              "        document.querySelector('#df-944c9d3e-4876-48d6-b4ea-b0b2a12aec6b button.colab-df-convert');\n",
              "      buttonEl.style.display =\n",
              "        google.colab.kernel.accessAllowed ? 'block' : 'none';\n",
              "\n",
              "      async function convertToInteractive(key) {\n",
              "        const element = document.querySelector('#df-944c9d3e-4876-48d6-b4ea-b0b2a12aec6b');\n",
              "        const dataTable =\n",
              "          await google.colab.kernel.invokeFunction('convertToInteractive',\n",
              "                                                    [key], {});\n",
              "        if (!dataTable) return;\n",
              "\n",
              "        const docLinkHtml = 'Like what you see? Visit the ' +\n",
              "          '<a target=\"_blank\" href=https://colab.research.google.com/notebooks/data_table.ipynb>data table notebook</a>'\n",
              "          + ' to learn more about interactive tables.';\n",
              "        element.innerHTML = '';\n",
              "        dataTable['output_type'] = 'display_data';\n",
              "        await google.colab.output.renderOutput(dataTable, element);\n",
              "        const docLink = document.createElement('div');\n",
              "        docLink.innerHTML = docLinkHtml;\n",
              "        element.appendChild(docLink);\n",
              "      }\n",
              "    </script>\n",
              "  </div>\n",
              "\n",
              "\n",
              "<div id=\"df-3091d8d2-9973-4377-a2fb-782060c8bfe0\">\n",
              "  <button class=\"colab-df-quickchart\" onclick=\"quickchart('df-3091d8d2-9973-4377-a2fb-782060c8bfe0')\"\n",
              "            title=\"Suggest charts\"\n",
              "            style=\"display:none;\">\n",
              "\n",
              "<svg xmlns=\"http://www.w3.org/2000/svg\" height=\"24px\"viewBox=\"0 0 24 24\"\n",
              "     width=\"24px\">\n",
              "    <g>\n",
              "        <path d=\"M19 3H5c-1.1 0-2 .9-2 2v14c0 1.1.9 2 2 2h14c1.1 0 2-.9 2-2V5c0-1.1-.9-2-2-2zM9 17H7v-7h2v7zm4 0h-2V7h2v10zm4 0h-2v-4h2v4z\"/>\n",
              "    </g>\n",
              "</svg>\n",
              "  </button>\n",
              "\n",
              "<style>\n",
              "  .colab-df-quickchart {\n",
              "      --bg-color: #E8F0FE;\n",
              "      --fill-color: #1967D2;\n",
              "      --hover-bg-color: #E2EBFA;\n",
              "      --hover-fill-color: #174EA6;\n",
              "      --disabled-fill-color: #AAA;\n",
              "      --disabled-bg-color: #DDD;\n",
              "  }\n",
              "\n",
              "  [theme=dark] .colab-df-quickchart {\n",
              "      --bg-color: #3B4455;\n",
              "      --fill-color: #D2E3FC;\n",
              "      --hover-bg-color: #434B5C;\n",
              "      --hover-fill-color: #FFFFFF;\n",
              "      --disabled-bg-color: #3B4455;\n",
              "      --disabled-fill-color: #666;\n",
              "  }\n",
              "\n",
              "  .colab-df-quickchart {\n",
              "    background-color: var(--bg-color);\n",
              "    border: none;\n",
              "    border-radius: 50%;\n",
              "    cursor: pointer;\n",
              "    display: none;\n",
              "    fill: var(--fill-color);\n",
              "    height: 32px;\n",
              "    padding: 0;\n",
              "    width: 32px;\n",
              "  }\n",
              "\n",
              "  .colab-df-quickchart:hover {\n",
              "    background-color: var(--hover-bg-color);\n",
              "    box-shadow: 0 1px 2px rgba(60, 64, 67, 0.3), 0 1px 3px 1px rgba(60, 64, 67, 0.15);\n",
              "    fill: var(--button-hover-fill-color);\n",
              "  }\n",
              "\n",
              "  .colab-df-quickchart-complete:disabled,\n",
              "  .colab-df-quickchart-complete:disabled:hover {\n",
              "    background-color: var(--disabled-bg-color);\n",
              "    fill: var(--disabled-fill-color);\n",
              "    box-shadow: none;\n",
              "  }\n",
              "\n",
              "  .colab-df-spinner {\n",
              "    border: 2px solid var(--fill-color);\n",
              "    border-color: transparent;\n",
              "    border-bottom-color: var(--fill-color);\n",
              "    animation:\n",
              "      spin 1s steps(1) infinite;\n",
              "  }\n",
              "\n",
              "  @keyframes spin {\n",
              "    0% {\n",
              "      border-color: transparent;\n",
              "      border-bottom-color: var(--fill-color);\n",
              "      border-left-color: var(--fill-color);\n",
              "    }\n",
              "    20% {\n",
              "      border-color: transparent;\n",
              "      border-left-color: var(--fill-color);\n",
              "      border-top-color: var(--fill-color);\n",
              "    }\n",
              "    30% {\n",
              "      border-color: transparent;\n",
              "      border-left-color: var(--fill-color);\n",
              "      border-top-color: var(--fill-color);\n",
              "      border-right-color: var(--fill-color);\n",
              "    }\n",
              "    40% {\n",
              "      border-color: transparent;\n",
              "      border-right-color: var(--fill-color);\n",
              "      border-top-color: var(--fill-color);\n",
              "    }\n",
              "    60% {\n",
              "      border-color: transparent;\n",
              "      border-right-color: var(--fill-color);\n",
              "    }\n",
              "    80% {\n",
              "      border-color: transparent;\n",
              "      border-right-color: var(--fill-color);\n",
              "      border-bottom-color: var(--fill-color);\n",
              "    }\n",
              "    90% {\n",
              "      border-color: transparent;\n",
              "      border-bottom-color: var(--fill-color);\n",
              "    }\n",
              "  }\n",
              "</style>\n",
              "\n",
              "  <script>\n",
              "    async function quickchart(key) {\n",
              "      const quickchartButtonEl =\n",
              "        document.querySelector('#' + key + ' button');\n",
              "      quickchartButtonEl.disabled = true;  // To prevent multiple clicks.\n",
              "      quickchartButtonEl.classList.add('colab-df-spinner');\n",
              "      try {\n",
              "        const charts = await google.colab.kernel.invokeFunction(\n",
              "            'suggestCharts', [key], {});\n",
              "      } catch (error) {\n",
              "        console.error('Error during call to suggestCharts:', error);\n",
              "      }\n",
              "      quickchartButtonEl.classList.remove('colab-df-spinner');\n",
              "      quickchartButtonEl.classList.add('colab-df-quickchart-complete');\n",
              "    }\n",
              "    (() => {\n",
              "      let quickchartButtonEl =\n",
              "        document.querySelector('#df-3091d8d2-9973-4377-a2fb-782060c8bfe0 button');\n",
              "      quickchartButtonEl.style.display =\n",
              "        google.colab.kernel.accessAllowed ? 'block' : 'none';\n",
              "    })();\n",
              "  </script>\n",
              "</div>\n",
              "\n",
              "    </div>\n",
              "  </div>\n"
            ],
            "application/vnd.google.colaboratory.intrinsic+json": {
              "type": "dataframe",
              "variable_name": "df"
            }
          },
          "metadata": {},
          "execution_count": 3
        }
      ]
    },
    {
      "cell_type": "code",
      "source": [
        "len(df)"
      ],
      "metadata": {
        "colab": {
          "base_uri": "https://localhost:8080/"
        },
        "id": "BgqaYQy_ejOQ",
        "outputId": "05712732-3f86-4717-86b0-3917971ea948"
      },
      "execution_count": 4,
      "outputs": [
        {
          "output_type": "execute_result",
          "data": {
            "text/plain": [
              "284409"
            ]
          },
          "metadata": {},
          "execution_count": 4
        }
      ]
    },
    {
      "cell_type": "markdown",
      "source": [
        "## Show an example of an exchange"
      ],
      "metadata": {
        "id": "bYPZzVXWTseu"
      }
    },
    {
      "cell_type": "code",
      "source": [
        "import ast\n",
        "\n",
        "row = df.iloc[17]\n",
        "\n",
        "print(f\"Author {row['Author']} posted: {row['Post']}\")\n",
        "print(\"Replies:\")\n",
        "for reply in row[\"Replies\"]:\n",
        "    print(f\"    Author: {reply[0]}, Post: {reply[1]}\")"
      ],
      "metadata": {
        "colab": {
          "base_uri": "https://localhost:8080/"
        },
        "id": "kQZOIRFSTqQY",
        "outputId": "0c33939c-0717-40bb-c569-0d851a561c53"
      },
      "execution_count": 5,
      "outputs": [
        {
          "output_type": "stream",
          "name": "stdout",
          "text": [
            "Author DurianMD posted: So recently I've seen a lot of posts condemning Islam as a violent religion or a sexist religion. I point out that many Christians follow the bible which has numerous examples of sexism, but in application, there are numerous branches of Christianity that are no more sexist than secular groups. For example, Congregationalists and Universaliists. So, my belief is that while religion can inform the views of people, it is far more likely that religion will be used to justify actions that would have been executed any way. I think that most Jewish people don't want to stone adulterers and most Muslims don't want to stone non believers. _____ &gt; *Hello, users of CMV! This is a footnote from your moderators. We'd just like to remind you of a couple of things. Firstly, please remember to* ***[read through our rules](http://www.reddit.com/r/changemyview/wiki/rules)***. *If you see a comment that has broken one, it is more effective to report it than downvote it. Speaking of which,* ***[downvotes don't change views](http://www.reddit.com/r/changemyview/wiki/guidelines#wiki_upvoting.2Fdownvoting)****! If you are thinking about submitting a CMV yourself, please have a look through our* ***[popular topics wiki](http://www.reddit.com/r/changemyview/wiki/populartopics)*** *first. Any questions or concerns? Feel free to* ***[message us](http://www.reddit.com/message/compose?to=/r/changemyview)***. *Happy CMVing!*\n",
            "Replies:\n",
            "    Author: recycled_kevlar, Post: Your stance relies on the assumption that religion has no influence on the actions of its followers beyond the superficial. Yet something must exist that allows this pattern to occur. Ill narrow it down to religion or culture. So, you are correct if you assume the culture dominates the religion, and you are incorrect if the reverse is true. With this in mind, I think its safe to assume the truth is somewhere in between, with both the religion and the culture somehow influencing the unrest we see.\n",
            "    Author: beer_demon, Post: The fact I don't fear an Amish flying a plane into my office tower or a Jain blowing up my bus makes me doubt that religions have no inherent features that influence people's actions.\n"
          ]
        }
      ]
    },
    {
      "cell_type": "markdown",
      "source": [
        "## Count all exchanges\n"
      ],
      "metadata": {
        "id": "rmfJ8a1BT0sj"
      }
    },
    {
      "cell_type": "code",
      "source": [
        "def number_of_exchanges():\n",
        "  count = 0\n",
        "  for index, row in df.iterrows():\n",
        "      count += len(row[\"Replies\"])\n",
        "\n",
        "  return count\n",
        "\n",
        "print(\"Number of exchanges:\", number_of_exchanges())"
      ],
      "metadata": {
        "colab": {
          "base_uri": "https://localhost:8080/"
        },
        "id": "tnKM-TmqTwnb",
        "outputId": "5f6ad7ce-be65-4338-a3e7-ddf474daae41"
      },
      "execution_count": 6,
      "outputs": [
        {
          "output_type": "stream",
          "name": "stdout",
          "text": [
            "Number of exchanges: 409650\n"
          ]
        }
      ]
    },
    {
      "cell_type": "markdown",
      "source": [
        "## Top 10 topics"
      ],
      "metadata": {
        "id": "RtC7UnZ9HoFh"
      }
    },
    {
      "cell_type": "code",
      "source": [
        "df[\"Topic\"].value_counts()[:10]"
      ],
      "metadata": {
        "colab": {
          "base_uri": "https://localhost:8080/",
          "height": 429
        },
        "id": "2G8l0WkIHqKF",
        "outputId": "995d048a-e6b4-4329-c61c-ef26a9bb9c6b"
      },
      "execution_count": 7,
      "outputs": [
        {
          "output_type": "execute_result",
          "data": {
            "text/plain": [
              "Topic\n",
              "the_and_to_of                       87494\n",
              "abortion_fetus_prolife_abortions     6110\n",
              "gun_guns_firearms_weapons            5231\n",
              "gender_transgender_trans_sex         4721\n",
              "meat_animals_eating_eat              4536\n",
              "black_white_racism_racist            3684\n",
              "rape_victim_victims_raped            3660\n",
              "feminism_men_feminist_women          3625\n",
              "marriage_gay_polygamy_marry          3287\n",
              "moral_morality_morals_objective      2844\n",
              "Name: count, dtype: int64"
            ],
            "text/html": [
              "<div>\n",
              "<style scoped>\n",
              "    .dataframe tbody tr th:only-of-type {\n",
              "        vertical-align: middle;\n",
              "    }\n",
              "\n",
              "    .dataframe tbody tr th {\n",
              "        vertical-align: top;\n",
              "    }\n",
              "\n",
              "    .dataframe thead th {\n",
              "        text-align: right;\n",
              "    }\n",
              "</style>\n",
              "<table border=\"1\" class=\"dataframe\">\n",
              "  <thead>\n",
              "    <tr style=\"text-align: right;\">\n",
              "      <th></th>\n",
              "      <th>count</th>\n",
              "    </tr>\n",
              "    <tr>\n",
              "      <th>Topic</th>\n",
              "      <th></th>\n",
              "    </tr>\n",
              "  </thead>\n",
              "  <tbody>\n",
              "    <tr>\n",
              "      <th>the_and_to_of</th>\n",
              "      <td>87494</td>\n",
              "    </tr>\n",
              "    <tr>\n",
              "      <th>abortion_fetus_prolife_abortions</th>\n",
              "      <td>6110</td>\n",
              "    </tr>\n",
              "    <tr>\n",
              "      <th>gun_guns_firearms_weapons</th>\n",
              "      <td>5231</td>\n",
              "    </tr>\n",
              "    <tr>\n",
              "      <th>gender_transgender_trans_sex</th>\n",
              "      <td>4721</td>\n",
              "    </tr>\n",
              "    <tr>\n",
              "      <th>meat_animals_eating_eat</th>\n",
              "      <td>4536</td>\n",
              "    </tr>\n",
              "    <tr>\n",
              "      <th>black_white_racism_racist</th>\n",
              "      <td>3684</td>\n",
              "    </tr>\n",
              "    <tr>\n",
              "      <th>rape_victim_victims_raped</th>\n",
              "      <td>3660</td>\n",
              "    </tr>\n",
              "    <tr>\n",
              "      <th>feminism_men_feminist_women</th>\n",
              "      <td>3625</td>\n",
              "    </tr>\n",
              "    <tr>\n",
              "      <th>marriage_gay_polygamy_marry</th>\n",
              "      <td>3287</td>\n",
              "    </tr>\n",
              "    <tr>\n",
              "      <th>moral_morality_morals_objective</th>\n",
              "      <td>2844</td>\n",
              "    </tr>\n",
              "  </tbody>\n",
              "</table>\n",
              "</div><br><label><b>dtype:</b> int64</label>"
            ]
          },
          "metadata": {},
          "execution_count": 7
        }
      ]
    },
    {
      "cell_type": "markdown",
      "source": [
        "## List of Authors"
      ],
      "metadata": {
        "id": "4GXVx1yfYb1r"
      }
    },
    {
      "cell_type": "code",
      "source": [
        "df['Author'].value_counts()"
      ],
      "metadata": {
        "colab": {
          "base_uri": "https://localhost:8080/",
          "height": 490
        },
        "id": "vxbye-h6YeGZ",
        "outputId": "2355ba1a-da0c-4017-bba1-58401f06b0cd"
      },
      "execution_count": 8,
      "outputs": [
        {
          "output_type": "execute_result",
          "data": {
            "text/plain": [
              "Author\n",
              "[deleted]       23874\n",
              "BenIncognito     1360\n",
              "Hq3473           1312\n",
              "GnosticGnome     1308\n",
              "monkyyy          1242\n",
              "                ...  \n",
              "selfish             1\n",
              "Emeryn              1\n",
              "MerryWalrus         1\n",
              "joebarts97          1\n",
              "Haleljacob          1\n",
              "Name: count, Length: 18350, dtype: int64"
            ],
            "text/html": [
              "<div>\n",
              "<style scoped>\n",
              "    .dataframe tbody tr th:only-of-type {\n",
              "        vertical-align: middle;\n",
              "    }\n",
              "\n",
              "    .dataframe tbody tr th {\n",
              "        vertical-align: top;\n",
              "    }\n",
              "\n",
              "    .dataframe thead th {\n",
              "        text-align: right;\n",
              "    }\n",
              "</style>\n",
              "<table border=\"1\" class=\"dataframe\">\n",
              "  <thead>\n",
              "    <tr style=\"text-align: right;\">\n",
              "      <th></th>\n",
              "      <th>count</th>\n",
              "    </tr>\n",
              "    <tr>\n",
              "      <th>Author</th>\n",
              "      <th></th>\n",
              "    </tr>\n",
              "  </thead>\n",
              "  <tbody>\n",
              "    <tr>\n",
              "      <th>[deleted]</th>\n",
              "      <td>23874</td>\n",
              "    </tr>\n",
              "    <tr>\n",
              "      <th>BenIncognito</th>\n",
              "      <td>1360</td>\n",
              "    </tr>\n",
              "    <tr>\n",
              "      <th>Hq3473</th>\n",
              "      <td>1312</td>\n",
              "    </tr>\n",
              "    <tr>\n",
              "      <th>GnosticGnome</th>\n",
              "      <td>1308</td>\n",
              "    </tr>\n",
              "    <tr>\n",
              "      <th>monkyyy</th>\n",
              "      <td>1242</td>\n",
              "    </tr>\n",
              "    <tr>\n",
              "      <th>...</th>\n",
              "      <td>...</td>\n",
              "    </tr>\n",
              "    <tr>\n",
              "      <th>selfish</th>\n",
              "      <td>1</td>\n",
              "    </tr>\n",
              "    <tr>\n",
              "      <th>Emeryn</th>\n",
              "      <td>1</td>\n",
              "    </tr>\n",
              "    <tr>\n",
              "      <th>MerryWalrus</th>\n",
              "      <td>1</td>\n",
              "    </tr>\n",
              "    <tr>\n",
              "      <th>joebarts97</th>\n",
              "      <td>1</td>\n",
              "    </tr>\n",
              "    <tr>\n",
              "      <th>Haleljacob</th>\n",
              "      <td>1</td>\n",
              "    </tr>\n",
              "  </tbody>\n",
              "</table>\n",
              "<p>18350 rows × 1 columns</p>\n",
              "</div><br><label><b>dtype:</b> int64</label>"
            ]
          },
          "metadata": {},
          "execution_count": 8
        }
      ]
    },
    {
      "cell_type": "markdown",
      "source": [
        "## Author = [deleted] ?\n",
        "We need to remove these posts, because the label groups multiple authors."
      ],
      "metadata": {
        "id": "Qv20UiWfVxnO"
      }
    },
    {
      "cell_type": "code",
      "source": [
        "# Function to filter out replies deleted authors\n",
        "def remove_deleted(replies):\n",
        "    return [reply for reply in replies if reply[0] != \"[deleted]\"]\n",
        "\n",
        "# removing conversation turns with [deleted] as the auhor starting the conversation\n",
        "df = df[df[\"Author\"] !=\"[deleted]\"]\n",
        "\n",
        "# removing replies from [deleted]\n",
        "df['Replies'] = df['Replies'].apply(remove_deleted)\n",
        "\n",
        "print(number_of_exchanges())"
      ],
      "metadata": {
        "colab": {
          "base_uri": "https://localhost:8080/"
        },
        "id": "1cp8sUaduwiG",
        "outputId": "4014a604-ea38-4769-bc39-c0e66d0e80a9"
      },
      "execution_count": 9,
      "outputs": [
        {
          "output_type": "stream",
          "name": "stdout",
          "text": [
            "338385\n"
          ]
        }
      ]
    },
    {
      "cell_type": "markdown",
      "source": [
        "## Top 10 authors based on post"
      ],
      "metadata": {
        "id": "cxwy8JEdVI0O"
      }
    },
    {
      "cell_type": "code",
      "source": [
        "author_counts = df['Author'].value_counts()\n",
        "\n",
        "# Get the top 10 authors (only starting conversations)\n",
        "top_10_authors = author_counts.head(10)\n",
        "\n",
        "# Display the top 10 authors\n",
        "print(top_10_authors)"
      ],
      "metadata": {
        "colab": {
          "base_uri": "https://localhost:8080/"
        },
        "id": "dPU1Xf4KT25P",
        "outputId": "3ed57a8a-2909-483b-ae07-2971915610ce"
      },
      "execution_count": 10,
      "outputs": [
        {
          "output_type": "stream",
          "name": "stdout",
          "text": [
            "Author\n",
            "BenIncognito       1360\n",
            "Hq3473             1312\n",
            "GnosticGnome       1308\n",
            "monkyyy            1242\n",
            "huadpe             1092\n",
            "Raintee97           978\n",
            "z3r0shade           965\n",
            "DHCKris             921\n",
            "Mavericgamer        900\n",
            "AnxiousPolitics     843\n",
            "Name: count, dtype: int64\n"
          ]
        }
      ]
    },
    {
      "cell_type": "markdown",
      "source": [
        "## Top 10 authors based on replies"
      ],
      "metadata": {
        "id": "bx526XIKXDQk"
      }
    },
    {
      "cell_type": "code",
      "source": [
        "print(list(df.iloc[[17]]['Replies']))"
      ],
      "metadata": {
        "colab": {
          "base_uri": "https://localhost:8080/"
        },
        "id": "E1sKPoONYs9s",
        "outputId": "888d2cc5-e497-42ba-befb-0b978a909cab"
      },
      "execution_count": 11,
      "outputs": [
        {
          "output_type": "stream",
          "name": "stdout",
          "text": [
            "[[('recycled_kevlar', 'Your stance relies on the assumption that religion has no influence on the actions of its followers beyond the superficial. Yet something must exist that allows this pattern to occur. Ill narrow it down to religion or culture. So, you are correct if you assume the culture dominates the religion, and you are incorrect if the reverse is true. With this in mind, I think its safe to assume the truth is somewhere in between, with both the religion and the culture somehow influencing the unrest we see.'), ('beer_demon', \"The fact I don't fear an Amish flying a plane into my office tower or a Jain blowing up my bus makes me doubt that religions have no inherent features that influence people's actions.\")]]\n"
          ]
        }
      ]
    },
    {
      "cell_type": "code",
      "source": [
        "df['Replies_Count'] = df['Replies'].apply(lambda replies: len(replies) if isinstance(replies, list) else 0)\n",
        "\n",
        "author_comment_counts = df.groupby('Author')['Replies_Count'].sum()\n",
        "top_10_authors = author_comment_counts.nlargest(10)\n",
        "\n",
        "print(top_10_authors)"
      ],
      "metadata": {
        "colab": {
          "base_uri": "https://localhost:8080/"
        },
        "id": "JrfYV3q4XCkl",
        "outputId": "02e8ae4a-a8a0-4c84-b8ee-f7cf22a5d306"
      },
      "execution_count": 12,
      "outputs": [
        {
          "output_type": "stream",
          "name": "stdout",
          "text": [
            "Author\n",
            "Hq3473          1730\n",
            "BenIncognito    1391\n",
            "GnosticGnome    1357\n",
            "monkyyy         1238\n",
            "huadpe          1199\n",
            "kabukistar      1031\n",
            "Raintee97       1022\n",
            "z3r0shade        980\n",
            "DHCKris          948\n",
            "Mavericgamer     893\n",
            "Name: Replies_Count, dtype: int64\n"
          ]
        }
      ]
    },
    {
      "cell_type": "markdown",
      "source": [
        "# 2. Annotating data with LIWC categories\n",
        "\n"
      ],
      "metadata": {
        "id": "IyB7xR4EXEqo"
      }
    },
    {
      "cell_type": "code",
      "source": [
        "import numpy as np\n",
        "from collections import defaultdict\n",
        "import re\n",
        "import nltk\n",
        "from nltk.corpus import stopwords\n",
        "from nltk.tokenize import word_tokenize\n",
        "from nltk import pos_tag\n",
        "from sklearn.feature_extraction.text import CountVectorizer\n",
        "from sklearn.model_selection import train_test_split\n",
        "from sklearn.linear_model import LogisticRegression\n",
        "from sklearn.metrics import accuracy_score, classification_report\n",
        "import numpy as np"
      ],
      "metadata": {
        "id": "p0ljPitHYIpR"
      },
      "execution_count": 13,
      "outputs": []
    },
    {
      "cell_type": "code",
      "source": [
        "nltk.download('punkt')\n",
        "nltk.download('averaged_perceptron_tagger')\n",
        "nltk.download('stopwords')\n"
      ],
      "metadata": {
        "colab": {
          "base_uri": "https://localhost:8080/"
        },
        "id": "9uJycyamdAdU",
        "outputId": "7d013c5c-00d2-49f4-b2be-34b984c2632e"
      },
      "execution_count": 14,
      "outputs": [
        {
          "output_type": "stream",
          "name": "stderr",
          "text": [
            "[nltk_data] Downloading package punkt to /root/nltk_data...\n",
            "[nltk_data]   Unzipping tokenizers/punkt.zip.\n",
            "[nltk_data] Downloading package averaged_perceptron_tagger to\n",
            "[nltk_data]     /root/nltk_data...\n",
            "[nltk_data]   Unzipping taggers/averaged_perceptron_tagger.zip.\n",
            "[nltk_data] Downloading package stopwords to /root/nltk_data...\n",
            "[nltk_data]   Unzipping corpora/stopwords.zip.\n"
          ]
        },
        {
          "output_type": "execute_result",
          "data": {
            "text/plain": [
              "True"
            ]
          },
          "metadata": {},
          "execution_count": 14
        }
      ]
    },
    {
      "cell_type": "markdown",
      "source": [
        "## Features"
      ],
      "metadata": {
        "id": "b5MH8SedywFI"
      }
    },
    {
      "cell_type": "code",
      "source": [
        "# From Section \"4 Measuring linguistic style\", nine LIWC-derived categories (Pennebaker et al., 2007) are articles, auxiliary verbs, conjunctions, high-frequency adverbs, impersonal pronouns, negations, personal pronouns, prepositions, and quantifiers.\n",
        "\n",
        "liwc_categories = {\n",
        "    'articles': ['DT'],  # Determiner\n",
        "    'auxiliary_verbs': ['MD', 'VB', 'VBD', 'VBG', 'VBN', 'VBP', 'VBZ'],  # Modal/Auxiliary verbs\n",
        "    'conjunctions': ['CC'],  # Coordinating conjunction\n",
        "    'high_freq_adverbs': ['RB', 'RBR', 'RBS'],  # Adverbs\n",
        "    'impersonal_pronouns': ['PRP$', 'WP$', 'WP'],  # Impersonal pronouns\n",
        "    'negations': ['RB'],  # since 'not', 'never' are adverbs\n",
        "    'personal_pronouns': ['PRP'],  # Personal pronouns\n",
        "    'prepositions': ['IN'],  # Prepositions\n",
        "    'quantifiers': ['CD', 'PDT']  # Cardinals, Predeterminers\n",
        "}\n"
      ],
      "metadata": {
        "id": "ReVid1yryvUw"
      },
      "execution_count": 15,
      "outputs": []
    },
    {
      "cell_type": "code",
      "source": [
        "def extract_liwc_cats(text):\n",
        "    \"\"\"\n",
        "      Extract LIWC categories\n",
        "    \"\"\"\n",
        "    tokens = word_tokenize(text)\n",
        "    pos_tags = pos_tag(tokens)\n",
        "    liwc_cats = set([])\n",
        "    for word, tag in pos_tags:\n",
        "        for category, tags in liwc_categories.items():\n",
        "            if tag in tags:\n",
        "                liwc_cats.add(category)\n",
        "\n",
        "    return liwc_cats"
      ],
      "metadata": {
        "id": "KAH7ZK7yNEqC"
      },
      "execution_count": 16,
      "outputs": []
    },
    {
      "cell_type": "markdown",
      "source": [
        "# 3. Calculating convergence\n",
        "\n",
        "From the [Paper](https://aclanthology.org/W11-0609.pdf), we check if one person A’s inclusion of articles in an utterance triggers the usage of articles in respondent B’s reply.\n",
        "\n",
        "**Note** that this differs from asking whether B uses articles more often when talking to A than when talking to other people (people speak differently to different audiences).\n",
        "\n",
        "Research Question: Does each utterance by A triggers an immediate change in B’s behavior?\n"
      ],
      "metadata": {
        "id": "Al-I79ElP590"
      }
    },
    {
      "cell_type": "code",
      "source": [
        "# count all the frequencies for probabilities (this will take a while...)\n",
        "reply_freqs = { }\n",
        "post_cat_freqs = { }\n",
        "reply_cat_freqs = { }\n",
        "\n",
        "cache_liwc = { }\n",
        "def get_liwc_cats(text):\n",
        "  if text in cache_liwc:\n",
        "      return cache_liwc[text]\n",
        "\n",
        "  cats = extract_liwc_cats(text)\n",
        "  cache_liwc[text] = cats\n",
        "  return cats\n",
        "\n",
        "# let's process something smaller for the time reasons\n",
        "for index, row in df.head(5000).iterrows():\n",
        "    post_author = row[\"Author\"]\n",
        "    if post_author not in reply_freqs:\n",
        "      reply_freqs[post_author] = { }\n",
        "      post_cat_freqs[post_author] = { }\n",
        "      reply_cat_freqs[post_author] = { }\n",
        "\n",
        "    post_cats = get_liwc_cats(row[\"Post\"])\n",
        "    for cat in post_cats:\n",
        "        if cat not in post_cat_freqs[post_author]:\n",
        "            post_cat_freqs[post_author][cat] = 1\n",
        "        else:\n",
        "            post_cat_freqs[post_author][cat] += 1\n",
        "\n",
        "    for (author, reply) in row[\"Replies\"]:\n",
        "        if author not in reply_freqs[post_author]:\n",
        "            reply_freqs[post_author][author] = 1\n",
        "            reply_cat_freqs[post_author][author] = { }\n",
        "        else:\n",
        "            reply_freqs[post_author][author] += 1\n",
        "\n",
        "        reply_cats = get_liwc_cats(reply)\n",
        "        for cat in reply_cats:\n",
        "            if cat not in reply_cat_freqs[post_author][author]:\n",
        "                reply_cat_freqs[post_author][author][cat] = 1\n",
        "            else:\n",
        "                reply_cat_freqs[post_author][author][cat] += 1"
      ],
      "metadata": {
        "id": "51YpVPQDytkl"
      },
      "execution_count": 23,
      "outputs": []
    },
    {
      "cell_type": "markdown",
      "source": [
        "## Calculating convergence"
      ],
      "metadata": {
        "id": "dcSVPIMRuB1e"
      }
    },
    {
      "cell_type": "code",
      "source": [
        "import numpy as np\n",
        "\n",
        "def compute_prob_of_cat_reply(a, b, category):\n",
        "    if category not in reply_cat_freqs[a][b]:\n",
        "      return 0\n",
        "\n",
        "    all_replies = sum(reply_cat_freqs[a][b].values())\n",
        "    cat_replies = reply_cat_freqs[a][b][category]\n",
        "\n",
        "    return cat_replies / all_replies\n",
        "\n",
        "def compute_prob_of_cat_post(a, category):\n",
        "    if category not in post_cat_freqs[a]:\n",
        "        return 0\n",
        "\n",
        "    all_posts = sum(post_cat_freqs[a].values())\n",
        "    cat_replies = post_cat_freqs[a][category]\n",
        "\n",
        "    return cat_replies / all_posts"
      ],
      "metadata": {
        "id": "SiDDgZOVeytn"
      },
      "execution_count": 30,
      "outputs": []
    },
    {
      "cell_type": "code",
      "source": [
        "# let's see some examples:\n",
        "print(compute_prob_of_cat_reply(\"recycled_kevlar\", \"EstoAm\", \"articles\"))\n",
        "print(compute_prob_of_cat_post(\"recycled_kevlar\", \"articles\"))"
      ],
      "metadata": {
        "colab": {
          "base_uri": "https://localhost:8080/"
        },
        "id": "60DVT14yhl_y",
        "outputId": "d7854032-097e-41e0-a510-a65f96da7aef"
      },
      "execution_count": 31,
      "outputs": [
        {
          "output_type": "stream",
          "name": "stdout",
          "text": [
            "0.1282051282051282\n",
            "0.1206896551724138\n"
          ]
        }
      ]
    },
    {
      "cell_type": "code",
      "source": [
        "# TODO Based on the equasion from the paper, finish the code to get the difference between the two probabilites\n"
      ],
      "metadata": {
        "id": "SsjXVPgnf5VE"
      },
      "execution_count": 32,
      "outputs": []
    }
  ]
}