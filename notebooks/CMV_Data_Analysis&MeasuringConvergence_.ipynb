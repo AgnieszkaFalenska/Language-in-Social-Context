{
  "nbformat": 4,
  "nbformat_minor": 0,
  "metadata": {
    "colab": {
      "provenance": []
    },
    "kernelspec": {
      "name": "python3",
      "display_name": "Python 3"
    },
    "language_info": {
      "name": "python"
    }
  },
  "cells": [
    {
      "cell_type": "markdown",
      "source": [
        "# Download the data (or locally run the script prepare-cmv-data.sh)"
      ],
      "metadata": {
        "id": "lbpR5xC7Tfgw"
      }
    },
    {
      "cell_type": "code",
      "execution_count": 1,
      "metadata": {
        "colab": {
          "base_uri": "https://localhost:8080/"
        },
        "id": "h1biIZj9TB6q",
        "outputId": "2d7bb756-d861-4fb4-9917-fa09ea9247df"
      },
      "outputs": [
        {
          "output_type": "stream",
          "name": "stdout",
          "text": [
            "Downloading...\n",
            "From (original): https://drive.google.com/uc?id=1lJxnI5r1e13hkOprIgcSfnIEto7kol_K\n",
            "From (redirected): https://drive.google.com/uc?id=1lJxnI5r1e13hkOprIgcSfnIEto7kol_K&confirm=t&uuid=031be8da-107f-43e0-9d39-64b7c23cc98e\n",
            "To: /content/cmv.direct_replies.csv\n",
            "100% 438M/438M [00:12<00:00, 36.3MB/s]\n"
          ]
        }
      ],
      "source": [
        "!gdown --fuzzy https://drive.google.com/file/d/1lJxnI5r1e13hkOprIgcSfnIEto7kol_K/view?usp=sharing"
      ]
    },
    {
      "cell_type": "markdown",
      "source": [
        "# Load the Dataset\n"
      ],
      "metadata": {
        "id": "JW6oywnpTmqG"
      }
    },
    {
      "cell_type": "code",
      "source": [
        "import pandas as pd\n",
        "import ast\n",
        "\n",
        "df = pd.read_csv(\"/content/cmv.direct_replies.csv\", converters={'Replies': ast.literal_eval})"
      ],
      "metadata": {
        "id": "0t_wgyhbTkYl"
      },
      "execution_count": 2,
      "outputs": []
    },
    {
      "cell_type": "code",
      "source": [
        "df.head()\n"
      ],
      "metadata": {
        "colab": {
          "base_uri": "https://localhost:8080/",
          "height": 241
        },
        "id": "snc-9KTvTo8H",
        "outputId": "3a433336-064b-461f-89c5-63f8d8b22969"
      },
      "execution_count": 3,
      "outputs": [
        {
          "output_type": "execute_result",
          "data": {
            "text/plain": [
              "            Author                        Topic  \\\n",
              "0  recycled_kevlar  jobs_automation_will_robots   \n",
              "1           EstoAm  jobs_automation_will_robots   \n",
              "2  recycled_kevlar  jobs_automation_will_robots   \n",
              "3           EstoAm  jobs_automation_will_robots   \n",
              "4  recycled_kevlar  jobs_automation_will_robots   \n",
              "\n",
              "                                                Post  \\\n",
              "0  Automation is happening at an astonishing rate...   \n",
              "1  You are also assuming there will ever be a \"po...   \n",
              "2  Two things: A post scarcity economy is not def...   \n",
              "3  No the automation you are talking about has ma...   \n",
              "4  Why? Economic value can not be forced onto a t...   \n",
              "\n",
              "                                             Replies  \n",
              "0  [(EstoAm, You are also assuming there will eve...  \n",
              "1  [(recycled_kevlar, Two things: A post scarcity...  \n",
              "2  [(EstoAm, No the automation you are talking ab...  \n",
              "3  [(recycled_kevlar, Why? Economic value can not...  \n",
              "4  [(EstoAm, Because humans have an innate drive ...  "
            ],
            "text/html": [
              "\n",
              "  <div id=\"df-2c6f4098-e345-465d-8dce-6006ccacef23\" class=\"colab-df-container\">\n",
              "    <div>\n",
              "<style scoped>\n",
              "    .dataframe tbody tr th:only-of-type {\n",
              "        vertical-align: middle;\n",
              "    }\n",
              "\n",
              "    .dataframe tbody tr th {\n",
              "        vertical-align: top;\n",
              "    }\n",
              "\n",
              "    .dataframe thead th {\n",
              "        text-align: right;\n",
              "    }\n",
              "</style>\n",
              "<table border=\"1\" class=\"dataframe\">\n",
              "  <thead>\n",
              "    <tr style=\"text-align: right;\">\n",
              "      <th></th>\n",
              "      <th>Author</th>\n",
              "      <th>Topic</th>\n",
              "      <th>Post</th>\n",
              "      <th>Replies</th>\n",
              "    </tr>\n",
              "  </thead>\n",
              "  <tbody>\n",
              "    <tr>\n",
              "      <th>0</th>\n",
              "      <td>recycled_kevlar</td>\n",
              "      <td>jobs_automation_will_robots</td>\n",
              "      <td>Automation is happening at an astonishing rate...</td>\n",
              "      <td>[(EstoAm, You are also assuming there will eve...</td>\n",
              "    </tr>\n",
              "    <tr>\n",
              "      <th>1</th>\n",
              "      <td>EstoAm</td>\n",
              "      <td>jobs_automation_will_robots</td>\n",
              "      <td>You are also assuming there will ever be a \"po...</td>\n",
              "      <td>[(recycled_kevlar, Two things: A post scarcity...</td>\n",
              "    </tr>\n",
              "    <tr>\n",
              "      <th>2</th>\n",
              "      <td>recycled_kevlar</td>\n",
              "      <td>jobs_automation_will_robots</td>\n",
              "      <td>Two things: A post scarcity economy is not def...</td>\n",
              "      <td>[(EstoAm, No the automation you are talking ab...</td>\n",
              "    </tr>\n",
              "    <tr>\n",
              "      <th>3</th>\n",
              "      <td>EstoAm</td>\n",
              "      <td>jobs_automation_will_robots</td>\n",
              "      <td>No the automation you are talking about has ma...</td>\n",
              "      <td>[(recycled_kevlar, Why? Economic value can not...</td>\n",
              "    </tr>\n",
              "    <tr>\n",
              "      <th>4</th>\n",
              "      <td>recycled_kevlar</td>\n",
              "      <td>jobs_automation_will_robots</td>\n",
              "      <td>Why? Economic value can not be forced onto a t...</td>\n",
              "      <td>[(EstoAm, Because humans have an innate drive ...</td>\n",
              "    </tr>\n",
              "  </tbody>\n",
              "</table>\n",
              "</div>\n",
              "    <div class=\"colab-df-buttons\">\n",
              "\n",
              "  <div class=\"colab-df-container\">\n",
              "    <button class=\"colab-df-convert\" onclick=\"convertToInteractive('df-2c6f4098-e345-465d-8dce-6006ccacef23')\"\n",
              "            title=\"Convert this dataframe to an interactive table.\"\n",
              "            style=\"display:none;\">\n",
              "\n",
              "  <svg xmlns=\"http://www.w3.org/2000/svg\" height=\"24px\" viewBox=\"0 -960 960 960\">\n",
              "    <path d=\"M120-120v-720h720v720H120Zm60-500h600v-160H180v160Zm220 220h160v-160H400v160Zm0 220h160v-160H400v160ZM180-400h160v-160H180v160Zm440 0h160v-160H620v160ZM180-180h160v-160H180v160Zm440 0h160v-160H620v160Z\"/>\n",
              "  </svg>\n",
              "    </button>\n",
              "\n",
              "  <style>\n",
              "    .colab-df-container {\n",
              "      display:flex;\n",
              "      gap: 12px;\n",
              "    }\n",
              "\n",
              "    .colab-df-convert {\n",
              "      background-color: #E8F0FE;\n",
              "      border: none;\n",
              "      border-radius: 50%;\n",
              "      cursor: pointer;\n",
              "      display: none;\n",
              "      fill: #1967D2;\n",
              "      height: 32px;\n",
              "      padding: 0 0 0 0;\n",
              "      width: 32px;\n",
              "    }\n",
              "\n",
              "    .colab-df-convert:hover {\n",
              "      background-color: #E2EBFA;\n",
              "      box-shadow: 0px 1px 2px rgba(60, 64, 67, 0.3), 0px 1px 3px 1px rgba(60, 64, 67, 0.15);\n",
              "      fill: #174EA6;\n",
              "    }\n",
              "\n",
              "    .colab-df-buttons div {\n",
              "      margin-bottom: 4px;\n",
              "    }\n",
              "\n",
              "    [theme=dark] .colab-df-convert {\n",
              "      background-color: #3B4455;\n",
              "      fill: #D2E3FC;\n",
              "    }\n",
              "\n",
              "    [theme=dark] .colab-df-convert:hover {\n",
              "      background-color: #434B5C;\n",
              "      box-shadow: 0px 1px 3px 1px rgba(0, 0, 0, 0.15);\n",
              "      filter: drop-shadow(0px 1px 2px rgba(0, 0, 0, 0.3));\n",
              "      fill: #FFFFFF;\n",
              "    }\n",
              "  </style>\n",
              "\n",
              "    <script>\n",
              "      const buttonEl =\n",
              "        document.querySelector('#df-2c6f4098-e345-465d-8dce-6006ccacef23 button.colab-df-convert');\n",
              "      buttonEl.style.display =\n",
              "        google.colab.kernel.accessAllowed ? 'block' : 'none';\n",
              "\n",
              "      async function convertToInteractive(key) {\n",
              "        const element = document.querySelector('#df-2c6f4098-e345-465d-8dce-6006ccacef23');\n",
              "        const dataTable =\n",
              "          await google.colab.kernel.invokeFunction('convertToInteractive',\n",
              "                                                    [key], {});\n",
              "        if (!dataTable) return;\n",
              "\n",
              "        const docLinkHtml = 'Like what you see? Visit the ' +\n",
              "          '<a target=\"_blank\" href=https://colab.research.google.com/notebooks/data_table.ipynb>data table notebook</a>'\n",
              "          + ' to learn more about interactive tables.';\n",
              "        element.innerHTML = '';\n",
              "        dataTable['output_type'] = 'display_data';\n",
              "        await google.colab.output.renderOutput(dataTable, element);\n",
              "        const docLink = document.createElement('div');\n",
              "        docLink.innerHTML = docLinkHtml;\n",
              "        element.appendChild(docLink);\n",
              "      }\n",
              "    </script>\n",
              "  </div>\n",
              "\n",
              "\n",
              "<div id=\"df-b17a556e-7da4-4eb2-9f0f-3499a1aae250\">\n",
              "  <button class=\"colab-df-quickchart\" onclick=\"quickchart('df-b17a556e-7da4-4eb2-9f0f-3499a1aae250')\"\n",
              "            title=\"Suggest charts\"\n",
              "            style=\"display:none;\">\n",
              "\n",
              "<svg xmlns=\"http://www.w3.org/2000/svg\" height=\"24px\"viewBox=\"0 0 24 24\"\n",
              "     width=\"24px\">\n",
              "    <g>\n",
              "        <path d=\"M19 3H5c-1.1 0-2 .9-2 2v14c0 1.1.9 2 2 2h14c1.1 0 2-.9 2-2V5c0-1.1-.9-2-2-2zM9 17H7v-7h2v7zm4 0h-2V7h2v10zm4 0h-2v-4h2v4z\"/>\n",
              "    </g>\n",
              "</svg>\n",
              "  </button>\n",
              "\n",
              "<style>\n",
              "  .colab-df-quickchart {\n",
              "      --bg-color: #E8F0FE;\n",
              "      --fill-color: #1967D2;\n",
              "      --hover-bg-color: #E2EBFA;\n",
              "      --hover-fill-color: #174EA6;\n",
              "      --disabled-fill-color: #AAA;\n",
              "      --disabled-bg-color: #DDD;\n",
              "  }\n",
              "\n",
              "  [theme=dark] .colab-df-quickchart {\n",
              "      --bg-color: #3B4455;\n",
              "      --fill-color: #D2E3FC;\n",
              "      --hover-bg-color: #434B5C;\n",
              "      --hover-fill-color: #FFFFFF;\n",
              "      --disabled-bg-color: #3B4455;\n",
              "      --disabled-fill-color: #666;\n",
              "  }\n",
              "\n",
              "  .colab-df-quickchart {\n",
              "    background-color: var(--bg-color);\n",
              "    border: none;\n",
              "    border-radius: 50%;\n",
              "    cursor: pointer;\n",
              "    display: none;\n",
              "    fill: var(--fill-color);\n",
              "    height: 32px;\n",
              "    padding: 0;\n",
              "    width: 32px;\n",
              "  }\n",
              "\n",
              "  .colab-df-quickchart:hover {\n",
              "    background-color: var(--hover-bg-color);\n",
              "    box-shadow: 0 1px 2px rgba(60, 64, 67, 0.3), 0 1px 3px 1px rgba(60, 64, 67, 0.15);\n",
              "    fill: var(--button-hover-fill-color);\n",
              "  }\n",
              "\n",
              "  .colab-df-quickchart-complete:disabled,\n",
              "  .colab-df-quickchart-complete:disabled:hover {\n",
              "    background-color: var(--disabled-bg-color);\n",
              "    fill: var(--disabled-fill-color);\n",
              "    box-shadow: none;\n",
              "  }\n",
              "\n",
              "  .colab-df-spinner {\n",
              "    border: 2px solid var(--fill-color);\n",
              "    border-color: transparent;\n",
              "    border-bottom-color: var(--fill-color);\n",
              "    animation:\n",
              "      spin 1s steps(1) infinite;\n",
              "  }\n",
              "\n",
              "  @keyframes spin {\n",
              "    0% {\n",
              "      border-color: transparent;\n",
              "      border-bottom-color: var(--fill-color);\n",
              "      border-left-color: var(--fill-color);\n",
              "    }\n",
              "    20% {\n",
              "      border-color: transparent;\n",
              "      border-left-color: var(--fill-color);\n",
              "      border-top-color: var(--fill-color);\n",
              "    }\n",
              "    30% {\n",
              "      border-color: transparent;\n",
              "      border-left-color: var(--fill-color);\n",
              "      border-top-color: var(--fill-color);\n",
              "      border-right-color: var(--fill-color);\n",
              "    }\n",
              "    40% {\n",
              "      border-color: transparent;\n",
              "      border-right-color: var(--fill-color);\n",
              "      border-top-color: var(--fill-color);\n",
              "    }\n",
              "    60% {\n",
              "      border-color: transparent;\n",
              "      border-right-color: var(--fill-color);\n",
              "    }\n",
              "    80% {\n",
              "      border-color: transparent;\n",
              "      border-right-color: var(--fill-color);\n",
              "      border-bottom-color: var(--fill-color);\n",
              "    }\n",
              "    90% {\n",
              "      border-color: transparent;\n",
              "      border-bottom-color: var(--fill-color);\n",
              "    }\n",
              "  }\n",
              "</style>\n",
              "\n",
              "  <script>\n",
              "    async function quickchart(key) {\n",
              "      const quickchartButtonEl =\n",
              "        document.querySelector('#' + key + ' button');\n",
              "      quickchartButtonEl.disabled = true;  // To prevent multiple clicks.\n",
              "      quickchartButtonEl.classList.add('colab-df-spinner');\n",
              "      try {\n",
              "        const charts = await google.colab.kernel.invokeFunction(\n",
              "            'suggestCharts', [key], {});\n",
              "      } catch (error) {\n",
              "        console.error('Error during call to suggestCharts:', error);\n",
              "      }\n",
              "      quickchartButtonEl.classList.remove('colab-df-spinner');\n",
              "      quickchartButtonEl.classList.add('colab-df-quickchart-complete');\n",
              "    }\n",
              "    (() => {\n",
              "      let quickchartButtonEl =\n",
              "        document.querySelector('#df-b17a556e-7da4-4eb2-9f0f-3499a1aae250 button');\n",
              "      quickchartButtonEl.style.display =\n",
              "        google.colab.kernel.accessAllowed ? 'block' : 'none';\n",
              "    })();\n",
              "  </script>\n",
              "</div>\n",
              "\n",
              "    </div>\n",
              "  </div>\n"
            ],
            "application/vnd.google.colaboratory.intrinsic+json": {
              "type": "dataframe",
              "variable_name": "df"
            }
          },
          "metadata": {},
          "execution_count": 3
        }
      ]
    },
    {
      "cell_type": "code",
      "source": [
        "len(df)"
      ],
      "metadata": {
        "colab": {
          "base_uri": "https://localhost:8080/"
        },
        "id": "BgqaYQy_ejOQ",
        "outputId": "6ad1ed50-60c0-4935-9062-ec4a7d2da4d3"
      },
      "execution_count": 4,
      "outputs": [
        {
          "output_type": "execute_result",
          "data": {
            "text/plain": [
              "284409"
            ]
          },
          "metadata": {},
          "execution_count": 4
        }
      ]
    },
    {
      "cell_type": "code",
      "source": [],
      "metadata": {
        "id": "wBIuMf9fuih9"
      },
      "execution_count": 6,
      "outputs": []
    },
    {
      "cell_type": "markdown",
      "source": [
        "# 1. Show an example of an exchange"
      ],
      "metadata": {
        "id": "bYPZzVXWTseu"
      }
    },
    {
      "cell_type": "code",
      "source": [
        "import ast\n",
        "\n",
        "row = df.iloc[17]\n",
        "\n",
        "print(f\"Author {row['Author']} posted: {row['Post']}\")\n",
        "print(\"Replies:\")\n",
        "for reply in row[\"Replies\"]:\n",
        "    print(f\"    Author: {reply[0]}, Post: {reply[1]}\")"
      ],
      "metadata": {
        "colab": {
          "base_uri": "https://localhost:8080/"
        },
        "id": "kQZOIRFSTqQY",
        "outputId": "1b52b2fb-b82b-4e38-c246-8d88437e8427"
      },
      "execution_count": 5,
      "outputs": [
        {
          "output_type": "stream",
          "name": "stdout",
          "text": [
            "Author DurianMD posted: So recently I've seen a lot of posts condemning Islam as a violent religion or a sexist religion. I point out that many Christians follow the bible which has numerous examples of sexism, but in application, there are numerous branches of Christianity that are no more sexist than secular groups. For example, Congregationalists and Universaliists. So, my belief is that while religion can inform the views of people, it is far more likely that religion will be used to justify actions that would have been executed any way. I think that most Jewish people don't want to stone adulterers and most Muslims don't want to stone non believers. _____ &gt; *Hello, users of CMV! This is a footnote from your moderators. We'd just like to remind you of a couple of things. Firstly, please remember to* ***[read through our rules](http://www.reddit.com/r/changemyview/wiki/rules)***. *If you see a comment that has broken one, it is more effective to report it than downvote it. Speaking of which,* ***[downvotes don't change views](http://www.reddit.com/r/changemyview/wiki/guidelines#wiki_upvoting.2Fdownvoting)****! If you are thinking about submitting a CMV yourself, please have a look through our* ***[popular topics wiki](http://www.reddit.com/r/changemyview/wiki/populartopics)*** *first. Any questions or concerns? Feel free to* ***[message us](http://www.reddit.com/message/compose?to=/r/changemyview)***. *Happy CMVing!*\n",
            "Replies:\n",
            "    Author: recycled_kevlar, Post: Your stance relies on the assumption that religion has no influence on the actions of its followers beyond the superficial. Yet something must exist that allows this pattern to occur. Ill narrow it down to religion or culture. So, you are correct if you assume the culture dominates the religion, and you are incorrect if the reverse is true. With this in mind, I think its safe to assume the truth is somewhere in between, with both the religion and the culture somehow influencing the unrest we see.\n",
            "    Author: beer_demon, Post: The fact I don't fear an Amish flying a plane into my office tower or a Jain blowing up my bus makes me doubt that religions have no inherent features that influence people's actions.\n"
          ]
        }
      ]
    },
    {
      "cell_type": "markdown",
      "source": [
        "# 2. Count all exchanges\n"
      ],
      "metadata": {
        "id": "rmfJ8a1BT0sj"
      }
    },
    {
      "cell_type": "code",
      "source": [
        "count = 0\n",
        "for index, row in df.iterrows():\n",
        "    count += len(row[\"Replies\"])\n",
        "\n",
        "print(\"Number of exchanges:\", count)"
      ],
      "metadata": {
        "colab": {
          "base_uri": "https://localhost:8080/"
        },
        "id": "tnKM-TmqTwnb",
        "outputId": "0a4af679-0f68-4a5c-da65-86b1d7ecc9d6"
      },
      "execution_count": null,
      "outputs": [
        {
          "output_type": "stream",
          "name": "stdout",
          "text": [
            "Number of exchanges: 409650\n"
          ]
        }
      ]
    },
    {
      "cell_type": "markdown",
      "source": [
        "# List of Authors"
      ],
      "metadata": {
        "id": "4GXVx1yfYb1r"
      }
    },
    {
      "cell_type": "code",
      "source": [
        "df['Author'].value_counts()"
      ],
      "metadata": {
        "colab": {
          "base_uri": "https://localhost:8080/"
        },
        "id": "vxbye-h6YeGZ",
        "outputId": "a7fb5b9c-fe97-4ea5-a992-2039c3aeaa8d"
      },
      "execution_count": null,
      "outputs": [
        {
          "output_type": "execute_result",
          "data": {
            "text/plain": [
              "Author\n",
              "[deleted]       23874\n",
              "BenIncognito     1360\n",
              "Hq3473           1312\n",
              "GnosticGnome     1308\n",
              "monkyyy          1242\n",
              "                ...  \n",
              "selfish             1\n",
              "Emeryn              1\n",
              "MerryWalrus         1\n",
              "joebarts97          1\n",
              "Haleljacob          1\n",
              "Name: count, Length: 18350, dtype: int64"
            ]
          },
          "metadata": {},
          "execution_count": 19
        }
      ]
    },
    {
      "cell_type": "markdown",
      "source": [
        "# Author = [deleted] ?\n",
        "Since there are 23874 deleted post, let's check what are the topics of deleted data"
      ],
      "metadata": {
        "id": "Qv20UiWfVxnO"
      }
    },
    {
      "cell_type": "code",
      "source": [
        "df[df[\"Author\"]==\"[deleted]\"]"
      ],
      "metadata": {
        "colab": {
          "base_uri": "https://localhost:8080/",
          "height": 424
        },
        "id": "FSUEwvW6VilX",
        "outputId": "df04f15f-9f37-4d30-88c4-3fe4d60ce5fb"
      },
      "execution_count": null,
      "outputs": [
        {
          "output_type": "execute_result",
          "data": {
            "text/plain": [
              "           Author                           Topic  \\\n",
              "86      [deleted]  soda_coffee_caffeine_starbucks   \n",
              "87      [deleted]  soda_coffee_caffeine_starbucks   \n",
              "88      [deleted]  soda_coffee_caffeine_starbucks   \n",
              "89      [deleted]  soda_coffee_caffeine_starbucks   \n",
              "90      [deleted]  soda_coffee_caffeine_starbucks   \n",
              "...           ...                             ...   \n",
              "284336  [deleted]                   the_and_to_of   \n",
              "284386  [deleted]         music_song_songs_listen   \n",
              "284388  [deleted]         music_song_songs_listen   \n",
              "284390  [deleted]         music_song_songs_listen   \n",
              "284392  [deleted]         music_song_songs_listen   \n",
              "\n",
              "                                                     Post  \\\n",
              "86                                              [deleted]   \n",
              "87                                              [deleted]   \n",
              "88                                              [deleted]   \n",
              "89                                              [deleted]   \n",
              "90                                              [deleted]   \n",
              "...                                                   ...   \n",
              "284336                                          [deleted]   \n",
              "284386  &gt; And what's wrong with that Nothing, but t...   \n",
              "284388  Because it looks ridiculous. There's a differe...   \n",
              "284390  &gt; I think you're only old if you act old. N...   \n",
              "284392                                          [deleted]   \n",
              "\n",
              "                                                  Replies  \n",
              "86                               [([deleted], [deleted])]  \n",
              "87                               [([deleted], [deleted])]  \n",
              "88                               [([deleted], [deleted])]  \n",
              "89                               [([deleted], [deleted])]  \n",
              "90                               [([deleted], [deleted])]  \n",
              "...                                                   ...  \n",
              "284336  [(2074red2074, I never said that we don't want...  \n",
              "284386  [(call_it_art, If there's nothing wrong with i...  \n",
              "284388  [(call_it_art, I think you're only old if you ...  \n",
              "284390  [(call_it_art, What are some examples of the r...  \n",
              "284392  [(call_it_art, I honestly don't see anything w...  \n",
              "\n",
              "[23874 rows x 4 columns]"
            ],
            "text/html": [
              "\n",
              "  <div id=\"df-1fa29f26-49fc-4053-9c58-9851a12d40bb\" class=\"colab-df-container\">\n",
              "    <div>\n",
              "<style scoped>\n",
              "    .dataframe tbody tr th:only-of-type {\n",
              "        vertical-align: middle;\n",
              "    }\n",
              "\n",
              "    .dataframe tbody tr th {\n",
              "        vertical-align: top;\n",
              "    }\n",
              "\n",
              "    .dataframe thead th {\n",
              "        text-align: right;\n",
              "    }\n",
              "</style>\n",
              "<table border=\"1\" class=\"dataframe\">\n",
              "  <thead>\n",
              "    <tr style=\"text-align: right;\">\n",
              "      <th></th>\n",
              "      <th>Author</th>\n",
              "      <th>Topic</th>\n",
              "      <th>Post</th>\n",
              "      <th>Replies</th>\n",
              "    </tr>\n",
              "  </thead>\n",
              "  <tbody>\n",
              "    <tr>\n",
              "      <th>86</th>\n",
              "      <td>[deleted]</td>\n",
              "      <td>soda_coffee_caffeine_starbucks</td>\n",
              "      <td>[deleted]</td>\n",
              "      <td>[([deleted], [deleted])]</td>\n",
              "    </tr>\n",
              "    <tr>\n",
              "      <th>87</th>\n",
              "      <td>[deleted]</td>\n",
              "      <td>soda_coffee_caffeine_starbucks</td>\n",
              "      <td>[deleted]</td>\n",
              "      <td>[([deleted], [deleted])]</td>\n",
              "    </tr>\n",
              "    <tr>\n",
              "      <th>88</th>\n",
              "      <td>[deleted]</td>\n",
              "      <td>soda_coffee_caffeine_starbucks</td>\n",
              "      <td>[deleted]</td>\n",
              "      <td>[([deleted], [deleted])]</td>\n",
              "    </tr>\n",
              "    <tr>\n",
              "      <th>89</th>\n",
              "      <td>[deleted]</td>\n",
              "      <td>soda_coffee_caffeine_starbucks</td>\n",
              "      <td>[deleted]</td>\n",
              "      <td>[([deleted], [deleted])]</td>\n",
              "    </tr>\n",
              "    <tr>\n",
              "      <th>90</th>\n",
              "      <td>[deleted]</td>\n",
              "      <td>soda_coffee_caffeine_starbucks</td>\n",
              "      <td>[deleted]</td>\n",
              "      <td>[([deleted], [deleted])]</td>\n",
              "    </tr>\n",
              "    <tr>\n",
              "      <th>...</th>\n",
              "      <td>...</td>\n",
              "      <td>...</td>\n",
              "      <td>...</td>\n",
              "      <td>...</td>\n",
              "    </tr>\n",
              "    <tr>\n",
              "      <th>284336</th>\n",
              "      <td>[deleted]</td>\n",
              "      <td>the_and_to_of</td>\n",
              "      <td>[deleted]</td>\n",
              "      <td>[(2074red2074, I never said that we don't want...</td>\n",
              "    </tr>\n",
              "    <tr>\n",
              "      <th>284386</th>\n",
              "      <td>[deleted]</td>\n",
              "      <td>music_song_songs_listen</td>\n",
              "      <td>&amp;gt; And what's wrong with that Nothing, but t...</td>\n",
              "      <td>[(call_it_art, If there's nothing wrong with i...</td>\n",
              "    </tr>\n",
              "    <tr>\n",
              "      <th>284388</th>\n",
              "      <td>[deleted]</td>\n",
              "      <td>music_song_songs_listen</td>\n",
              "      <td>Because it looks ridiculous. There's a differe...</td>\n",
              "      <td>[(call_it_art, I think you're only old if you ...</td>\n",
              "    </tr>\n",
              "    <tr>\n",
              "      <th>284390</th>\n",
              "      <td>[deleted]</td>\n",
              "      <td>music_song_songs_listen</td>\n",
              "      <td>&amp;gt; I think you're only old if you act old. N...</td>\n",
              "      <td>[(call_it_art, What are some examples of the r...</td>\n",
              "    </tr>\n",
              "    <tr>\n",
              "      <th>284392</th>\n",
              "      <td>[deleted]</td>\n",
              "      <td>music_song_songs_listen</td>\n",
              "      <td>[deleted]</td>\n",
              "      <td>[(call_it_art, I honestly don't see anything w...</td>\n",
              "    </tr>\n",
              "  </tbody>\n",
              "</table>\n",
              "<p>23874 rows × 4 columns</p>\n",
              "</div>\n",
              "    <div class=\"colab-df-buttons\">\n",
              "\n",
              "  <div class=\"colab-df-container\">\n",
              "    <button class=\"colab-df-convert\" onclick=\"convertToInteractive('df-1fa29f26-49fc-4053-9c58-9851a12d40bb')\"\n",
              "            title=\"Convert this dataframe to an interactive table.\"\n",
              "            style=\"display:none;\">\n",
              "\n",
              "  <svg xmlns=\"http://www.w3.org/2000/svg\" height=\"24px\" viewBox=\"0 -960 960 960\">\n",
              "    <path d=\"M120-120v-720h720v720H120Zm60-500h600v-160H180v160Zm220 220h160v-160H400v160Zm0 220h160v-160H400v160ZM180-400h160v-160H180v160Zm440 0h160v-160H620v160ZM180-180h160v-160H180v160Zm440 0h160v-160H620v160Z\"/>\n",
              "  </svg>\n",
              "    </button>\n",
              "\n",
              "  <style>\n",
              "    .colab-df-container {\n",
              "      display:flex;\n",
              "      gap: 12px;\n",
              "    }\n",
              "\n",
              "    .colab-df-convert {\n",
              "      background-color: #E8F0FE;\n",
              "      border: none;\n",
              "      border-radius: 50%;\n",
              "      cursor: pointer;\n",
              "      display: none;\n",
              "      fill: #1967D2;\n",
              "      height: 32px;\n",
              "      padding: 0 0 0 0;\n",
              "      width: 32px;\n",
              "    }\n",
              "\n",
              "    .colab-df-convert:hover {\n",
              "      background-color: #E2EBFA;\n",
              "      box-shadow: 0px 1px 2px rgba(60, 64, 67, 0.3), 0px 1px 3px 1px rgba(60, 64, 67, 0.15);\n",
              "      fill: #174EA6;\n",
              "    }\n",
              "\n",
              "    .colab-df-buttons div {\n",
              "      margin-bottom: 4px;\n",
              "    }\n",
              "\n",
              "    [theme=dark] .colab-df-convert {\n",
              "      background-color: #3B4455;\n",
              "      fill: #D2E3FC;\n",
              "    }\n",
              "\n",
              "    [theme=dark] .colab-df-convert:hover {\n",
              "      background-color: #434B5C;\n",
              "      box-shadow: 0px 1px 3px 1px rgba(0, 0, 0, 0.15);\n",
              "      filter: drop-shadow(0px 1px 2px rgba(0, 0, 0, 0.3));\n",
              "      fill: #FFFFFF;\n",
              "    }\n",
              "  </style>\n",
              "\n",
              "    <script>\n",
              "      const buttonEl =\n",
              "        document.querySelector('#df-1fa29f26-49fc-4053-9c58-9851a12d40bb button.colab-df-convert');\n",
              "      buttonEl.style.display =\n",
              "        google.colab.kernel.accessAllowed ? 'block' : 'none';\n",
              "\n",
              "      async function convertToInteractive(key) {\n",
              "        const element = document.querySelector('#df-1fa29f26-49fc-4053-9c58-9851a12d40bb');\n",
              "        const dataTable =\n",
              "          await google.colab.kernel.invokeFunction('convertToInteractive',\n",
              "                                                    [key], {});\n",
              "        if (!dataTable) return;\n",
              "\n",
              "        const docLinkHtml = 'Like what you see? Visit the ' +\n",
              "          '<a target=\"_blank\" href=https://colab.research.google.com/notebooks/data_table.ipynb>data table notebook</a>'\n",
              "          + ' to learn more about interactive tables.';\n",
              "        element.innerHTML = '';\n",
              "        dataTable['output_type'] = 'display_data';\n",
              "        await google.colab.output.renderOutput(dataTable, element);\n",
              "        const docLink = document.createElement('div');\n",
              "        docLink.innerHTML = docLinkHtml;\n",
              "        element.appendChild(docLink);\n",
              "      }\n",
              "    </script>\n",
              "  </div>\n",
              "\n",
              "\n",
              "<div id=\"df-22947f8c-826b-4d00-a3b0-fc65f3c70d30\">\n",
              "  <button class=\"colab-df-quickchart\" onclick=\"quickchart('df-22947f8c-826b-4d00-a3b0-fc65f3c70d30')\"\n",
              "            title=\"Suggest charts\"\n",
              "            style=\"display:none;\">\n",
              "\n",
              "<svg xmlns=\"http://www.w3.org/2000/svg\" height=\"24px\"viewBox=\"0 0 24 24\"\n",
              "     width=\"24px\">\n",
              "    <g>\n",
              "        <path d=\"M19 3H5c-1.1 0-2 .9-2 2v14c0 1.1.9 2 2 2h14c1.1 0 2-.9 2-2V5c0-1.1-.9-2-2-2zM9 17H7v-7h2v7zm4 0h-2V7h2v10zm4 0h-2v-4h2v4z\"/>\n",
              "    </g>\n",
              "</svg>\n",
              "  </button>\n",
              "\n",
              "<style>\n",
              "  .colab-df-quickchart {\n",
              "      --bg-color: #E8F0FE;\n",
              "      --fill-color: #1967D2;\n",
              "      --hover-bg-color: #E2EBFA;\n",
              "      --hover-fill-color: #174EA6;\n",
              "      --disabled-fill-color: #AAA;\n",
              "      --disabled-bg-color: #DDD;\n",
              "  }\n",
              "\n",
              "  [theme=dark] .colab-df-quickchart {\n",
              "      --bg-color: #3B4455;\n",
              "      --fill-color: #D2E3FC;\n",
              "      --hover-bg-color: #434B5C;\n",
              "      --hover-fill-color: #FFFFFF;\n",
              "      --disabled-bg-color: #3B4455;\n",
              "      --disabled-fill-color: #666;\n",
              "  }\n",
              "\n",
              "  .colab-df-quickchart {\n",
              "    background-color: var(--bg-color);\n",
              "    border: none;\n",
              "    border-radius: 50%;\n",
              "    cursor: pointer;\n",
              "    display: none;\n",
              "    fill: var(--fill-color);\n",
              "    height: 32px;\n",
              "    padding: 0;\n",
              "    width: 32px;\n",
              "  }\n",
              "\n",
              "  .colab-df-quickchart:hover {\n",
              "    background-color: var(--hover-bg-color);\n",
              "    box-shadow: 0 1px 2px rgba(60, 64, 67, 0.3), 0 1px 3px 1px rgba(60, 64, 67, 0.15);\n",
              "    fill: var(--button-hover-fill-color);\n",
              "  }\n",
              "\n",
              "  .colab-df-quickchart-complete:disabled,\n",
              "  .colab-df-quickchart-complete:disabled:hover {\n",
              "    background-color: var(--disabled-bg-color);\n",
              "    fill: var(--disabled-fill-color);\n",
              "    box-shadow: none;\n",
              "  }\n",
              "\n",
              "  .colab-df-spinner {\n",
              "    border: 2px solid var(--fill-color);\n",
              "    border-color: transparent;\n",
              "    border-bottom-color: var(--fill-color);\n",
              "    animation:\n",
              "      spin 1s steps(1) infinite;\n",
              "  }\n",
              "\n",
              "  @keyframes spin {\n",
              "    0% {\n",
              "      border-color: transparent;\n",
              "      border-bottom-color: var(--fill-color);\n",
              "      border-left-color: var(--fill-color);\n",
              "    }\n",
              "    20% {\n",
              "      border-color: transparent;\n",
              "      border-left-color: var(--fill-color);\n",
              "      border-top-color: var(--fill-color);\n",
              "    }\n",
              "    30% {\n",
              "      border-color: transparent;\n",
              "      border-left-color: var(--fill-color);\n",
              "      border-top-color: var(--fill-color);\n",
              "      border-right-color: var(--fill-color);\n",
              "    }\n",
              "    40% {\n",
              "      border-color: transparent;\n",
              "      border-right-color: var(--fill-color);\n",
              "      border-top-color: var(--fill-color);\n",
              "    }\n",
              "    60% {\n",
              "      border-color: transparent;\n",
              "      border-right-color: var(--fill-color);\n",
              "    }\n",
              "    80% {\n",
              "      border-color: transparent;\n",
              "      border-right-color: var(--fill-color);\n",
              "      border-bottom-color: var(--fill-color);\n",
              "    }\n",
              "    90% {\n",
              "      border-color: transparent;\n",
              "      border-bottom-color: var(--fill-color);\n",
              "    }\n",
              "  }\n",
              "</style>\n",
              "\n",
              "  <script>\n",
              "    async function quickchart(key) {\n",
              "      const quickchartButtonEl =\n",
              "        document.querySelector('#' + key + ' button');\n",
              "      quickchartButtonEl.disabled = true;  // To prevent multiple clicks.\n",
              "      quickchartButtonEl.classList.add('colab-df-spinner');\n",
              "      try {\n",
              "        const charts = await google.colab.kernel.invokeFunction(\n",
              "            'suggestCharts', [key], {});\n",
              "      } catch (error) {\n",
              "        console.error('Error during call to suggestCharts:', error);\n",
              "      }\n",
              "      quickchartButtonEl.classList.remove('colab-df-spinner');\n",
              "      quickchartButtonEl.classList.add('colab-df-quickchart-complete');\n",
              "    }\n",
              "    (() => {\n",
              "      let quickchartButtonEl =\n",
              "        document.querySelector('#df-22947f8c-826b-4d00-a3b0-fc65f3c70d30 button');\n",
              "      quickchartButtonEl.style.display =\n",
              "        google.colab.kernel.accessAllowed ? 'block' : 'none';\n",
              "    })();\n",
              "  </script>\n",
              "</div>\n",
              "\n",
              "    </div>\n",
              "  </div>\n"
            ],
            "application/vnd.google.colaboratory.intrinsic+json": {
              "type": "dataframe",
              "summary": "{\n  \"name\": \"df[df[\\\"Author\\\"]==\\\"[deleted]\\\"]\",\n  \"rows\": 23874,\n  \"fields\": [\n    {\n      \"column\": \"Author\",\n      \"properties\": {\n        \"dtype\": \"category\",\n        \"num_unique_values\": 1,\n        \"samples\": [\n          \"[deleted]\"\n        ],\n        \"semantic_type\": \"\",\n        \"description\": \"\"\n      }\n    },\n    {\n      \"column\": \"Topic\",\n      \"properties\": {\n        \"dtype\": \"category\",\n        \"num_unique_values\": 261,\n        \"samples\": [\n          \"windows_apple_mac_os\"\n        ],\n        \"semantic_type\": \"\",\n        \"description\": \"\"\n      }\n    },\n    {\n      \"column\": \"Post\",\n      \"properties\": {\n        \"dtype\": \"string\",\n        \"num_unique_values\": 15408,\n        \"samples\": [\n          \"The issue of acknowledgment of that level of responsibility does create issues of shifting blame in legal evaluation and in evaluation of laws and their merit. If they share responsibility, for creating a situation where the law could be broken, should only one of them have to shoulder the responsibility for being the actively aggressive party in the law being broken? It's just safer for society to view it the way it does. The potential for exploitation is too great.\"\n        ],\n        \"semantic_type\": \"\",\n        \"description\": \"\"\n      }\n    },\n    {\n      \"column\": \"Replies\",\n      \"properties\": {\n        \"dtype\": \"object\",\n        \"semantic_type\": \"\",\n        \"description\": \"\"\n      }\n    }\n  ]\n}"
            }
          },
          "metadata": {},
          "execution_count": 20
        }
      ]
    },
    {
      "cell_type": "markdown",
      "source": [
        "## Top 10 deleted topics"
      ],
      "metadata": {
        "id": "MlEMqylDvzOh"
      }
    },
    {
      "cell_type": "code",
      "source": [
        "df[df[\"Author\"]==\"[deleted]\"][\"Topic\"].value_counts()[:10]"
      ],
      "metadata": {
        "colab": {
          "base_uri": "https://localhost:8080/"
        },
        "id": "a4890WpPVuZZ",
        "outputId": "408c6e0a-d782-4213-d121-e8818dbcf3a2"
      },
      "execution_count": null,
      "outputs": [
        {
          "output_type": "execute_result",
          "data": {
            "text/plain": [
              "Topic\n",
              "the_and_to_of                       7010\n",
              "abortion_fetus_prolife_abortions     472\n",
              "feminism_men_feminist_women          468\n",
              "meat_animals_eating_eat              413\n",
              "gun_guns_firearms_weapons            410\n",
              "rape_victim_victims_raped            386\n",
              "gender_transgender_trans_sex         337\n",
              "black_white_racism_racist            322\n",
              "music_song_songs_listen              309\n",
              "marriage_gay_polygamy_marry          287\n",
              "Name: count, dtype: int64"
            ]
          },
          "metadata": {},
          "execution_count": 21
        }
      ]
    },
    {
      "cell_type": "markdown",
      "source": [
        "# Drop deleted author"
      ],
      "metadata": {
        "id": "QzbLbO0muxco"
      }
    },
    {
      "cell_type": "code",
      "source": [
        "df = df[df[\"Author\"] !=\"[deleted]\"]\n",
        "print(len(df))"
      ],
      "metadata": {
        "colab": {
          "base_uri": "https://localhost:8080/"
        },
        "id": "1cp8sUaduwiG",
        "outputId": "d631ef87-6c70-4686-a5fb-139336722e83"
      },
      "execution_count": 7,
      "outputs": [
        {
          "output_type": "stream",
          "name": "stdout",
          "text": [
            "260535\n"
          ]
        }
      ]
    },
    {
      "cell_type": "markdown",
      "source": [
        "Note: Actual length 284409 <br>\n",
        "after dropping deleted author rows: 260535 <br>\n",
        "There was 23874 deleted author post"
      ],
      "metadata": {
        "id": "gdeE_ZovvUK_"
      }
    },
    {
      "cell_type": "markdown",
      "source": [
        "# 3. Top 10 authors based on post"
      ],
      "metadata": {
        "id": "cxwy8JEdVI0O"
      }
    },
    {
      "cell_type": "code",
      "source": [
        "author_counts = df['Author'].value_counts()\n",
        "\n",
        "# Get the top 10 authors\n",
        "top_10_authors = author_counts.head(10)\n",
        "\n",
        "# Display the top 10 authors\n",
        "print(top_10_authors)"
      ],
      "metadata": {
        "colab": {
          "base_uri": "https://localhost:8080/"
        },
        "id": "dPU1Xf4KT25P",
        "outputId": "c852cfd9-d2b6-4d68-f118-bb54a589ee18"
      },
      "execution_count": 9,
      "outputs": [
        {
          "output_type": "stream",
          "name": "stdout",
          "text": [
            "Author\n",
            "BenIncognito       1360\n",
            "Hq3473             1312\n",
            "GnosticGnome       1308\n",
            "monkyyy            1242\n",
            "huadpe             1092\n",
            "Raintee97           978\n",
            "z3r0shade           965\n",
            "DHCKris             921\n",
            "Mavericgamer        900\n",
            "AnxiousPolitics     843\n",
            "Name: count, dtype: int64\n"
          ]
        }
      ]
    },
    {
      "cell_type": "markdown",
      "source": [
        "# 4. Top 10 authors based on comments"
      ],
      "metadata": {
        "id": "bx526XIKXDQk"
      }
    },
    {
      "cell_type": "code",
      "source": [
        "print(list(df.iloc[[17]]['Replies']))"
      ],
      "metadata": {
        "colab": {
          "base_uri": "https://localhost:8080/"
        },
        "id": "E1sKPoONYs9s",
        "outputId": "3ad1dc2c-4886-4be1-e092-3e403e62953c"
      },
      "execution_count": null,
      "outputs": [
        {
          "output_type": "stream",
          "name": "stdout",
          "text": [
            "[[('recycled_kevlar', 'Your stance relies on the assumption that religion has no influence on the actions of its followers beyond the superficial. Yet something must exist that allows this pattern to occur. Ill narrow it down to religion or culture. So, you are correct if you assume the culture dominates the religion, and you are incorrect if the reverse is true. With this in mind, I think its safe to assume the truth is somewhere in between, with both the religion and the culture somehow influencing the unrest we see.'), ('beer_demon', \"The fact I don't fear an Amish flying a plane into my office tower or a Jain blowing up my bus makes me doubt that religions have no inherent features that influence people's actions.\")]]\n"
          ]
        }
      ]
    },
    {
      "cell_type": "code",
      "source": [
        "l = [item for t in df.iloc[[17]]['Replies'] for item in t]\n",
        "len(l)"
      ],
      "metadata": {
        "colab": {
          "base_uri": "https://localhost:8080/"
        },
        "id": "tEoLult-ZeoD",
        "outputId": "34627a1e-441a-48dc-cf6f-a555d43ca7b9"
      },
      "execution_count": null,
      "outputs": [
        {
          "output_type": "execute_result",
          "data": {
            "text/plain": [
              "2"
            ]
          },
          "metadata": {},
          "execution_count": 24
        }
      ]
    },
    {
      "cell_type": "code",
      "source": [
        "df['Replies_Count'] = df['Replies'].apply(lambda replies: len(replies) if isinstance(replies, list) else 0)\n",
        "# print(df.iloc[[17]]['Num_Replies'])\n",
        "author_comment_counts = df.groupby('Author')['Replies_Count'].sum()\n",
        "top_10_authors = author_comment_counts.nlargest(10)\n",
        "\n",
        "print(top_10_authors)"
      ],
      "metadata": {
        "colab": {
          "base_uri": "https://localhost:8080/"
        },
        "id": "JrfYV3q4XCkl",
        "outputId": "98163f6b-399e-4a2b-f5e3-8e7b33f8dad6"
      },
      "execution_count": 11,
      "outputs": [
        {
          "output_type": "stream",
          "name": "stdout",
          "text": [
            "Author\n",
            "Hq3473          1824\n",
            "BenIncognito    1474\n",
            "GnosticGnome    1436\n",
            "monkyyy         1313\n",
            "huadpe          1248\n",
            "kabukistar      1133\n",
            "z3r0shade       1060\n",
            "Raintee97       1038\n",
            "Celda           1014\n",
            "DHCKris          978\n",
            "Name: Replies_Count, dtype: int64\n"
          ]
        }
      ]
    },
    {
      "cell_type": "markdown",
      "source": [
        "# 5. Measuring Convergence\n",
        "From the [Paper](https://aclanthology.org/W11-0609.pdf), we check if one person A’s inclusion of articles in an utterance triggers the usage of articles in respondent B’s reply.\n",
        "\n",
        "**Note** that this differs from asking whether B uses articles more often when talking to A than when talking to other people (it is not so surprising that people speak differently to different audiences).\n",
        "\n",
        "Research Question: Does each utterance by A triggers an immediate change in B’s behavior?\n"
      ],
      "metadata": {
        "id": "IyB7xR4EXEqo"
      }
    },
    {
      "cell_type": "code",
      "source": [
        "# to measure the extent to which person B accommodates to A"
      ],
      "metadata": {
        "id": "h03gr1C_XRYP"
      },
      "execution_count": null,
      "outputs": []
    },
    {
      "cell_type": "code",
      "source": [
        "import numpy as np\n",
        "from collections import defaultdict\n",
        "import re\n",
        "import nltk\n",
        "from nltk.corpus import stopwords\n",
        "from nltk.tokenize import word_tokenize\n",
        "from nltk import pos_tag\n",
        "from sklearn.feature_extraction.text import CountVectorizer\n",
        "from sklearn.model_selection import train_test_split\n",
        "from sklearn.linear_model import LogisticRegression\n",
        "from sklearn.metrics import accuracy_score, classification_report\n",
        "import numpy as np"
      ],
      "metadata": {
        "id": "p0ljPitHYIpR"
      },
      "execution_count": null,
      "outputs": []
    },
    {
      "cell_type": "code",
      "source": [
        "nltk.download('punkt')\n",
        "nltk.download('averaged_perceptron_tagger')\n",
        "nltk.download('stopwords')\n"
      ],
      "metadata": {
        "colab": {
          "base_uri": "https://localhost:8080/"
        },
        "id": "9uJycyamdAdU",
        "outputId": "7b07788c-6f77-4bde-e669-0ba9cd8f7205"
      },
      "execution_count": null,
      "outputs": [
        {
          "output_type": "stream",
          "name": "stderr",
          "text": [
            "[nltk_data] Downloading package punkt to /root/nltk_data...\n",
            "[nltk_data]   Unzipping tokenizers/punkt.zip.\n",
            "[nltk_data] Downloading package averaged_perceptron_tagger to\n",
            "[nltk_data]     /root/nltk_data...\n",
            "[nltk_data]   Unzipping taggers/averaged_perceptron_tagger.zip.\n",
            "[nltk_data] Downloading package stopwords to /root/nltk_data...\n",
            "[nltk_data]   Unzipping corpora/stopwords.zip.\n"
          ]
        },
        {
          "output_type": "execute_result",
          "data": {
            "text/plain": [
              "True"
            ]
          },
          "metadata": {},
          "execution_count": 7
        }
      ]
    },
    {
      "cell_type": "markdown",
      "source": [
        "# Features"
      ],
      "metadata": {
        "id": "b5MH8SedywFI"
      }
    },
    {
      "cell_type": "code",
      "source": [
        "# From Section \"4 Measuring linguistic style\", nine LIWC-derived categories (Pennebaker et al., 2007) are articles, auxiliary verbs, conjunctions, high-frequency adverbs, impersonal pronouns, negations, personal pronouns, prepositions, and quantifiers.\n",
        "\n",
        "liwc_categories = {\n",
        "    'negations': ['RB'],\n",
        "}\n"
      ],
      "metadata": {
        "id": "ReVid1yryvUw"
      },
      "execution_count": null,
      "outputs": []
    },
    {
      "cell_type": "code",
      "source": [
        "def extract_liwc_words(text):\n",
        "    \"\"\"\n",
        "      Extract words based on LIWC categories\n",
        "    \"\"\"\n",
        "    tokens = word_tokenize(text)\n",
        "    pos_tags = pos_tag(tokens)\n",
        "    liwc_words = []\n",
        "    for word, tag in pos_tags:\n",
        "        for category, tags in liwc_categories.items():\n",
        "            if tag in tags:\n",
        "                liwc_words.append(word)\n",
        "                break\n",
        "    return liwc_words\n",
        "\n",
        "corpus = df.Post.values\n",
        "liwc_corpus = [extract_liwc_words(doc) for doc in corpus]\n"
      ],
      "metadata": {
        "id": "51YpVPQDytkl"
      },
      "execution_count": null,
      "outputs": []
    },
    {
      "cell_type": "code",
      "source": [
        "liwc_feature = [x for each_liwc_cat in liwc_corpus for x in each_liwc_cat if x !=\"//www.reddit.com/message/compose\"]\n",
        "liwc_feature_set = set(liwc_feature)\n",
        "print(liwc_feature_set)"
      ],
      "metadata": {
        "colab": {
          "base_uri": "https://localhost:8080/"
        },
        "id": "sa8N34qzdOfZ",
        "outputId": "3b29aac5-9f8e-42a9-df57-d999064ef7d2"
      },
      "execution_count": null,
      "outputs": [
        {
          "output_type": "stream",
          "name": "stdout",
          "text": [
            "{'additionally', 'away', 'forward', 'strategically', 'not', 'eventually', 'just', 'exactly', 'as', 'obviously', 'Very', 'However', 'Secondly', 'actually', 'only', 'then', 'already', 'really', 'Once', 'ago', 'officially', 'there', 'even', 'much', 'likely', 'no', 'far', 'first', 'currently', 'merely', 'never', 'economically', 'enough', 'somewhere', 'illegally', 'ever', 'probably', 'routinely', 'fully', 'Perhaps', 'widely', 'else', 'longer', 'however', 'historically', 'So', 'again', 'always', 'Theoretically', 'still', 'equally', \"n't\", 'hopefully', 'almost', 'also', 'Firstly', 'Even', 'recently', 'completely', 'very', 'Now', 'now', 'quite', 'Then', 'explicitly', 'so', 'overall'}\n"
          ]
        }
      ]
    },
    {
      "cell_type": "markdown",
      "source": [
        "# Calculating convergence"
      ],
      "metadata": {
        "id": "dcSVPIMRuB1e"
      }
    },
    {
      "cell_type": "code",
      "source": [
        "import numpy as np\n",
        "\n",
        "\n",
        "def has_feature(text, feature_set):\n",
        "    \"\"\" Check if any word in the text is in the feature set. \"\"\"\n",
        "    words = text.lower().split()\n",
        "    return any(word in feature_set for word in words)\n",
        "\n",
        "def compute_conv_a_b(a_text, b_text):\n",
        "    \"\"\" Compute ConvA,B(t) as given in the definition. \"\"\"\n",
        "    at = has_feature(a_text, liwc_feature_set)\n",
        "    bt_given_a = has_feature(b_text, liwc_feature_set)\n",
        "    return int(bt_given_a and at) - int(bt_given_a)\n",
        "\n",
        "def overall_conv(initiator_responder_pairs):\n",
        "    \"\"\" Compute the overall Conv(t) over all pairs. \"\"\"\n",
        "    conv_values = [compute_conv_a_b(a, b) for a, b in initiator_responder_pairs]\n",
        "    return np.mean(conv_values)"
      ],
      "metadata": {
        "id": "SiDDgZOVeytn"
      },
      "execution_count": null,
      "outputs": []
    },
    {
      "cell_type": "code",
      "source": [
        "initiator_responder_pairs = []\n",
        "for _, row in df.iterrows():\n",
        "    initiator_text = row['Post']\n",
        "    replies = row['Replies']\n",
        "    for _, responder_text in replies:\n",
        "        initiator_responder_pairs.append((initiator_text, responder_text))\n"
      ],
      "metadata": {
        "id": "SsjXVPgnf5VE"
      },
      "execution_count": null,
      "outputs": []
    },
    {
      "cell_type": "code",
      "source": [
        "initiator_responder_pairs[0]"
      ],
      "metadata": {
        "colab": {
          "base_uri": "https://localhost:8080/"
        },
        "id": "OhazJiXLgnX_",
        "outputId": "f3049d30-2d8c-4bb9-ff4d-35f25adf541b"
      },
      "execution_count": null,
      "outputs": [
        {
          "output_type": "execute_result",
          "data": {
            "text/plain": [
              "('Automation is happening at an astonishing rate, but the only industries that will likely be automated in 20 years is transportation and some types of administration. You also seem to be assuming post scarcity will be an overnight transition. First there will be lots of unemployable people from recently automated fields. Then the government would have to respond to facillitate to a post scarcity economy that hopefully isnt some marxist nightmare. Considering this, your parents may not be able to support you or themselves during this transition. My reccomendation is find a field that is still generations away from automation, and different from any of your familys jobs to diversify, so hopefully you can always have some income in the house.',\n",
              " 'You are also assuming there will ever be a \"post scarcity\" period... There is very little data supporting the idea that automation = less job opportunity overall. There is some data that automation advances in a a given industry can reduce job opportunities in that industry for a period however there are very few instances where this is not made up for in scale. I.E. higher automation leads to growth in the industry which then leads to it hiring more people again, despite needing less people per unit produced.')"
            ]
          },
          "metadata": {},
          "execution_count": 47
        }
      ]
    },
    {
      "cell_type": "markdown",
      "source": [
        "# Compute overall Conv(t)"
      ],
      "metadata": {
        "id": "H85ZgazruFEm"
      }
    },
    {
      "cell_type": "code",
      "source": [
        "overall_convergence = overall_conv(initiator_responder_pairs)\n",
        "print(f\"Overall Conv(t) for the feature 'negations': {overall_convergence}\")"
      ],
      "metadata": {
        "colab": {
          "base_uri": "https://localhost:8080/"
        },
        "id": "cQ3C-UiCglXS",
        "outputId": "05ed1e49-2360-410a-a6b1-0141b84715b3"
      },
      "execution_count": null,
      "outputs": [
        {
          "output_type": "stream",
          "name": "stdout",
          "text": [
            "Overall Conv(t) for the feature 'negations': -0.06451612903225806\n"
          ]
        }
      ]
    },
    {
      "cell_type": "code",
      "source": [],
      "metadata": {
        "id": "Ix5ibeMCg1tB"
      },
      "execution_count": null,
      "outputs": []
    },
    {
      "cell_type": "code",
      "source": [],
      "metadata": {
        "id": "ZW2YockVm3OA"
      },
      "execution_count": null,
      "outputs": []
    },
    {
      "cell_type": "code",
      "source": [],
      "metadata": {
        "id": "Js5LESfJm54K"
      },
      "execution_count": null,
      "outputs": []
    }
  ]
}