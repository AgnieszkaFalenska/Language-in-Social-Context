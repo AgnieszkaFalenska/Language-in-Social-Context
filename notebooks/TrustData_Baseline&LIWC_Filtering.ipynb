{
  "nbformat": 4,
  "nbformat_minor": 0,
  "metadata": {
    "colab": {
      "provenance": []
    },
    "kernelspec": {
      "name": "python3",
      "display_name": "Python 3"
    },
    "language_info": {
      "name": "python"
    }
  },
  "cells": [
    {
      "cell_type": "markdown",
      "metadata": {
        "id": "4CrjAM8z4X05"
      },
      "source": [
        "# Download  Dataset"
      ]
    },
    {
      "cell_type": "code",
      "execution_count": null,
      "metadata": {
        "colab": {
          "base_uri": "https://localhost:8080/"
        },
        "id": "eyynQkCkLwE0",
        "outputId": "9f8e6497-70ee-442b-dd00-ef4137e534f4"
      },
      "outputs": [
        {
          "output_type": "stream",
          "name": "stdout",
          "text": [
            "Cloning into 'translation_bias'...\n",
            "remote: Enumerating objects: 27, done.\u001b[K\n",
            "remote: Counting objects: 100% (27/27), done.\u001b[K\n",
            "remote: Compressing objects: 100% (27/27), done.\u001b[K\n",
            "remote: Total 27 (delta 0), reused 27 (delta 0), pack-reused 0\u001b[K\n",
            "Receiving objects: 100% (27/27), 3.95 MiB | 14.51 MiB/s, done.\n"
          ]
        }
      ],
      "source": [
        "# download the data from the github data source\n",
        "! git clone https://github.com/MilaNLProc/translation_bias.git"
      ]
    },
    {
      "cell_type": "markdown",
      "source": [
        "# Load Data"
      ],
      "metadata": {
        "id": "WylWbnFdg1il"
      }
    },
    {
      "cell_type": "code",
      "execution_count": null,
      "metadata": {
        "colab": {
          "base_uri": "https://localhost:8080/",
          "height": 112
        },
        "id": "3TBwJNsggYiD",
        "outputId": "5efd2e5c-34da-4924-f4f0-4899b077d1d0"
      },
      "outputs": [
        {
          "output_type": "execute_result",
          "data": {
            "text/plain": [
              "   Unnamed: 0                                               text  age age_cat  \\\n",
              "0         238                      Not the best overall service.   42   25-54   \n",
              "1         239  Since it is the #1 social network however with...   42   25-54   \n",
              "\n",
              "  gender  label  \n",
              "0      M  train  \n",
              "1      M  train  "
            ],
            "text/html": [
              "\n",
              "  <div id=\"df-2ef67e19-8127-4562-b40e-aa332af5b0a3\" class=\"colab-df-container\">\n",
              "    <div>\n",
              "<style scoped>\n",
              "    .dataframe tbody tr th:only-of-type {\n",
              "        vertical-align: middle;\n",
              "    }\n",
              "\n",
              "    .dataframe tbody tr th {\n",
              "        vertical-align: top;\n",
              "    }\n",
              "\n",
              "    .dataframe thead th {\n",
              "        text-align: right;\n",
              "    }\n",
              "</style>\n",
              "<table border=\"1\" class=\"dataframe\">\n",
              "  <thead>\n",
              "    <tr style=\"text-align: right;\">\n",
              "      <th></th>\n",
              "      <th>Unnamed: 0</th>\n",
              "      <th>text</th>\n",
              "      <th>age</th>\n",
              "      <th>age_cat</th>\n",
              "      <th>gender</th>\n",
              "      <th>label</th>\n",
              "    </tr>\n",
              "  </thead>\n",
              "  <tbody>\n",
              "    <tr>\n",
              "      <th>0</th>\n",
              "      <td>238</td>\n",
              "      <td>Not the best overall service.</td>\n",
              "      <td>42</td>\n",
              "      <td>25-54</td>\n",
              "      <td>M</td>\n",
              "      <td>train</td>\n",
              "    </tr>\n",
              "    <tr>\n",
              "      <th>1</th>\n",
              "      <td>239</td>\n",
              "      <td>Since it is the #1 social network however with...</td>\n",
              "      <td>42</td>\n",
              "      <td>25-54</td>\n",
              "      <td>M</td>\n",
              "      <td>train</td>\n",
              "    </tr>\n",
              "  </tbody>\n",
              "</table>\n",
              "</div>\n",
              "    <div class=\"colab-df-buttons\">\n",
              "\n",
              "  <div class=\"colab-df-container\">\n",
              "    <button class=\"colab-df-convert\" onclick=\"convertToInteractive('df-2ef67e19-8127-4562-b40e-aa332af5b0a3')\"\n",
              "            title=\"Convert this dataframe to an interactive table.\"\n",
              "            style=\"display:none;\">\n",
              "\n",
              "  <svg xmlns=\"http://www.w3.org/2000/svg\" height=\"24px\" viewBox=\"0 -960 960 960\">\n",
              "    <path d=\"M120-120v-720h720v720H120Zm60-500h600v-160H180v160Zm220 220h160v-160H400v160Zm0 220h160v-160H400v160ZM180-400h160v-160H180v160Zm440 0h160v-160H620v160ZM180-180h160v-160H180v160Zm440 0h160v-160H620v160Z\"/>\n",
              "  </svg>\n",
              "    </button>\n",
              "\n",
              "  <style>\n",
              "    .colab-df-container {\n",
              "      display:flex;\n",
              "      gap: 12px;\n",
              "    }\n",
              "\n",
              "    .colab-df-convert {\n",
              "      background-color: #E8F0FE;\n",
              "      border: none;\n",
              "      border-radius: 50%;\n",
              "      cursor: pointer;\n",
              "      display: none;\n",
              "      fill: #1967D2;\n",
              "      height: 32px;\n",
              "      padding: 0 0 0 0;\n",
              "      width: 32px;\n",
              "    }\n",
              "\n",
              "    .colab-df-convert:hover {\n",
              "      background-color: #E2EBFA;\n",
              "      box-shadow: 0px 1px 2px rgba(60, 64, 67, 0.3), 0px 1px 3px 1px rgba(60, 64, 67, 0.15);\n",
              "      fill: #174EA6;\n",
              "    }\n",
              "\n",
              "    .colab-df-buttons div {\n",
              "      margin-bottom: 4px;\n",
              "    }\n",
              "\n",
              "    [theme=dark] .colab-df-convert {\n",
              "      background-color: #3B4455;\n",
              "      fill: #D2E3FC;\n",
              "    }\n",
              "\n",
              "    [theme=dark] .colab-df-convert:hover {\n",
              "      background-color: #434B5C;\n",
              "      box-shadow: 0px 1px 3px 1px rgba(0, 0, 0, 0.15);\n",
              "      filter: drop-shadow(0px 1px 2px rgba(0, 0, 0, 0.3));\n",
              "      fill: #FFFFFF;\n",
              "    }\n",
              "  </style>\n",
              "\n",
              "    <script>\n",
              "      const buttonEl =\n",
              "        document.querySelector('#df-2ef67e19-8127-4562-b40e-aa332af5b0a3 button.colab-df-convert');\n",
              "      buttonEl.style.display =\n",
              "        google.colab.kernel.accessAllowed ? 'block' : 'none';\n",
              "\n",
              "      async function convertToInteractive(key) {\n",
              "        const element = document.querySelector('#df-2ef67e19-8127-4562-b40e-aa332af5b0a3');\n",
              "        const dataTable =\n",
              "          await google.colab.kernel.invokeFunction('convertToInteractive',\n",
              "                                                    [key], {});\n",
              "        if (!dataTable) return;\n",
              "\n",
              "        const docLinkHtml = 'Like what you see? Visit the ' +\n",
              "          '<a target=\"_blank\" href=https://colab.research.google.com/notebooks/data_table.ipynb>data table notebook</a>'\n",
              "          + ' to learn more about interactive tables.';\n",
              "        element.innerHTML = '';\n",
              "        dataTable['output_type'] = 'display_data';\n",
              "        await google.colab.output.renderOutput(dataTable, element);\n",
              "        const docLink = document.createElement('div');\n",
              "        docLink.innerHTML = docLinkHtml;\n",
              "        element.appendChild(docLink);\n",
              "      }\n",
              "    </script>\n",
              "  </div>\n",
              "\n",
              "\n",
              "<div id=\"df-0bf8e13b-132e-4203-9370-bd254b12ec17\">\n",
              "  <button class=\"colab-df-quickchart\" onclick=\"quickchart('df-0bf8e13b-132e-4203-9370-bd254b12ec17')\"\n",
              "            title=\"Suggest charts\"\n",
              "            style=\"display:none;\">\n",
              "\n",
              "<svg xmlns=\"http://www.w3.org/2000/svg\" height=\"24px\"viewBox=\"0 0 24 24\"\n",
              "     width=\"24px\">\n",
              "    <g>\n",
              "        <path d=\"M19 3H5c-1.1 0-2 .9-2 2v14c0 1.1.9 2 2 2h14c1.1 0 2-.9 2-2V5c0-1.1-.9-2-2-2zM9 17H7v-7h2v7zm4 0h-2V7h2v10zm4 0h-2v-4h2v4z\"/>\n",
              "    </g>\n",
              "</svg>\n",
              "  </button>\n",
              "\n",
              "<style>\n",
              "  .colab-df-quickchart {\n",
              "      --bg-color: #E8F0FE;\n",
              "      --fill-color: #1967D2;\n",
              "      --hover-bg-color: #E2EBFA;\n",
              "      --hover-fill-color: #174EA6;\n",
              "      --disabled-fill-color: #AAA;\n",
              "      --disabled-bg-color: #DDD;\n",
              "  }\n",
              "\n",
              "  [theme=dark] .colab-df-quickchart {\n",
              "      --bg-color: #3B4455;\n",
              "      --fill-color: #D2E3FC;\n",
              "      --hover-bg-color: #434B5C;\n",
              "      --hover-fill-color: #FFFFFF;\n",
              "      --disabled-bg-color: #3B4455;\n",
              "      --disabled-fill-color: #666;\n",
              "  }\n",
              "\n",
              "  .colab-df-quickchart {\n",
              "    background-color: var(--bg-color);\n",
              "    border: none;\n",
              "    border-radius: 50%;\n",
              "    cursor: pointer;\n",
              "    display: none;\n",
              "    fill: var(--fill-color);\n",
              "    height: 32px;\n",
              "    padding: 0;\n",
              "    width: 32px;\n",
              "  }\n",
              "\n",
              "  .colab-df-quickchart:hover {\n",
              "    background-color: var(--hover-bg-color);\n",
              "    box-shadow: 0 1px 2px rgba(60, 64, 67, 0.3), 0 1px 3px 1px rgba(60, 64, 67, 0.15);\n",
              "    fill: var(--button-hover-fill-color);\n",
              "  }\n",
              "\n",
              "  .colab-df-quickchart-complete:disabled,\n",
              "  .colab-df-quickchart-complete:disabled:hover {\n",
              "    background-color: var(--disabled-bg-color);\n",
              "    fill: var(--disabled-fill-color);\n",
              "    box-shadow: none;\n",
              "  }\n",
              "\n",
              "  .colab-df-spinner {\n",
              "    border: 2px solid var(--fill-color);\n",
              "    border-color: transparent;\n",
              "    border-bottom-color: var(--fill-color);\n",
              "    animation:\n",
              "      spin 1s steps(1) infinite;\n",
              "  }\n",
              "\n",
              "  @keyframes spin {\n",
              "    0% {\n",
              "      border-color: transparent;\n",
              "      border-bottom-color: var(--fill-color);\n",
              "      border-left-color: var(--fill-color);\n",
              "    }\n",
              "    20% {\n",
              "      border-color: transparent;\n",
              "      border-left-color: var(--fill-color);\n",
              "      border-top-color: var(--fill-color);\n",
              "    }\n",
              "    30% {\n",
              "      border-color: transparent;\n",
              "      border-left-color: var(--fill-color);\n",
              "      border-top-color: var(--fill-color);\n",
              "      border-right-color: var(--fill-color);\n",
              "    }\n",
              "    40% {\n",
              "      border-color: transparent;\n",
              "      border-right-color: var(--fill-color);\n",
              "      border-top-color: var(--fill-color);\n",
              "    }\n",
              "    60% {\n",
              "      border-color: transparent;\n",
              "      border-right-color: var(--fill-color);\n",
              "    }\n",
              "    80% {\n",
              "      border-color: transparent;\n",
              "      border-right-color: var(--fill-color);\n",
              "      border-bottom-color: var(--fill-color);\n",
              "    }\n",
              "    90% {\n",
              "      border-color: transparent;\n",
              "      border-bottom-color: var(--fill-color);\n",
              "    }\n",
              "  }\n",
              "</style>\n",
              "\n",
              "  <script>\n",
              "    async function quickchart(key) {\n",
              "      const quickchartButtonEl =\n",
              "        document.querySelector('#' + key + ' button');\n",
              "      quickchartButtonEl.disabled = true;  // To prevent multiple clicks.\n",
              "      quickchartButtonEl.classList.add('colab-df-spinner');\n",
              "      try {\n",
              "        const charts = await google.colab.kernel.invokeFunction(\n",
              "            'suggestCharts', [key], {});\n",
              "      } catch (error) {\n",
              "        console.error('Error during call to suggestCharts:', error);\n",
              "      }\n",
              "      quickchartButtonEl.classList.remove('colab-df-spinner');\n",
              "      quickchartButtonEl.classList.add('colab-df-quickchart-complete');\n",
              "    }\n",
              "    (() => {\n",
              "      let quickchartButtonEl =\n",
              "        document.querySelector('#df-0bf8e13b-132e-4203-9370-bd254b12ec17 button');\n",
              "      quickchartButtonEl.style.display =\n",
              "        google.colab.kernel.accessAllowed ? 'block' : 'none';\n",
              "    })();\n",
              "  </script>\n",
              "</div>\n",
              "\n",
              "    </div>\n",
              "  </div>\n"
            ],
            "application/vnd.google.colaboratory.intrinsic+json": {
              "type": "dataframe",
              "variable_name": "df_train",
              "summary": "{\n  \"name\": \"df_train\",\n  \"rows\": 5004,\n  \"fields\": [\n    {\n      \"column\": \"Unnamed: 0\",\n      \"properties\": {\n        \"dtype\": \"number\",\n        \"std\": 1459,\n        \"min\": 238,\n        \"max\": 5406,\n        \"num_unique_values\": 5004,\n        \"samples\": [\n          783,\n          4127,\n          1018\n        ],\n        \"semantic_type\": \"\",\n        \"description\": \"\"\n      }\n    },\n    {\n      \"column\": \"text\",\n      \"properties\": {\n        \"dtype\": \"string\",\n        \"num_unique_values\": 4989,\n        \"samples\": [\n          \"Bought some Emerica Jeans which were reduced from \\u00a345 to \\u00a312.50, they're amazing value! Delivery was hassle free too,  even at Royal Mail 2nd Class.  Overall, very happy with UrbanSurfer and will definitely shop again from their wide selection of shoes!\",\n          \"Have always been pleased with sales and service. Wish there were more reviews... 9.5 times out of 10 I always buy from here!\",\n          \"I was glad to have come accross this company on the web. They have some great unique items that you don't see in every other store or site. I also called there Customer Service to ask a few questions. They were very helpful and knew what they were talking about. The items I bought were shipped quickly and I received the stuff as decribed. No issues no problems. I am going to buy several of this years Christmas presents here. This is a good company and I would do buisness with them again and recommend them to my friends and family.\"\n        ],\n        \"semantic_type\": \"\",\n        \"description\": \"\"\n      }\n    },\n    {\n      \"column\": \"age\",\n      \"properties\": {\n        \"dtype\": \"number\",\n        \"std\": 18,\n        \"min\": 15,\n        \"max\": 113,\n        \"num_unique_values\": 94,\n        \"samples\": [\n          16,\n          18,\n          71\n        ],\n        \"semantic_type\": \"\",\n        \"description\": \"\"\n      }\n    },\n    {\n      \"column\": \"age_cat\",\n      \"properties\": {\n        \"dtype\": \"category\",\n        \"num_unique_values\": 4,\n        \"samples\": [\n          \"15-24\",\n          \"65+\",\n          \"25-54\"\n        ],\n        \"semantic_type\": \"\",\n        \"description\": \"\"\n      }\n    },\n    {\n      \"column\": \"gender\",\n      \"properties\": {\n        \"dtype\": \"category\",\n        \"num_unique_values\": 2,\n        \"samples\": [\n          \"F\",\n          \"M\"\n        ],\n        \"semantic_type\": \"\",\n        \"description\": \"\"\n      }\n    },\n    {\n      \"column\": \"label\",\n      \"properties\": {\n        \"dtype\": \"category\",\n        \"num_unique_values\": 1,\n        \"samples\": [\n          \"train\"\n        ],\n        \"semantic_type\": \"\",\n        \"description\": \"\"\n      }\n    }\n  ]\n}"
            }
          },
          "metadata": {},
          "execution_count": 2
        }
      ],
      "source": [
        "import pandas as pd\n",
        "\n",
        "# load .xlsx using pandas read_excel()\n",
        "df_train = pd.read_excel(\"/content/translation_bias/data/en_us/en_us_TRAIN.xlsx\")\n",
        "df_test = pd.read_excel(\"/content/translation_bias/data/en_us/en_us_TEST.xlsx\")\n",
        "\n",
        "# view top 2 rows from the data\n",
        "df_train.head(2)"
      ]
    },
    {
      "cell_type": "markdown",
      "source": [
        "# Data Preparing"
      ],
      "metadata": {
        "id": "G9--OjUSaAue"
      }
    },
    {
      "cell_type": "code",
      "source": [
        "# Drop duplicates and Nan data\n",
        "print(\"Before dropping:\")\n",
        "print(len(df_train))\n",
        "df_train.isnull().values.any()\n",
        "df_train = df_train.drop_duplicates()\n",
        "df_train = df_train[df_train['text'].notna()]\n",
        "\n",
        "print(\"After dropping:\")\n",
        "print(len(df_train))\n",
        "\n",
        "# drop unamed column\n",
        "df_test.drop([\"Unnamed: 0\"], axis=1, inplace=True)\n",
        "df_train.drop([\"Unnamed: 0\"], axis=1, inplace=True)\n",
        "\n",
        "# renaming columns\n",
        "df_train.rename(columns={'label': 'data_for','age_cat':'ageRange'}, inplace=True)\n",
        "df_test.rename(columns={'label': 'data_for','age_cat':'ageRange'}, inplace=True)\n",
        "\n",
        "# Convert the string labels to Categorical label\n",
        "gender_label_map = {\n",
        "    \"F\": 0,\n",
        "    \"M\": 1\n",
        "}\n",
        "\n",
        "df_train[\"label\"] = df_train['gender'].map(gender_label_map)\n",
        "df_test[\"label\"] = df_test['gender'].map(gender_label_map)"
      ],
      "metadata": {
        "colab": {
          "base_uri": "https://localhost:8080/"
        },
        "id": "_Yb9rM3_5Vai",
        "outputId": "628e6bb3-ec08-4762-a790-e4b75d4938ce"
      },
      "execution_count": null,
      "outputs": [
        {
          "output_type": "stream",
          "name": "stdout",
          "text": [
            "Before dropping:\n",
            "5004\n",
            "After dropping:\n",
            "4996\n"
          ]
        }
      ]
    },
    {
      "cell_type": "code",
      "source": [
        "df_train.head(2)"
      ],
      "metadata": {
        "colab": {
          "base_uri": "https://localhost:8080/",
          "height": 112
        },
        "id": "Nz9BxF-0hM_A",
        "outputId": "8db87ce5-e547-4c70-8b27-24085d03b20d"
      },
      "execution_count": null,
      "outputs": [
        {
          "output_type": "execute_result",
          "data": {
            "text/plain": [
              "                                                text  age ageRange gender  \\\n",
              "0                      Not the best overall service.   42    25-54      M   \n",
              "1  Since it is the #1 social network however with...   42    25-54      M   \n",
              "\n",
              "  data_for  label  \n",
              "0    train      1  \n",
              "1    train      1  "
            ],
            "text/html": [
              "\n",
              "  <div id=\"df-d8e59f3d-5a89-469e-92d4-bc81f2c88cc7\" class=\"colab-df-container\">\n",
              "    <div>\n",
              "<style scoped>\n",
              "    .dataframe tbody tr th:only-of-type {\n",
              "        vertical-align: middle;\n",
              "    }\n",
              "\n",
              "    .dataframe tbody tr th {\n",
              "        vertical-align: top;\n",
              "    }\n",
              "\n",
              "    .dataframe thead th {\n",
              "        text-align: right;\n",
              "    }\n",
              "</style>\n",
              "<table border=\"1\" class=\"dataframe\">\n",
              "  <thead>\n",
              "    <tr style=\"text-align: right;\">\n",
              "      <th></th>\n",
              "      <th>text</th>\n",
              "      <th>age</th>\n",
              "      <th>ageRange</th>\n",
              "      <th>gender</th>\n",
              "      <th>data_for</th>\n",
              "      <th>label</th>\n",
              "    </tr>\n",
              "  </thead>\n",
              "  <tbody>\n",
              "    <tr>\n",
              "      <th>0</th>\n",
              "      <td>Not the best overall service.</td>\n",
              "      <td>42</td>\n",
              "      <td>25-54</td>\n",
              "      <td>M</td>\n",
              "      <td>train</td>\n",
              "      <td>1</td>\n",
              "    </tr>\n",
              "    <tr>\n",
              "      <th>1</th>\n",
              "      <td>Since it is the #1 social network however with...</td>\n",
              "      <td>42</td>\n",
              "      <td>25-54</td>\n",
              "      <td>M</td>\n",
              "      <td>train</td>\n",
              "      <td>1</td>\n",
              "    </tr>\n",
              "  </tbody>\n",
              "</table>\n",
              "</div>\n",
              "    <div class=\"colab-df-buttons\">\n",
              "\n",
              "  <div class=\"colab-df-container\">\n",
              "    <button class=\"colab-df-convert\" onclick=\"convertToInteractive('df-d8e59f3d-5a89-469e-92d4-bc81f2c88cc7')\"\n",
              "            title=\"Convert this dataframe to an interactive table.\"\n",
              "            style=\"display:none;\">\n",
              "\n",
              "  <svg xmlns=\"http://www.w3.org/2000/svg\" height=\"24px\" viewBox=\"0 -960 960 960\">\n",
              "    <path d=\"M120-120v-720h720v720H120Zm60-500h600v-160H180v160Zm220 220h160v-160H400v160Zm0 220h160v-160H400v160ZM180-400h160v-160H180v160Zm440 0h160v-160H620v160ZM180-180h160v-160H180v160Zm440 0h160v-160H620v160Z\"/>\n",
              "  </svg>\n",
              "    </button>\n",
              "\n",
              "  <style>\n",
              "    .colab-df-container {\n",
              "      display:flex;\n",
              "      gap: 12px;\n",
              "    }\n",
              "\n",
              "    .colab-df-convert {\n",
              "      background-color: #E8F0FE;\n",
              "      border: none;\n",
              "      border-radius: 50%;\n",
              "      cursor: pointer;\n",
              "      display: none;\n",
              "      fill: #1967D2;\n",
              "      height: 32px;\n",
              "      padding: 0 0 0 0;\n",
              "      width: 32px;\n",
              "    }\n",
              "\n",
              "    .colab-df-convert:hover {\n",
              "      background-color: #E2EBFA;\n",
              "      box-shadow: 0px 1px 2px rgba(60, 64, 67, 0.3), 0px 1px 3px 1px rgba(60, 64, 67, 0.15);\n",
              "      fill: #174EA6;\n",
              "    }\n",
              "\n",
              "    .colab-df-buttons div {\n",
              "      margin-bottom: 4px;\n",
              "    }\n",
              "\n",
              "    [theme=dark] .colab-df-convert {\n",
              "      background-color: #3B4455;\n",
              "      fill: #D2E3FC;\n",
              "    }\n",
              "\n",
              "    [theme=dark] .colab-df-convert:hover {\n",
              "      background-color: #434B5C;\n",
              "      box-shadow: 0px 1px 3px 1px rgba(0, 0, 0, 0.15);\n",
              "      filter: drop-shadow(0px 1px 2px rgba(0, 0, 0, 0.3));\n",
              "      fill: #FFFFFF;\n",
              "    }\n",
              "  </style>\n",
              "\n",
              "    <script>\n",
              "      const buttonEl =\n",
              "        document.querySelector('#df-d8e59f3d-5a89-469e-92d4-bc81f2c88cc7 button.colab-df-convert');\n",
              "      buttonEl.style.display =\n",
              "        google.colab.kernel.accessAllowed ? 'block' : 'none';\n",
              "\n",
              "      async function convertToInteractive(key) {\n",
              "        const element = document.querySelector('#df-d8e59f3d-5a89-469e-92d4-bc81f2c88cc7');\n",
              "        const dataTable =\n",
              "          await google.colab.kernel.invokeFunction('convertToInteractive',\n",
              "                                                    [key], {});\n",
              "        if (!dataTable) return;\n",
              "\n",
              "        const docLinkHtml = 'Like what you see? Visit the ' +\n",
              "          '<a target=\"_blank\" href=https://colab.research.google.com/notebooks/data_table.ipynb>data table notebook</a>'\n",
              "          + ' to learn more about interactive tables.';\n",
              "        element.innerHTML = '';\n",
              "        dataTable['output_type'] = 'display_data';\n",
              "        await google.colab.output.renderOutput(dataTable, element);\n",
              "        const docLink = document.createElement('div');\n",
              "        docLink.innerHTML = docLinkHtml;\n",
              "        element.appendChild(docLink);\n",
              "      }\n",
              "    </script>\n",
              "  </div>\n",
              "\n",
              "\n",
              "<div id=\"df-43e67352-ffa5-4767-806f-bb56ffbde5b4\">\n",
              "  <button class=\"colab-df-quickchart\" onclick=\"quickchart('df-43e67352-ffa5-4767-806f-bb56ffbde5b4')\"\n",
              "            title=\"Suggest charts\"\n",
              "            style=\"display:none;\">\n",
              "\n",
              "<svg xmlns=\"http://www.w3.org/2000/svg\" height=\"24px\"viewBox=\"0 0 24 24\"\n",
              "     width=\"24px\">\n",
              "    <g>\n",
              "        <path d=\"M19 3H5c-1.1 0-2 .9-2 2v14c0 1.1.9 2 2 2h14c1.1 0 2-.9 2-2V5c0-1.1-.9-2-2-2zM9 17H7v-7h2v7zm4 0h-2V7h2v10zm4 0h-2v-4h2v4z\"/>\n",
              "    </g>\n",
              "</svg>\n",
              "  </button>\n",
              "\n",
              "<style>\n",
              "  .colab-df-quickchart {\n",
              "      --bg-color: #E8F0FE;\n",
              "      --fill-color: #1967D2;\n",
              "      --hover-bg-color: #E2EBFA;\n",
              "      --hover-fill-color: #174EA6;\n",
              "      --disabled-fill-color: #AAA;\n",
              "      --disabled-bg-color: #DDD;\n",
              "  }\n",
              "\n",
              "  [theme=dark] .colab-df-quickchart {\n",
              "      --bg-color: #3B4455;\n",
              "      --fill-color: #D2E3FC;\n",
              "      --hover-bg-color: #434B5C;\n",
              "      --hover-fill-color: #FFFFFF;\n",
              "      --disabled-bg-color: #3B4455;\n",
              "      --disabled-fill-color: #666;\n",
              "  }\n",
              "\n",
              "  .colab-df-quickchart {\n",
              "    background-color: var(--bg-color);\n",
              "    border: none;\n",
              "    border-radius: 50%;\n",
              "    cursor: pointer;\n",
              "    display: none;\n",
              "    fill: var(--fill-color);\n",
              "    height: 32px;\n",
              "    padding: 0;\n",
              "    width: 32px;\n",
              "  }\n",
              "\n",
              "  .colab-df-quickchart:hover {\n",
              "    background-color: var(--hover-bg-color);\n",
              "    box-shadow: 0 1px 2px rgba(60, 64, 67, 0.3), 0 1px 3px 1px rgba(60, 64, 67, 0.15);\n",
              "    fill: var(--button-hover-fill-color);\n",
              "  }\n",
              "\n",
              "  .colab-df-quickchart-complete:disabled,\n",
              "  .colab-df-quickchart-complete:disabled:hover {\n",
              "    background-color: var(--disabled-bg-color);\n",
              "    fill: var(--disabled-fill-color);\n",
              "    box-shadow: none;\n",
              "  }\n",
              "\n",
              "  .colab-df-spinner {\n",
              "    border: 2px solid var(--fill-color);\n",
              "    border-color: transparent;\n",
              "    border-bottom-color: var(--fill-color);\n",
              "    animation:\n",
              "      spin 1s steps(1) infinite;\n",
              "  }\n",
              "\n",
              "  @keyframes spin {\n",
              "    0% {\n",
              "      border-color: transparent;\n",
              "      border-bottom-color: var(--fill-color);\n",
              "      border-left-color: var(--fill-color);\n",
              "    }\n",
              "    20% {\n",
              "      border-color: transparent;\n",
              "      border-left-color: var(--fill-color);\n",
              "      border-top-color: var(--fill-color);\n",
              "    }\n",
              "    30% {\n",
              "      border-color: transparent;\n",
              "      border-left-color: var(--fill-color);\n",
              "      border-top-color: var(--fill-color);\n",
              "      border-right-color: var(--fill-color);\n",
              "    }\n",
              "    40% {\n",
              "      border-color: transparent;\n",
              "      border-right-color: var(--fill-color);\n",
              "      border-top-color: var(--fill-color);\n",
              "    }\n",
              "    60% {\n",
              "      border-color: transparent;\n",
              "      border-right-color: var(--fill-color);\n",
              "    }\n",
              "    80% {\n",
              "      border-color: transparent;\n",
              "      border-right-color: var(--fill-color);\n",
              "      border-bottom-color: var(--fill-color);\n",
              "    }\n",
              "    90% {\n",
              "      border-color: transparent;\n",
              "      border-bottom-color: var(--fill-color);\n",
              "    }\n",
              "  }\n",
              "</style>\n",
              "\n",
              "  <script>\n",
              "    async function quickchart(key) {\n",
              "      const quickchartButtonEl =\n",
              "        document.querySelector('#' + key + ' button');\n",
              "      quickchartButtonEl.disabled = true;  // To prevent multiple clicks.\n",
              "      quickchartButtonEl.classList.add('colab-df-spinner');\n",
              "      try {\n",
              "        const charts = await google.colab.kernel.invokeFunction(\n",
              "            'suggestCharts', [key], {});\n",
              "      } catch (error) {\n",
              "        console.error('Error during call to suggestCharts:', error);\n",
              "      }\n",
              "      quickchartButtonEl.classList.remove('colab-df-spinner');\n",
              "      quickchartButtonEl.classList.add('colab-df-quickchart-complete');\n",
              "    }\n",
              "    (() => {\n",
              "      let quickchartButtonEl =\n",
              "        document.querySelector('#df-43e67352-ffa5-4767-806f-bb56ffbde5b4 button');\n",
              "      quickchartButtonEl.style.display =\n",
              "        google.colab.kernel.accessAllowed ? 'block' : 'none';\n",
              "    })();\n",
              "  </script>\n",
              "</div>\n",
              "\n",
              "    </div>\n",
              "  </div>\n"
            ],
            "application/vnd.google.colaboratory.intrinsic+json": {
              "type": "dataframe",
              "variable_name": "df_train",
              "summary": "{\n  \"name\": \"df_train\",\n  \"rows\": 4996,\n  \"fields\": [\n    {\n      \"column\": \"text\",\n      \"properties\": {\n        \"dtype\": \"string\",\n        \"num_unique_values\": 4989,\n        \"samples\": [\n          \"Bought some Emerica Jeans which were reduced from \\u00a345 to \\u00a312.50, they're amazing value! Delivery was hassle free too,  even at Royal Mail 2nd Class.  Overall, very happy with UrbanSurfer and will definitely shop again from their wide selection of shoes!\",\n          \"Have always been pleased with sales and service. Wish there were more reviews... 9.5 times out of 10 I always buy from here!\",\n          \"I was glad to have come accross this company on the web. They have some great unique items that you don't see in every other store or site. I also called there Customer Service to ask a few questions. They were very helpful and knew what they were talking about. The items I bought were shipped quickly and I received the stuff as decribed. No issues no problems. I am going to buy several of this years Christmas presents here. This is a good company and I would do buisness with them again and recommend them to my friends and family.\"\n        ],\n        \"semantic_type\": \"\",\n        \"description\": \"\"\n      }\n    },\n    {\n      \"column\": \"age\",\n      \"properties\": {\n        \"dtype\": \"number\",\n        \"std\": 18,\n        \"min\": 15,\n        \"max\": 113,\n        \"num_unique_values\": 94,\n        \"samples\": [\n          16,\n          18,\n          71\n        ],\n        \"semantic_type\": \"\",\n        \"description\": \"\"\n      }\n    },\n    {\n      \"column\": \"ageRange\",\n      \"properties\": {\n        \"dtype\": \"category\",\n        \"num_unique_values\": 4,\n        \"samples\": [\n          \"15-24\",\n          \"65+\",\n          \"25-54\"\n        ],\n        \"semantic_type\": \"\",\n        \"description\": \"\"\n      }\n    },\n    {\n      \"column\": \"gender\",\n      \"properties\": {\n        \"dtype\": \"category\",\n        \"num_unique_values\": 2,\n        \"samples\": [\n          \"F\",\n          \"M\"\n        ],\n        \"semantic_type\": \"\",\n        \"description\": \"\"\n      }\n    },\n    {\n      \"column\": \"data_for\",\n      \"properties\": {\n        \"dtype\": \"category\",\n        \"num_unique_values\": 1,\n        \"samples\": [\n          \"train\"\n        ],\n        \"semantic_type\": \"\",\n        \"description\": \"\"\n      }\n    },\n    {\n      \"column\": \"label\",\n      \"properties\": {\n        \"dtype\": \"number\",\n        \"std\": 0,\n        \"min\": 0,\n        \"max\": 1,\n        \"num_unique_values\": 2,\n        \"samples\": [\n          0\n        ],\n        \"semantic_type\": \"\",\n        \"description\": \"\"\n      }\n    }\n  ]\n}"
            }
          },
          "metadata": {},
          "execution_count": 4
        }
      ]
    },
    {
      "cell_type": "markdown",
      "source": [
        "# Lexical baseline model\n",
        "[Paper](https://aclanthology.org/P19-1246.pdf) <br>\n",
        "1. A bag-of-word (BOW) representation of the text including all the words in the corpus.\n",
        "2. Extract (3-6) word and character ngrams without pre-processing.\n",
        "3. Feed these features to a Logistic Regression model(train the model on 80% of the data, and test it on the remaining 20%)"
      ],
      "metadata": {
        "id": "ROCnsfvghCYn"
      }
    },
    {
      "cell_type": "code",
      "execution_count": null,
      "metadata": {
        "id": "D9zKnSSnOSrW"
      },
      "outputs": [],
      "source": [
        "import pandas as pd\n",
        "from sklearn.model_selection import train_test_split\n",
        "from sklearn.feature_extraction.text import CountVectorizer\n",
        "from sklearn.linear_model import LogisticRegression\n",
        "from sklearn.metrics import accuracy_score, classification_report\n",
        "from scipy.sparse import hstack\n"
      ]
    },
    {
      "cell_type": "code",
      "source": [
        "corpus = df_train.text.values\n",
        "labels = df_train.label.values"
      ],
      "metadata": {
        "id": "-6jIlZ3MgcYA"
      },
      "execution_count": null,
      "outputs": []
    },
    {
      "cell_type": "code",
      "source": [
        "# TEST CountVectorizer word tokenizer\n",
        "# Note: CountVectorizer excludes character len of 1 as it doesn't consider them as word n uses: \\b\\w\\w+\\b . Solution is to use own pattern like (?u)\\b\\w+\\b\n",
        "\n",
        "# v = CountVectorizer(ngram_range=(3, 6),token_pattern = r\"(?u)\\b\\w+\\b\",analyzer='word')\n",
        "# for i in v.fit([\"an apple a day keeps the doctor away\"]).vocabulary_:\n",
        "#   print(i)\n",
        "\n",
        "# TEST CountVectorizer char tokenizer\n",
        "# v = CountVectorizer(ngram_range=(3, 6), analyzer='char')\n",
        "# print (v.fit([\"an apple a day keeps the doctor away\"]).vocabulary_)"
      ],
      "metadata": {
        "id": "EmDdPLNVcm7V"
      },
      "execution_count": null,
      "outputs": []
    },
    {
      "cell_type": "markdown",
      "source": [
        "# Vectorize Text"
      ],
      "metadata": {
        "id": "iF0umjjQtfuj"
      }
    },
    {
      "cell_type": "code",
      "source": [
        "# CountVectorizers for word and character ngrams\n",
        "vectorizer_char = CountVectorizer(ngram_range=(3, 6), analyzer='char')\n",
        "vectorizer_word = CountVectorizer(ngram_range=(3, 6),token_pattern = r\"(?u)\\b\\w+\\b\", analyzer='word')\n",
        "\n",
        "# Fit and transform the corpus using both vectorizers\n",
        "X_char = vectorizer_char.fit_transform(corpus)\n",
        "X_word = vectorizer_word.fit_transform(corpus)\n",
        "\n",
        "# Combine character and word ngrams features\n",
        "X = hstack([X_char, X_word]) # hstack() is used to stack or arrange arrays in sequence horizontally (column-wise)"
      ],
      "metadata": {
        "id": "zdZE7vuAgcan",
        "colab": {
          "base_uri": "https://localhost:8080/"
        },
        "outputId": "cfe66c76-57ff-47d4-da56-d8433b673bb3"
      },
      "execution_count": null,
      "outputs": [
        {
          "output_type": "execute_result",
          "data": {
            "text/plain": [
              "<4996x1382642 sparse matrix of type '<class 'numpy.int64'>'\n",
              "\twith 5998248 stored elements in Compressed Sparse Row format>"
            ]
          },
          "metadata": {},
          "execution_count": 20
        }
      ]
    },
    {
      "cell_type": "markdown",
      "source": [
        "# Train Logistic Regression Model"
      ],
      "metadata": {
        "id": "RpI3ZnGStjLl"
      }
    },
    {
      "cell_type": "code",
      "source": [
        "# Split data into training and testing sets\n",
        "X_train, X_test, y_train, y_test = train_test_split(X, labels, test_size=0.2, random_state=42)"
      ],
      "metadata": {
        "id": "o61AgQgSjctQ"
      },
      "execution_count": null,
      "outputs": []
    },
    {
      "cell_type": "code",
      "source": [
        "# Train a Logistic Regression model\n",
        "model = LogisticRegression(max_iter=1000)\n",
        "model.fit(X_train, y_train)"
      ],
      "metadata": {
        "id": "Ur4iVEYoiMjA"
      },
      "execution_count": null,
      "outputs": []
    },
    {
      "cell_type": "code",
      "source": [
        "# Predict and evaluate the model\n",
        "y_pred = model.predict(X_test)\n",
        "accuracy = accuracy_score(y_test, y_pred)\n",
        "report = classification_report(y_test, y_pred)\n",
        "\n",
        "# Print the results\n",
        "print(f\"Accuracy: {accuracy}\")\n",
        "print(\"Classification Report:\")\n",
        "print(report)"
      ],
      "metadata": {
        "colab": {
          "base_uri": "https://localhost:8080/"
        },
        "id": "8s0PRkujhna2",
        "outputId": "4ab50f54-3460-49e8-aeab-bd3f0310e39b"
      },
      "execution_count": null,
      "outputs": [
        {
          "output_type": "stream",
          "name": "stdout",
          "text": [
            "Accuracy: 0.642\n",
            "Classification Report:\n",
            "              precision    recall  f1-score   support\n",
            "\n",
            "           0       0.64      0.62      0.63       495\n",
            "           1       0.64      0.67      0.65       505\n",
            "\n",
            "    accuracy                           0.64      1000\n",
            "   macro avg       0.64      0.64      0.64      1000\n",
            "weighted avg       0.64      0.64      0.64      1000\n",
            "\n"
          ]
        }
      ]
    },
    {
      "cell_type": "code",
      "source": [],
      "metadata": {
        "id": "XuuWaZd9hofR"
      },
      "execution_count": null,
      "outputs": []
    },
    {
      "cell_type": "code",
      "source": [],
      "metadata": {
        "id": "qY5ifXdahj8E"
      },
      "execution_count": null,
      "outputs": []
    },
    {
      "cell_type": "markdown",
      "source": [
        "# Measuring linguistic style"
      ],
      "metadata": {
        "id": "OVwqVHCMiUGl"
      }
    },
    {
      "cell_type": "markdown",
      "source": [
        "LIWC:\n",
        "1. Text->POS whole data\n",
        "2. filter LIWC categories\n",
        "3. sklearn vectorizer BOW\n",
        "5. train sklearn logistic reg a classifier on filtered words\n",
        "6. 10 words with strongest weights"
      ],
      "metadata": {
        "id": "XZW3eo1Ujg6Q"
      }
    },
    {
      "cell_type": "markdown",
      "source": [
        "# Load Libraries"
      ],
      "metadata": {
        "id": "aQptu5Wtle1L"
      }
    },
    {
      "cell_type": "code",
      "source": [
        "import nltk\n",
        "from nltk.corpus import stopwords\n",
        "from nltk.tokenize import word_tokenize\n",
        "from nltk import pos_tag\n",
        "from sklearn.feature_extraction.text import CountVectorizer\n",
        "from sklearn.model_selection import train_test_split\n",
        "from sklearn.linear_model import LogisticRegression\n",
        "from sklearn.metrics import accuracy_score, classification_report\n",
        "import numpy as np"
      ],
      "metadata": {
        "id": "8rtWWVBvkOPx"
      },
      "execution_count": null,
      "outputs": []
    },
    {
      "cell_type": "markdown",
      "source": [
        "# Download necessary NLTK resources\n"
      ],
      "metadata": {
        "id": "pyoC-OKWlhGW"
      }
    },
    {
      "cell_type": "code",
      "source": [
        "nltk.download('punkt')\n",
        "nltk.download('averaged_perceptron_tagger')\n",
        "nltk.download('stopwords')\n"
      ],
      "metadata": {
        "colab": {
          "base_uri": "https://localhost:8080/"
        },
        "id": "Y4Xe3kdBlhVf",
        "outputId": "bcfe8b0a-063d-497c-d83f-2ccd4c616097"
      },
      "execution_count": null,
      "outputs": [
        {
          "output_type": "stream",
          "name": "stderr",
          "text": [
            "[nltk_data] Downloading package punkt to /root/nltk_data...\n",
            "[nltk_data]   Unzipping tokenizers/punkt.zip.\n",
            "[nltk_data] Downloading package averaged_perceptron_tagger to\n",
            "[nltk_data]     /root/nltk_data...\n",
            "[nltk_data]   Unzipping taggers/averaged_perceptron_tagger.zip.\n",
            "[nltk_data] Downloading package stopwords to /root/nltk_data...\n",
            "[nltk_data]   Unzipping corpora/stopwords.zip.\n"
          ]
        },
        {
          "output_type": "execute_result",
          "data": {
            "text/plain": [
              "True"
            ]
          },
          "metadata": {},
          "execution_count": 30
        }
      ]
    },
    {
      "cell_type": "markdown",
      "source": [
        "\n",
        "# Define LIWC categories based on POS tags\n",
        "The **nine LIWC-derived categories** are: articles, auxiliary verbs, conjunctions, high-frequency adverbs, impersonal pronouns, negations, personal pronouns, prepositions, and quantifiers.\n",
        "\n"
      ],
      "metadata": {
        "id": "2EjquLanlmmn"
      }
    },
    {
      "cell_type": "markdown",
      "source": [
        "![image.png](data:image/png;base64,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)\n",
        "\n",
        "src: Molly E. Ireland, Richard B. Slatcher, Paul W. Eastwick, Lauren E. Scissors, Eli J. Finkel, and James W. Pennebaker. 2011. Language style matching predicts relationship initiation and stability. Psychological Science, 22:39–44."
      ],
      "metadata": {
        "id": "j3EikbFclW2O"
      }
    },
    {
      "cell_type": "code",
      "source": [
        "liwc_categories = {\n",
        "    'articles': ['DT'],  # Determiner\n",
        "    'auxiliary_verbs': ['MD', 'VB', 'VBD', 'VBG', 'VBN', 'VBP', 'VBZ'],  # Modal/Auxiliary verbs\n",
        "    'conjunctions': ['CC'],  # Coordinating conjunction\n",
        "    'high_freq_adverbs': ['RB', 'RBR', 'RBS'],  # Adverbs\n",
        "    'impersonal_pronouns': ['PRP$', 'WP$', 'WP'],  # Impersonal pronouns\n",
        "    'negations': ['RB'],  # since 'not', 'never' are adverbs\n",
        "    'personal_pronouns': ['PRP'],  # Personal pronouns\n",
        "    'prepositions': ['IN'],  # Prepositions\n",
        "    'quantifiers': ['CD', 'PDT']  # Cardinals, Predeterminers\n",
        "}"
      ],
      "metadata": {
        "id": "g8FZpUzplo-D"
      },
      "execution_count": null,
      "outputs": []
    },
    {
      "cell_type": "markdown",
      "source": [
        "# Extract LIWC words"
      ],
      "metadata": {
        "id": "dUMlzH2Hlxvu"
      }
    },
    {
      "cell_type": "code",
      "source": [
        "corpus = df_train.text.values\n",
        "labels = df_train.label.values"
      ],
      "metadata": {
        "id": "Sg9XEX_tgcct"
      },
      "execution_count": null,
      "outputs": []
    },
    {
      "cell_type": "code",
      "source": [
        "def extract_liwc_words(text):\n",
        "    \"\"\"\n",
        "      Extract words based on LIWC categories\n",
        "    \"\"\"\n",
        "    tokens = word_tokenize(text)\n",
        "    pos_tags = pos_tag(tokens)\n",
        "    liwc_words = []\n",
        "    for word, tag in pos_tags:\n",
        "        for category, tags in liwc_categories.items():\n",
        "            if tag in tags:\n",
        "                liwc_words.append(word)\n",
        "                break\n",
        "    return ' '.join(liwc_words)\n",
        "\n",
        "vectorizer = CountVectorizer()\n",
        "\n",
        "liwc_corpus = [extract_liwc_words(doc) for doc in corpus]\n",
        "X = vectorizer.fit_transform(liwc_corpus)\n",
        "\n",
        "X_train, X_test, y_train, y_test = train_test_split(X, labels, test_size=0.2, random_state=42)\n"
      ],
      "metadata": {
        "id": "RHB-5oXIkTeR"
      },
      "execution_count": null,
      "outputs": []
    },
    {
      "cell_type": "markdown",
      "source": [
        "# Train Logistic Regression Model"
      ],
      "metadata": {
        "id": "4BZWnHrxmPDY"
      }
    },
    {
      "cell_type": "code",
      "source": [
        "model = LogisticRegression(max_iter=1000)\n",
        "model.fit(X_train, y_train)\n"
      ],
      "metadata": {
        "id": "uTH-O0BRkUSI",
        "colab": {
          "base_uri": "https://localhost:8080/",
          "height": 75
        },
        "outputId": "84c33c88-8dfd-4bad-87a0-03fd5196d6fe"
      },
      "execution_count": null,
      "outputs": [
        {
          "output_type": "execute_result",
          "data": {
            "text/plain": [
              "LogisticRegression(max_iter=1000)"
            ],
            "text/html": [
              "<style>#sk-container-id-1 {color: black;background-color: white;}#sk-container-id-1 pre{padding: 0;}#sk-container-id-1 div.sk-toggleable {background-color: white;}#sk-container-id-1 label.sk-toggleable__label {cursor: pointer;display: block;width: 100%;margin-bottom: 0;padding: 0.3em;box-sizing: border-box;text-align: center;}#sk-container-id-1 label.sk-toggleable__label-arrow:before {content: \"▸\";float: left;margin-right: 0.25em;color: #696969;}#sk-container-id-1 label.sk-toggleable__label-arrow:hover:before {color: black;}#sk-container-id-1 div.sk-estimator:hover label.sk-toggleable__label-arrow:before {color: black;}#sk-container-id-1 div.sk-toggleable__content {max-height: 0;max-width: 0;overflow: hidden;text-align: left;background-color: #f0f8ff;}#sk-container-id-1 div.sk-toggleable__content pre {margin: 0.2em;color: black;border-radius: 0.25em;background-color: #f0f8ff;}#sk-container-id-1 input.sk-toggleable__control:checked~div.sk-toggleable__content {max-height: 200px;max-width: 100%;overflow: auto;}#sk-container-id-1 input.sk-toggleable__control:checked~label.sk-toggleable__label-arrow:before {content: \"▾\";}#sk-container-id-1 div.sk-estimator input.sk-toggleable__control:checked~label.sk-toggleable__label {background-color: #d4ebff;}#sk-container-id-1 div.sk-label input.sk-toggleable__control:checked~label.sk-toggleable__label {background-color: #d4ebff;}#sk-container-id-1 input.sk-hidden--visually {border: 0;clip: rect(1px 1px 1px 1px);clip: rect(1px, 1px, 1px, 1px);height: 1px;margin: -1px;overflow: hidden;padding: 0;position: absolute;width: 1px;}#sk-container-id-1 div.sk-estimator {font-family: monospace;background-color: #f0f8ff;border: 1px dotted black;border-radius: 0.25em;box-sizing: border-box;margin-bottom: 0.5em;}#sk-container-id-1 div.sk-estimator:hover {background-color: #d4ebff;}#sk-container-id-1 div.sk-parallel-item::after {content: \"\";width: 100%;border-bottom: 1px solid gray;flex-grow: 1;}#sk-container-id-1 div.sk-label:hover label.sk-toggleable__label {background-color: #d4ebff;}#sk-container-id-1 div.sk-serial::before {content: \"\";position: absolute;border-left: 1px solid gray;box-sizing: border-box;top: 0;bottom: 0;left: 50%;z-index: 0;}#sk-container-id-1 div.sk-serial {display: flex;flex-direction: column;align-items: center;background-color: white;padding-right: 0.2em;padding-left: 0.2em;position: relative;}#sk-container-id-1 div.sk-item {position: relative;z-index: 1;}#sk-container-id-1 div.sk-parallel {display: flex;align-items: stretch;justify-content: center;background-color: white;position: relative;}#sk-container-id-1 div.sk-item::before, #sk-container-id-1 div.sk-parallel-item::before {content: \"\";position: absolute;border-left: 1px solid gray;box-sizing: border-box;top: 0;bottom: 0;left: 50%;z-index: -1;}#sk-container-id-1 div.sk-parallel-item {display: flex;flex-direction: column;z-index: 1;position: relative;background-color: white;}#sk-container-id-1 div.sk-parallel-item:first-child::after {align-self: flex-end;width: 50%;}#sk-container-id-1 div.sk-parallel-item:last-child::after {align-self: flex-start;width: 50%;}#sk-container-id-1 div.sk-parallel-item:only-child::after {width: 0;}#sk-container-id-1 div.sk-dashed-wrapped {border: 1px dashed gray;margin: 0 0.4em 0.5em 0.4em;box-sizing: border-box;padding-bottom: 0.4em;background-color: white;}#sk-container-id-1 div.sk-label label {font-family: monospace;font-weight: bold;display: inline-block;line-height: 1.2em;}#sk-container-id-1 div.sk-label-container {text-align: center;}#sk-container-id-1 div.sk-container {/* jupyter's `normalize.less` sets `[hidden] { display: none; }` but bootstrap.min.css set `[hidden] { display: none !important; }` so we also need the `!important` here to be able to override the default hidden behavior on the sphinx rendered scikit-learn.org. See: https://github.com/scikit-learn/scikit-learn/issues/21755 */display: inline-block !important;position: relative;}#sk-container-id-1 div.sk-text-repr-fallback {display: none;}</style><div id=\"sk-container-id-1\" class=\"sk-top-container\"><div class=\"sk-text-repr-fallback\"><pre>LogisticRegression(max_iter=1000)</pre><b>In a Jupyter environment, please rerun this cell to show the HTML representation or trust the notebook. <br />On GitHub, the HTML representation is unable to render, please try loading this page with nbviewer.org.</b></div><div class=\"sk-container\" hidden><div class=\"sk-item\"><div class=\"sk-estimator sk-toggleable\"><input class=\"sk-toggleable__control sk-hidden--visually\" id=\"sk-estimator-id-1\" type=\"checkbox\" checked><label for=\"sk-estimator-id-1\" class=\"sk-toggleable__label sk-toggleable__label-arrow\">LogisticRegression</label><div class=\"sk-toggleable__content\"><pre>LogisticRegression(max_iter=1000)</pre></div></div></div></div></div>"
            ]
          },
          "metadata": {},
          "execution_count": 35
        }
      ]
    },
    {
      "cell_type": "markdown",
      "source": [
        "# Predict and evaluate the model"
      ],
      "metadata": {
        "id": "0rt6vXy9mUvG"
      }
    },
    {
      "cell_type": "code",
      "source": [
        "y_pred = model.predict(X_test)\n",
        "accuracy = accuracy_score(y_test, y_pred)\n",
        "report = classification_report(y_test, y_pred)\n",
        "print(f\"Accuracy: {accuracy}\")\n",
        "print(\"Classification Report:\")\n",
        "print(report)\n",
        "\n"
      ],
      "metadata": {
        "colab": {
          "base_uri": "https://localhost:8080/"
        },
        "id": "OLLpLyHImVCv",
        "outputId": "1c1cd1af-19da-4ffb-c07b-748caa28cfbe"
      },
      "execution_count": null,
      "outputs": [
        {
          "output_type": "stream",
          "name": "stdout",
          "text": [
            "Accuracy: 0.607\n",
            "Classification Report:\n",
            "              precision    recall  f1-score   support\n",
            "\n",
            "           0       0.61      0.55      0.58       495\n",
            "           1       0.60      0.66      0.63       505\n",
            "\n",
            "    accuracy                           0.61      1000\n",
            "   macro avg       0.61      0.61      0.61      1000\n",
            "weighted avg       0.61      0.61      0.61      1000\n",
            "\n"
          ]
        }
      ]
    },
    {
      "cell_type": "markdown",
      "source": [
        "# Top 10 words with the strongest weights\n"
      ],
      "metadata": {
        "id": "T1RARQwamacu"
      }
    },
    {
      "cell_type": "code",
      "source": [
        "feature_names = vectorizer.get_feature_names_out()\n",
        "feature_names"
      ],
      "metadata": {
        "colab": {
          "base_uri": "https://localhost:8080/"
        },
        "id": "kHiTjZuymapP",
        "outputId": "034d707d-3df8-4147-a8be-7d6fe9bc0153"
      },
      "execution_count": null,
      "outputs": [
        {
          "output_type": "execute_result",
          "data": {
            "text/plain": [
              "array(['00', '000', '0005963490', ..., 'zazzle', 'zero', 'zylnn'],\n",
              "      dtype=object)"
            ]
          },
          "metadata": {},
          "execution_count": 66
        }
      ]
    },
    {
      "cell_type": "code",
      "source": [
        "coefs = model.coef_[0] # We need coef_[0] to access the model's coefficients because the coef_ attribute returns a 2D array where each row corresponds to a class and each column corresponds to a feature.\n",
        "coefs"
      ],
      "metadata": {
        "colab": {
          "base_uri": "https://localhost:8080/"
        },
        "id": "T6eqn1xImgZY",
        "outputId": "860f13c5-1f9e-4f05-d40c-107220eeb5bb"
      },
      "execution_count": null,
      "outputs": [
        {
          "output_type": "execute_result",
          "data": {
            "text/plain": [
              "array([ 0.2617671 ,  0.11303786,  0.        , ..., -0.13054829,\n",
              "       -0.2669262 , -0.08444388])"
            ]
          },
          "metadata": {},
          "execution_count": 67
        }
      ]
    },
    {
      "cell_type": "code",
      "source": [
        "# top10_indices = np.argsort(np.abs(coefs))[-10:] #np.argsort sorts the value and returns the index in ascending order so we take the tail\n",
        "top10_indices = np.argsort((coefs))[-10:] # without np.abs\n",
        "# In NumPy, the .abs() function calculates the absolute value of a given number or each element in an array. The absolute value of a number is its non-negative value or the number's distance from zero.\n",
        "top10_indices"
      ],
      "metadata": {
        "colab": {
          "base_uri": "https://localhost:8080/"
        },
        "id": "JpIbrMadmmsD",
        "outputId": "eed27608-8328-419c-8482-affa3adfceb4"
      },
      "execution_count": null,
      "outputs": [
        {
          "output_type": "execute_result",
          "data": {
            "text/plain": [
              "array([1459, 1648, 1442,  421, 3402, 4122, 2850, 1873, 4327, 2296])"
            ]
          },
          "metadata": {},
          "execution_count": 68
        }
      ]
    },
    {
      "cell_type": "code",
      "source": [
        "top10_words = feature_names[top10_indices]\n",
        "top10_words"
      ],
      "metadata": {
        "colab": {
          "base_uri": "https://localhost:8080/"
        },
        "id": "5Dbi47M8mpIn",
        "outputId": "1fbc7f7c-65ae-4c5c-b440-4f91db6a6189"
      },
      "execution_count": null,
      "outputs": [
        {
          "output_type": "execute_result",
          "data": {
            "text/plain": [
              "array(['dispatched', 'ensure', 'discounted', 'across', 'requested',\n",
              "       'timely', 'overall', 'flawlessly', 'verify', 'install'],\n",
              "      dtype=object)"
            ]
          },
          "metadata": {},
          "execution_count": 69
        }
      ]
    },
    {
      "cell_type": "code",
      "source": [
        "top10_weights = coefs[top10_indices]\n",
        "top10_weights"
      ],
      "metadata": {
        "colab": {
          "base_uri": "https://localhost:8080/"
        },
        "id": "0BpWKI1mmqb5",
        "outputId": "53f6cdee-ff75-49aa-feca-edcab6992cb3"
      },
      "execution_count": null,
      "outputs": [
        {
          "output_type": "execute_result",
          "data": {
            "text/plain": [
              "array([1.10084915, 1.10716743, 1.16028976, 1.20639808, 1.25982213,\n",
              "       1.35179202, 1.35394534, 1.37571162, 1.40107426, 1.6278037 ])"
            ]
          },
          "metadata": {},
          "execution_count": 70
        }
      ]
    },
    {
      "cell_type": "code",
      "source": [
        "\n",
        "print(\"\\nTop 10 words with strongest weights and their weights:\")\n",
        "for word, weight in zip(top10_words, top10_weights):\n",
        "    print(f\"{word}: {weight}\")"
      ],
      "metadata": {
        "colab": {
          "base_uri": "https://localhost:8080/"
        },
        "id": "FjmXHmSbmi7N",
        "outputId": "3734b3cc-e86b-433e-ad1c-d5ca052a0419"
      },
      "execution_count": null,
      "outputs": [
        {
          "output_type": "stream",
          "name": "stdout",
          "text": [
            "\n",
            "Top 10 words with strongest weights and their weights:\n",
            "dispatched: 1.1008491516403387\n",
            "ensure: 1.1071674276347623\n",
            "discounted: 1.1602897578346536\n",
            "across: 1.2063980751041599\n",
            "requested: 1.2598221339819653\n",
            "timely: 1.3517920243236954\n",
            "overall: 1.3539453382414879\n",
            "flawlessly: 1.3757116174384558\n",
            "verify: 1.40107426170785\n",
            "install: 1.6278037009894897\n"
          ]
        }
      ]
    },
    {
      "cell_type": "code",
      "source": [],
      "metadata": {
        "id": "TN5S6TqamlyG"
      },
      "execution_count": null,
      "outputs": []
    },
    {
      "cell_type": "code",
      "source": [],
      "metadata": {
        "id": "81bP9-gxrQoi"
      },
      "execution_count": null,
      "outputs": []
    }
  ]
}